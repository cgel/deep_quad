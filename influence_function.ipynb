{
 "cells": [
  {
   "cell_type": "code",
   "execution_count": 1,
   "metadata": {
    "collapsed": false
   },
   "outputs": [
    {
     "name": "stdout",
     "output_type": "stream",
     "text": [
      "Extracting mnist_data/train-images-idx3-ubyte.gz\n",
      "Extracting mnist_data/train-labels-idx1-ubyte.gz\n",
      "Extracting mnist_data/t10k-images-idx3-ubyte.gz\n",
      "Extracting mnist_data/t10k-labels-idx1-ubyte.gz\n"
     ]
    }
   ],
   "source": [
    "from __future__ import absolute_import\n",
    "from __future__ import division\n",
    "from __future__ import print_function\n",
    "import os\n",
    "os.environ[\"CUDA_VISIBLE_DEVICES\"]=\"0\"\n",
    "%matplotlib inline\n",
    "\n",
    "import matplotlib\n",
    "import matplotlib.pyplot as plt\n",
    "import argparse\n",
    "import sys\n",
    "import numpy as np\n",
    "from tensorflow.examples.tutorials.mnist import input_data\n",
    "import tensorflow as tf\n",
    "import influence\n",
    "from mnist_convnet import deepnn, linear_model, two_layer_model\n",
    "from utils import corrupt_mnist\n",
    "import copy\n",
    "\n",
    "np.random.seed(1)\n",
    "\n",
    "FLAGS = None\n",
    "\n",
    "# Import data\n",
    "mnist = corrupt_mnist(input_data.read_data_sets(\"mnist_data\", one_hot=True), 0.0)\n",
    "\n",
    "# Create the model\n",
    "with tf.name_scope(\"net\"):\n",
    "    input_ph = tf.placeholder(tf.float32, [None, 784])\n",
    "    #y, weights = deepnn(input_ph)\n",
    "    #y, weights = linear_model(input_ph)\n",
    "    y, weights = two_layer_model(input_ph)\n",
    "\n",
    "# Define loss and optimizer\n",
    "with tf.name_scope(\"loss\"):\n",
    "    y_ = tf.placeholder(tf.float32, [None, 10], name=\"y_target\")\n",
    "    batch_loss = tf.nn.softmax_cross_entropy_with_logits(labels=y_, logits=y)\n",
    "    regularization = tf.reduce_sum( [tf.nn.l2_loss(w) for w in weights])\n",
    "    cross_entropy = tf.reduce_sum(batch_loss) + regularization * 0.001\n",
    "\n",
    "lr = tf.Variable(0.1)\n",
    "opt = tf.train.AdamOptimizer(lr)\n",
    "grads_and_vars = opt.compute_gradients(cross_entropy)\n",
    "train_step = opt.apply_gradients(grads_and_vars)\n",
    "\n",
    "# Test trained model\n",
    "with tf.name_scope(\"accuracy\"):\n",
    "    correct_prediction = tf.equal(tf.argmax(y, 1), tf.argmax(y_, 1))\n",
    "    accuracy = tf.reduce_mean(tf.cast(correct_prediction, tf.float32))\n",
    "\n",
    "saver = tf.train.Saver()\n",
    "sess = tf.InteractiveSession()\n",
    "\n",
    "tf.global_variables_initializer().run()\n",
    "\n",
    "gs = [g for g,v in grads_and_vars if g is not None]\n",
    "\n",
    "#def train(n, mnist=mnist, learning_rate=0.1e-4):\n",
    "#    sess.run(tf.assign(lr, learning_rate))\n",
    "#    for _ in range(n):\n",
    "#        batch_xs, batch_ys = mnist.train.next_batch(64)\n",
    "#        sess.run(train_step, feed_dict={input_ph: batch_xs, y_: batch_ys})\n",
    "        \n",
    "def test():\n",
    "    test_acc, test_loss = sess.run([accuracy, cross_entropy], feed_dict={input_ph: mnist.test.images,\n",
    "                                  y_: mnist.test.labels})\n",
    "    train_acc, train_loss = sess.run([accuracy, cross_entropy], feed_dict=train_feed_dic)\n",
    "    print(\"test acc\", test_acc)\n",
    "    print(\"test loss\", test_loss)\n",
    "    print(\"train acc\", train_acc)\n",
    "    print(\"train loss\", train_loss) \n",
    "    print(\"---\")\n",
    "    \n",
    "def testset_loss():\n",
    "    return sess.run(cross_entropy, feed_dict={input_ph: mnist.test.images, y_: mnist.test.labels})\n",
    "\n",
    "def train(n, trainset, learning_rate=0.1e-4):\n",
    "    sess.run(tf.assign(lr, learning_rate))\n",
    "    for _ in range(n):\n",
    "        batch_xs, batch_ys = trainset.next_batch(500)\n",
    "        sess.run(train_step, feed_dict={input_ph: batch_xs, y_: batch_ys})\n",
    "        \n",
    "# return a new dataset \n",
    "def mnist_i(i):\n",
    "    new_mnist = copy.deepcopy(mnist)\n",
    "    new_len = new_mnist.train.images.shape[0] -1\n",
    "    new_images_shape = [new_len] + list(new_mnist.train.images.shape[1:])\n",
    "    new_labels_shape = [new_len] + list(new_mnist.train.labels.shape[1:])\n",
    "    new_mnist.train.images.resize(new_images_shape)\n",
    "    new_mnist.train.labels.resize(new_labels_shape)\n",
    "    new_mnist.train.images[:] = np.delete(mnist.train.images, i, axis=0)\n",
    "    new_mnist.train.labels[:] = np.delete(mnist.train.labels, i, axis=0)\n",
    "    return new_mnist\n",
    "\n",
    "# return a new dataset \n",
    "def mnist_i2(i):\n",
    "    return (np.delete(mnist.train.images, i, axis=0), np.delete(mnist.train.labels, i, axis=0))\n",
    "\n",
    "class Dataset:\n",
    "    def __init__(self, data):\n",
    "        self.images = data[0]\n",
    "        self.labels = data[1]\n",
    "        self.a = 0 \n",
    "        self.b = None \n",
    "        \n",
    "    def next_batch(self, batch_size):\n",
    "        if self.b == None or self.b == len(self.labels):\n",
    "            self.a = 0\n",
    "            self.b = batch_size\n",
    "        else:\n",
    "            self.a = self.b\n",
    "            self.b = min(self.a + batch_size, len(self.labels) )\n",
    "            \n",
    "        return (self.images[self.a:self.b], self.labels[self.a:self.b])\n",
    "    \n",
    "def report():\n",
    "    acc, gs_np, loss = sess.run([accuracy, gs, cross_entropy], feed_dict=train_feed_dic)\n",
    "    print(\"train:\")\n",
    "    print(\"  grad norm\",influence.lnorm(gs_np)/len(train_feed_dic[y_]))\n",
    "    print(\"  loss\", loss/len(train_feed_dic[y_]))\n",
    "    print(\"  accuracy\", acc)\n",
    "    acc, gs_np, loss = sess.run([accuracy, gs, cross_entropy], feed_dict=test_feed_dic)\n",
    "    print(\"test:\")\n",
    "    print(\"  grad norm\",influence.lnorm(gs_np)/len(test_feed_dic[y_]))\n",
    "    print(\"  loss\", loss/len(test_feed_dic[y_]))\n",
    "    print(\"  accuracy\", acc)\n",
    "\n",
    "summary_writter = tf.summary.FileWriter(\"./Hvp_summaries\", sess.graph)\n",
    "\n",
    "testset = (mnist.test.images, mnist.test.labels)\n",
    "trainset = (mnist.train.images, mnist.train.labels)\n",
    "#trainset = (mnist.train.images[0:10000], mnist.train.labels[0:10000])\n",
    "\n",
    "test_feed_dic = {input_ph: mnist.test.images, y_: mnist.test.labels}\n",
    "\n",
    "batch_xs, batch_ys = mnist.train.next_batch(mnist.test.images.shape[0])\n",
    "train_feed_dic = {input_ph:batch_xs, y_:batch_ys}"
   ]
  },
  {
   "cell_type": "code",
   "execution_count": 2,
   "metadata": {
    "collapsed": true
   },
   "outputs": [],
   "source": [
    "#saver.restore(sess, \"/home/cgel/deep_quad/mnist_convnet_corrupted.ckpt\")"
   ]
  },
  {
   "cell_type": "code",
   "execution_count": 4,
   "metadata": {
    "collapsed": false
   },
   "outputs": [
    {
     "name": "stdout",
     "output_type": "stream",
     "text": [
      "train:\n",
      "  grad norm 0.0393327155574\n",
      "  loss 0.036516229248\n",
      "  accuracy 0.9922\n",
      "test:\n",
      "  grad norm 0.0584514881685\n",
      "  loss 0.0791594482422\n",
      "  accuracy 0.9769\n",
      " ---  0  --- \n",
      "train:\n",
      "  grad norm 0.0261751665841\n",
      "  loss 0.0226336837769\n",
      "  accuracy 0.9969\n",
      "test:\n",
      "  grad norm 0.0584995790072\n",
      "  loss 0.0707665283203\n",
      "  accuracy 0.9782\n",
      " ---  1  --- \n",
      "train:\n",
      "  grad norm 0.022218983457\n",
      "  loss 0.0141165527344\n",
      "  accuracy 0.999\n",
      "test:\n",
      "  grad norm 0.0647739347334\n",
      "  loss 0.0668548278809\n",
      "  accuracy 0.979\n",
      " ---  2  --- \n",
      "train:\n",
      "  grad norm 0.0124586524985\n",
      "  loss 0.00866350708008\n",
      "  accuracy 0.9997\n",
      "test:\n",
      "  grad norm 0.0584577302205\n",
      "  loss 0.0648181091309\n",
      "  accuracy 0.98\n",
      " ---  3  --- \n",
      "train:\n",
      "  grad norm 0.00748654817126\n",
      "  loss 0.00528424339294\n",
      "  accuracy 1.0\n",
      "test:\n",
      "  grad norm 0.0633198110377\n",
      "  loss 0.0642303100586\n",
      "  accuracy 0.9806\n",
      "XXXX\n",
      "Done\n"
     ]
    }
   ],
   "source": [
    "report()\n",
    "for i in range(4):\n",
    "    print(\" --- \", i, \" --- \")\n",
    "    train(2000, mnist.train, 1e-4)\n",
    "    report()\n",
    "print(\"XXXX\")\n",
    "print(\"Done\")"
   ]
  },
  {
   "cell_type": "code",
   "execution_count": 8,
   "metadata": {
    "collapsed": false
   },
   "outputs": [
    {
     "name": "stdout",
     "output_type": "stream",
     "text": [
      "Error: 126.113916734\n",
      "- iter: 0\n",
      "Error: 0.00533810525464\n",
      "dad: 3180.95306325\n",
      "alpha: 4.99998575202\n",
      "beta: 1.79162963668e-09\n",
      "Ad scaling: 0.2000005701\n",
      "d norm: 0.00533810525894\n",
      "- iter: 1\n",
      "Error: 3.0088775045e-06\n",
      "dad: 5.70538345869e-06\n",
      "alpha: 4.9944702071\n",
      "beta: 3.17712342672e-07\n",
      "Ad scaling: 0.200221468243\n",
      "d norm: 3.00887568787e-06\n",
      "- iter: 2\n",
      "Error: 2.55698273561e-09\n",
      "dad: 1.81170320666e-12\n",
      "alpha: 4.9971374977\n",
      "beta: 5.0061315152e-07\n",
      "Ad scaling: 0.200114583981\n",
      "d norm: 2.1289007366e-09\n",
      "- iter: 3\n",
      "Error: 1.41804034571e-09\n",
      "dad: 9.07383016564e-19\n",
      "alpha: 4.99482136504\n",
      "beta: 4.77179370207e-07\n",
      "Ad scaling: 0.200207357821\n",
      "d norm: 1.470605673e-12\n",
      "- iter: 4\n",
      "Error: 1.41805882732e-09\n",
      "dad: 4.32940573911e-25\n",
      "alpha: 4.99532763567\n",
      "beta: 7.00946153753e-07\n",
      "Ad scaling: 0.200187091782\n",
      "d norm: 1.23122837029e-15\n",
      "- iter: 5\n",
      "Error: 1.41805880967e-09\n",
      "dad: 3.03447662478e-31\n",
      "alpha: 4.99566292538\n",
      "beta: 4.16870505398e-07\n",
      "Ad scaling: 0.200173605165\n",
      "d norm: 7.94948761002e-19\n",
      "- iter: 6\n",
      "Error: 1.41805880966e-09\n",
      "dad: 1.26501203211e-37\n",
      "alpha: 4.9955514504\n",
      "beta: 5.41177349996e-07\n",
      "Ad scaling: 0.200178112883\n",
      "d norm: 5.84802162138e-22\n",
      "- iter: 7\n",
      "Error: 1.41805880534e-09\n",
      "dad: 6.84420967856e-44\n",
      "alpha: 4.99682797319\n",
      "beta: 5.33512111615e-07\n",
      "Ad scaling: 0.20012696085\n",
      "d norm: 4.27150687314e-25\n",
      "- iter: 8\n",
      "Error: 1.41805878929e-09\n",
      "dad: 3.65276421169e-50\n",
      "alpha: 4.9950558469\n",
      "beta: 4.84478556295e-07\n",
      "Ad scaling: 0.200197956967\n",
      "d norm: 2.97316066557e-28\n",
      "- iter: 9\n",
      "Error: 1.41805880092e-09\n",
      "dad: 1.76967570725e-56\n",
      "alpha: 4.99508470644\n",
      "beta: 6.76670048248e-07\n",
      "Ad scaling: 0.200196824423\n",
      "d norm: 2.44572091226e-31\n"
     ]
    }
   ],
   "source": [
    "scale = float(len(trainset[0])) * 10\n",
    "inf = influence.Influence(cross_entropy/scale, input_ph, y_, testset, trainset, cg_iters = 10, dampening=0.1, vervose=3)"
   ]
  },
  {
   "cell_type": "code",
   "execution_count": 5,
   "metadata": {
    "collapsed": false
   },
   "outputs": [],
   "source": [
    "#inf.recompute_s(cg_iters = 20, dampening=4e-2, vervose=1)"
   ]
  },
  {
   "cell_type": "code",
   "execution_count": 6,
   "metadata": {
    "collapsed": false
   },
   "outputs": [
    {
     "name": "stdout",
     "output_type": "stream",
     "text": [
      "0\n",
      "10000\n",
      "20000\n",
      "30000\n",
      "40000\n",
      "50000\n"
     ]
    }
   ],
   "source": [
    "# compute the influences for every image in the training set\n",
    "trainset_influence_map = []\n",
    "trainset_influence = []\n",
    "for i in range(len(mnist.train.labels)):\n",
    "    z = (mnist.train.images[i:i+1], mnist.train.labels[i:i+1])\n",
    "    influ, z_grad = inf.of_and_g(z)\n",
    "    trainset_influence.append(influ*scale)\n",
    "    trainset_influence_map.append( (influ, i))\n",
    "    if i % 10000==0:\n",
    "        print(i)"
   ]
  },
  {
   "cell_type": "code",
   "execution_count": 7,
   "metadata": {
    "collapsed": false
   },
   "outputs": [],
   "source": [
    "abs_influence = []\n",
    "for i_influence, i in trainset_influence_map:\n",
    "    abs_influence.append((abs(i_influence), i))"
   ]
  },
  {
   "cell_type": "code",
   "execution_count": 8,
   "metadata": {
    "collapsed": true
   },
   "outputs": [],
   "source": [
    "abs_influence.sort(reverse=True)"
   ]
  },
  {
   "cell_type": "code",
   "execution_count": 9,
   "metadata": {
    "collapsed": false
   },
   "outputs": [],
   "source": [
    "rank = []\n",
    "for i in range(len(trainset_influence_map)):\n",
    "    j = abs_influence[i][1]\n",
    "    rank.append( (trainset_influence[j], j) )"
   ]
  },
  {
   "cell_type": "code",
   "execution_count": 10,
   "metadata": {
    "collapsed": false
   },
   "outputs": [],
   "source": [
    "checkpoint_file = \"/home/cgel/deep_quad/checkpoints/linear.ckpt\"\n",
    "#saver.save(sess, checkpoint_file)"
   ]
  },
  {
   "cell_type": "code",
   "execution_count": 11,
   "metadata": {
    "collapsed": false
   },
   "outputs": [
    {
     "name": "stdout",
     "output_type": "stream",
     "text": [
      "34256\n",
      "-6.501805069e-08 -0.158447\n",
      "26233\n",
      "6.00326351563e-08 -0.119629\n",
      "34611\n",
      "-5.48544132924e-08 -0.150391\n",
      "30182\n",
      "5.37448592606e-08 -0.112305\n",
      "29204\n",
      "-5.51296183586e-08 -0.1521\n",
      "48136\n",
      "5.32006866863e-08 -0.119873\n",
      "26644\n",
      "-5.21311451746e-08 -0.147217\n",
      "1500\n",
      "-5.41463588932e-08 -0.150635\n",
      "47799\n",
      "-5.06597708078e-08 -0.147461\n",
      "4591\n",
      "-4.88428838962e-08 -0.150391\n",
      "983\n",
      "5.11730939289e-08 -0.112061\n",
      "36062\n",
      "4.78509273949e-08 -0.115479\n",
      "27050\n",
      "4.68756031127e-08 -0.114746\n",
      "14693\n",
      "-2.79529373238e-08 -0.141602\n",
      "16008\n",
      "-4.14123588155e-08 -0.147705\n",
      "37386\n",
      "4.80440005576e-08 -0.112549\n",
      "45806\n",
      "-4.44314082349e-08 -0.147217\n",
      "28941\n",
      "4.8639503948e-08 -0.112793\n",
      "10809\n",
      "-4.29993601617e-08 -0.140381\n",
      "54878\n",
      "4.56020158126e-08 -0.11499\n"
     ]
    }
   ],
   "source": [
    "# leave one out retraining \n",
    "subset = rank[0:20]\n",
    "influence_acc = []\n",
    "grads_l = []\n",
    "saver.restore(sess, checkpoint_file)\n",
    "base_testset_loss = testset_loss()\n",
    "for _,i in subset:\n",
    "    print(i)\n",
    "    z = (mnist.train.images[i:i+1], mnist.train.labels[i:i+1])\n",
    "    z_influ, z_grad = inf.of_and_g(z)\n",
    "    grads_l.append(z_grad*scale)\n",
    "    new_mnist = Dataset(mnist_i2(i))\n",
    "    train(10000, new_mnist, learning_rate=1e-7)\n",
    "    d_loss = base_testset_loss - testset_loss()\n",
    "    print(z_influ * scale, d_loss)\n",
    "    influence_acc.append( (z_influ * scale, d_loss) )\n",
    "    saver.restore(sess, checkpoint_file)"
   ]
  },
  {
   "cell_type": "code",
   "execution_count": 25,
   "metadata": {
    "collapsed": false
   },
   "outputs": [
    {
     "data": {
      "text/plain": [
       "[(-0.029911623696302927, -0.38476562),\n",
       " (-0.026490877123988323, -0.37084961),\n",
       " (-0.025468187217926298, -0.36010742),\n",
       " (-0.025011115559007747, -0.36889648),\n",
       " (-0.023626130580522882, -0.36206055)]"
      ]
     },
     "execution_count": 25,
     "metadata": {},
     "output_type": "execute_result"
    }
   ],
   "source": [
    "influence_acc"
   ]
  },
  {
   "cell_type": "code",
   "execution_count": 12,
   "metadata": {
    "collapsed": false
   },
   "outputs": [
    {
     "name": "stdout",
     "output_type": "stream",
     "text": [
      "influence d_loss\n"
     ]
    },
    {
     "data": {
      "text/plain": [
       "[<matplotlib.lines.Line2D at 0x7fe459c6b780>]"
      ]
     },
     "execution_count": 12,
     "metadata": {},
     "output_type": "execute_result"
    },
    {
     "data": {
      "image/png": "[encoded data removed]",
      "text/plain": [
       "<matplotlib.figure.Figure at 0x7fe4aabd7a90>"
      ]
     },
     "metadata": {},
     "output_type": "display_data"
    }
   ],
   "source": [
    "infs = []\n",
    "d_losses = []\n",
    "print(\"influence\", \"d_loss\")\n",
    "for pair in influence_acc:\n",
    "    infs.append(pair[0])\n",
    "    d_losses.append(pair[1])\n",
    "    #print(pair[0], pair[1])\n",
    "    \n",
    "plt.plot(infs, d_losses, \"x\")"
   ]
  },
  {
   "cell_type": "code",
   "execution_count": null,
   "metadata": {
    "collapsed": true
   },
   "outputs": [],
   "source": []
  },
  {
   "cell_type": "code",
   "execution_count": null,
   "metadata": {
    "collapsed": true
   },
   "outputs": [],
   "source": []
  },
  {
   "cell_type": "code",
   "execution_count": null,
   "metadata": {
    "collapsed": true
   },
   "outputs": [],
   "source": []
  },
  {
   "cell_type": "code",
   "execution_count": null,
   "metadata": {
    "collapsed": false
   },
   "outputs": [],
   "source": [
    "influences_corrupted = []\n",
    "influences_non_corrupted = []\n",
    "grads_corrupted = []\n",
    "grads_non_corrupted = []\n",
    "#size = len(mnist.train.labels)\n",
    "size = 1000\n",
    "for i in range(size):\n",
    "    z = (mnist.train.images[i:i+1], mnist.train.labels[i:i+1])\n",
    "    influ, z_grad = inf.of_and_g(z)\n",
    "    if mnist.train.corrupted_mask[i]:\n",
    "        influences_corrupted.append(influ)\n",
    "        grads_corrupted.append(z_grad)\n",
    "    else:\n",
    "        influences_non_corrupted.append(influ)\n",
    "        grads_non_corrupted.append(z_grad)\n",
    "all_influences = influences_corrupted + influences_non_corrupted\n",
    "all_grads = grads_corrupted + grads_non_corrupted"
   ]
  },
  {
   "cell_type": "code",
   "execution_count": 83,
   "metadata": {
    "collapsed": false
   },
   "outputs": [
    {
     "name": "stdout",
     "output_type": "stream",
     "text": [
      "non corrupted\n",
      "mean -6.47728385977e-08\n",
      "std 1.21111189844e-05\n"
     ]
    }
   ],
   "source": [
    "print(\"non corrupted\")\n",
    "print(\"mean\",np.mean( influences_non_corrupted))\n",
    "print(\"std\",np.std( influences_non_corrupted))"
   ]
  },
  {
   "cell_type": "code",
   "execution_count": 84,
   "metadata": {
    "collapsed": false
   },
   "outputs": [
    {
     "name": "stdout",
     "output_type": "stream",
     "text": [
      "corrupted\n",
      "mean -1.88751401152e-06\n",
      "std 5.31467498935e-06\n"
     ]
    }
   ],
   "source": [
    "print(\"corrupted\")\n",
    "print(\"mean\",np.mean( influences_corrupted))\n",
    "print(\"std\",np.std( influences_corrupted))"
   ]
  },
  {
   "cell_type": "code",
   "execution_count": 16,
   "metadata": {
    "collapsed": true
   },
   "outputs": [],
   "source": [
    "inf.s = influence.lset(inf.s, 1.)"
   ]
  },
  {
   "cell_type": "code",
   "execution_count": null,
   "metadata": {
    "collapsed": true
   },
   "outputs": [],
   "source": []
  },
  {
   "cell_type": "code",
   "execution_count": 79,
   "metadata": {
    "collapsed": false
   },
   "outputs": [
    {
     "data": {
      "text/plain": [
       "1"
      ]
     },
     "execution_count": 79,
     "metadata": {},
     "output_type": "execute_result"
    }
   ],
   "source": [
    "1"
   ]
  },
  {
   "cell_type": "code",
   "execution_count": null,
   "metadata": {
    "collapsed": true
   },
   "outputs": [],
   "source": []
  },
  {
   "cell_type": "code",
   "execution_count": 80,
   "metadata": {
    "collapsed": false
   },
   "outputs": [
    {
     "name": "stdout",
     "output_type": "stream",
     "text": [
      "influence d_loss\n",
      "-3.42001894873 -12.5903\n",
      "-3.42991299808 -12.5177\n",
      "-3.31551817139 -12.4698\n",
      "-3.1845451764 -12.823\n",
      "-2.89722035186 -12.8751\n"
     ]
    }
   ],
   "source": [
    "infs = []\n",
    "d_losses = []\n",
    "print(\"influence\", \"d_loss\")\n",
    "for pair in influence_acc:\n",
    "    infs.append(pair[0])\n",
    "    d_losses.append(pair[1])\n",
    "    print(pair[0], pair[1])\n",
    "    \n",
    "plt.plot(infs, d_losses, \"x\")"
   ]
  },
  {
   "cell_type": "code",
   "execution_count": 81,
   "metadata": {
    "collapsed": false
   },
   "outputs": [
    {
     "data": {
      "text/plain": [
       "[<matplotlib.lines.Line2D at 0x7ff59c577a20>]"
      ]
     },
     "execution_count": 81,
     "metadata": {},
     "output_type": "execute_result"
    },
    {
     "data": {
      "image/png": "[encoded data removed]",
      "text/plain": [
       "<matplotlib.figure.Figure at 0x7ff59c595b00>"
      ]
     },
     "metadata": {},
     "output_type": "display_data"
    }
   ],
   "source": [
    "plt.plot(infs, d_losses - avrg, \"x\")"
   ]
  },
  {
   "cell_type": "code",
   "execution_count": 70,
   "metadata": {
    "collapsed": false
   },
   "outputs": [
    {
     "data": {
      "text/plain": [
       "[<matplotlib.lines.Line2D at 0x7ff5ac1ec2b0>]"
      ]
     },
     "execution_count": 70,
     "metadata": {},
     "output_type": "execute_result"
    },
    {
     "data": {
      "image/png": "[encoded data removed]",
      "text/plain": [
       "<matplotlib.figure.Figure at 0x7ff5ae340d30>"
      ]
     },
     "metadata": {},
     "output_type": "display_data"
    }
   ],
   "source": [
    "plt.plot(infs, d_losses - avrg, \"x\")"
   ]
  },
  {
   "cell_type": "code",
   "execution_count": 63,
   "metadata": {
    "collapsed": false
   },
   "outputs": [
    {
     "data": {
      "text/plain": [
       "[<matplotlib.lines.Line2D at 0x7ff5af4bc828>]"
      ]
     },
     "execution_count": 63,
     "metadata": {},
     "output_type": "execute_result"
    },
    {
     "data": {
      "image/png": "[encoded data removed]",
      "text/plain": [
       "<matplotlib.figure.Figure at 0x7ff5bc61cb00>"
      ]
     },
     "metadata": {},
     "output_type": "display_data"
    }
   ],
   "source": [
    "plt.plot(infs, d_losses - avrg, \"x\")"
   ]
  },
  {
   "cell_type": "code",
   "execution_count": 43,
   "metadata": {
    "collapsed": false
   },
   "outputs": [
    {
     "data": {
      "text/plain": [
       "[<matplotlib.lines.Line2D at 0x7ff5bc5347b8>]"
      ]
     },
     "execution_count": 43,
     "metadata": {},
     "output_type": "execute_result"
    },
    {
     "data": {
      "image/png": "[encoded data removed]",
      "text/plain": [
       "<matplotlib.figure.Figure at 0x7ff5bc57f0b8>"
      ]
     },
     "metadata": {},
     "output_type": "display_data"
    }
   ],
   "source": [
    "plt.plot(infs, d_losses - avrg, \"x\")"
   ]
  },
  {
   "cell_type": "code",
   "execution_count": 43,
   "metadata": {
    "collapsed": false
   },
   "outputs": [
    {
     "data": {
      "text/plain": [
       "[<matplotlib.lines.Line2D at 0x7ff5bc5347b8>]"
      ]
     },
     "execution_count": 43,
     "metadata": {},
     "output_type": "execute_result"
    },
    {
     "data": {
      "image/png": "[encoded data removed]",
      "text/plain": [
       "<matplotlib.figure.Figure at 0x7ff5bc57f0b8>"
      ]
     },
     "metadata": {},
     "output_type": "display_data"
    }
   ],
   "source": [
    "plt.plot(infs, d_losses - avrg, \"x\")"
   ]
  },
  {
   "cell_type": "code",
   "execution_count": 39,
   "metadata": {
    "collapsed": false
   },
   "outputs": [
    {
     "name": "stdout",
     "output_type": "stream",
     "text": [
      "(-0.027689653809073733, -12.173828) False\n",
      "(2.253888293622941, -12.064087) False\n",
      "(-0.057892054706257245, -12.17627) True\n",
      "(-0.028630717219882418, -12.174316) False\n",
      "(-0.015116766469772114, -12.174805) False\n",
      "(0.017373136347864637, -12.154297) False\n",
      "(-0.027889592524935058, -12.174683) False\n",
      "(-0.028365732707147373, -12.173828) False\n",
      "(-0.028661911857935651, -12.174316) False\n",
      "(-0.032132640476745244, -12.174683) False\n",
      "(0.42866204244207395, -12.179932) False\n",
      "(-0.029064536376452454, -12.174072) False\n",
      "(-0.16695554828166648, -12.234497) False\n",
      "(-0.094426384465995383, -12.169678) False\n",
      "(-0.099014407147698935, -12.190796) True\n",
      "(0.053566588407716331, -12.184204) False\n",
      "(-0.053189263293645928, -12.175903) False\n",
      "(-0.028707009974843212, -12.174072) False\n",
      "(-0.02871165062694192, -12.174072) False\n",
      "(-0.029057295559478669, -12.173828) False\n",
      "(-0.028698393551712664, -12.174194) False\n",
      "(0.0093212496818373403, -12.175415) False\n",
      "(-0.031820806585119987, -12.175049) False\n",
      "(-0.031968775614441003, -12.173096) False\n",
      "(-0.13891370975072093, -12.168213) False\n",
      "(-0.0289453283844332, -12.174072) False\n",
      "(-0.028126253955734759, -12.173828) False\n",
      "(-0.028758085434260616, -12.17395) False\n",
      "(-0.028775164060898528, -12.174194) False\n",
      "(-0.028002289455125728, -12.174072) False\n",
      "(-0.028708825708656516, -12.174072) False\n",
      "(-0.034650515383163882, -12.174805) False\n",
      "(-0.35479133025095866, -12.287598) False\n",
      "(-0.028808373064501125, -12.174072) False\n",
      "(-0.028697504578234501, -12.174072) False\n",
      "(-0.028727529954794551, -12.174194) False\n",
      "(-0.028824542027475197, -12.174072) False\n",
      "(-0.036531704679168553, -12.175659) False\n",
      "(-0.035695977415595159, -12.187988) True\n",
      "(-0.035818258348613297, -12.174194) False\n",
      "(-0.39518391828252675, -12.18457) False\n",
      "(-0.029854326347444893, -12.174072) False\n",
      "(-0.077706641540831178, -12.209473) False\n",
      "(-0.028652908209206296, -12.174316) False\n",
      "(-0.02956857592495421, -12.174072) False\n",
      "(-0.028965743274697586, -12.174316) False\n",
      "(-0.034573797505071946, -12.172119) False\n",
      "(-0.029061834659685482, -12.174561) False\n",
      "(-0.028365628225029971, -12.174316) False\n",
      "(-0.025527094635741099, -12.172485) False\n",
      "(-0.024994186571189458, -12.174072) True\n",
      "(-0.028389021934152603, -12.174072) False\n",
      "(-0.028687421943229818, -12.174316) False\n",
      "(-0.030765247987854516, -12.174072) False\n",
      "(-0.028705537384252078, -12.174194) False\n",
      "(-0.10481996777167435, -12.171509) False\n",
      "(-0.031523699990862464, -12.174194) False\n",
      "(-0.022508554127498304, -12.176636) False\n",
      "(-0.03674275291951079, -12.172241) False\n",
      "(-0.1877185612464416, -12.183716) False\n",
      "(-0.036980494996716184, -12.105225) False\n",
      "(-0.029450139292092059, -12.174316) False\n",
      "(-0.076631855060252385, -12.179565) False\n",
      "(-0.029584937117285715, -12.173828) False\n",
      "(-0.028736532420442495, -12.174194) False\n",
      "(-0.028193482149302396, -12.174072) False\n",
      "(-0.031966299446420376, -12.174561) False\n",
      "(-0.027226514149741865, -12.172852) False\n",
      "(-0.028700351223237552, -12.174316) False\n",
      "(-0.10792936071174486, -12.193481) False\n",
      "(0.020699151886162392, -12.172119) False\n"
     ]
    }
   ],
   "source": [
    "influence_acc\n",
    "cu = 0\n",
    "for i in range(len(influence_acc)):\n",
    "    print(influence_acc[i], mnist.train.corrupted_mask[i])\n",
    "    cu += influence_acc[i][1]"
   ]
  },
  {
   "cell_type": "code",
   "execution_count": null,
   "metadata": {
    "collapsed": true
   },
   "outputs": [],
   "source": []
  },
  {
   "cell_type": "code",
   "execution_count": 76,
   "metadata": {
    "collapsed": false
   },
   "outputs": [
    {
     "ename": "FileNotFoundError",
     "evalue": "[Errno 2] No such file or directory: 'influence-d_loss'",
     "output_type": "error",
     "traceback": [
      "\u001b[0;31m---------------------------------------------------------------------------\u001b[0m",
      "\u001b[0;31mFileNotFoundError\u001b[0m                         Traceback (most recent call last)",
      "\u001b[0;32m<ipython-input-76-54a6ce837166>\u001b[0m in \u001b[0;36m<module>\u001b[0;34m()\u001b[0m\n\u001b[0;32m----> 1\u001b[0;31m \u001b[0minf72\u001b[0m \u001b[0;34m=\u001b[0m \u001b[0mnp\u001b[0m\u001b[0;34m.\u001b[0m\u001b[0mload\u001b[0m\u001b[0;34m(\u001b[0m\u001b[0;34m\"influence-d_loss\"\u001b[0m\u001b[0;34m)\u001b[0m\u001b[0;34m\u001b[0m\u001b[0m\n\u001b[0m",
      "\u001b[0;32m/usr/local/lib/python3.6/site-packages/numpy/lib/npyio.py\u001b[0m in \u001b[0;36mload\u001b[0;34m(file, mmap_mode, allow_pickle, fix_imports, encoding)\u001b[0m\n\u001b[1;32m    360\u001b[0m     \u001b[0mown_fid\u001b[0m \u001b[0;34m=\u001b[0m \u001b[0;32mFalse\u001b[0m\u001b[0;34m\u001b[0m\u001b[0m\n\u001b[1;32m    361\u001b[0m     \u001b[0;32mif\u001b[0m \u001b[0misinstance\u001b[0m\u001b[0;34m(\u001b[0m\u001b[0mfile\u001b[0m\u001b[0;34m,\u001b[0m \u001b[0mbasestring\u001b[0m\u001b[0;34m)\u001b[0m\u001b[0;34m:\u001b[0m\u001b[0;34m\u001b[0m\u001b[0m\n\u001b[0;32m--> 362\u001b[0;31m         \u001b[0mfid\u001b[0m \u001b[0;34m=\u001b[0m \u001b[0mopen\u001b[0m\u001b[0;34m(\u001b[0m\u001b[0mfile\u001b[0m\u001b[0;34m,\u001b[0m \u001b[0;34m\"rb\"\u001b[0m\u001b[0;34m)\u001b[0m\u001b[0;34m\u001b[0m\u001b[0m\n\u001b[0m\u001b[1;32m    363\u001b[0m         \u001b[0mown_fid\u001b[0m \u001b[0;34m=\u001b[0m \u001b[0;32mTrue\u001b[0m\u001b[0;34m\u001b[0m\u001b[0m\n\u001b[1;32m    364\u001b[0m     \u001b[0;32melse\u001b[0m\u001b[0;34m:\u001b[0m\u001b[0;34m\u001b[0m\u001b[0m\n",
      "\u001b[0;31mFileNotFoundError\u001b[0m: [Errno 2] No such file or directory: 'influence-d_loss'"
     ]
    }
   ],
   "source": [
    "inf72 = np.load(\"influence-d_loss\")"
   ]
  },
  {
   "cell_type": "code",
   "execution_count": null,
   "metadata": {
    "collapsed": true
   },
   "outputs": [],
   "source": []
  },
  {
   "cell_type": "code",
   "execution_count": 47,
   "metadata": {
    "collapsed": true
   },
   "outputs": [],
   "source": [
    "np.save(\"influence-d_loss\", influence_acc)"
   ]
  },
  {
   "cell_type": "code",
   "execution_count": 77,
   "metadata": {
    "collapsed": false
   },
   "outputs": [
    {
     "data": {
      "text/plain": [
       "[(-3.4200348640034406, -12.590576),\n",
       " (-3.4298843697477821, -12.517456),\n",
       " (-3.3155329146516976, -12.46936),\n",
       " (-3.1844899987731878, -12.822754),\n",
       " (-2.8972173116414979, -12.875244)]"
      ]
     },
     "execution_count": 77,
     "metadata": {},
     "output_type": "execute_result"
    }
   ],
   "source": [
    "influence_acc"
   ]
  },
  {
   "cell_type": "code",
   "execution_count": 42,
   "metadata": {
    "collapsed": false
   },
   "outputs": [],
   "source": [
    "avrg = cu/len(influence_acc)"
   ]
  },
  {
   "cell_type": "code",
   "execution_count": null,
   "metadata": {
    "collapsed": true
   },
   "outputs": [],
   "source": []
  },
  {
   "cell_type": "code",
   "execution_count": 35,
   "metadata": {
    "collapsed": false
   },
   "outputs": [
    {
     "name": "stdout",
     "output_type": "stream",
     "text": [
      "-4.37305\n"
     ]
    }
   ],
   "source": [
    "saver.restore(sess, \"/home/cgel/deep_quad/mnist_convnet_corrupted.ckpt\")\n",
    "base_testset_loss = testset_loss()\n",
    "train(10000, mnist.train, learning_rate=1e-7)\n",
    "d_loss = base_testset_loss - testset_loss()\n",
    "print(d_loss)"
   ]
  },
  {
   "cell_type": "code",
   "execution_count": 37,
   "metadata": {
    "collapsed": false
   },
   "outputs": [
    {
     "data": {
      "text/plain": [
       "1"
      ]
     },
     "execution_count": 37,
     "metadata": {},
     "output_type": "execute_result"
    }
   ],
   "source": [
    "1"
   ]
  },
  {
   "cell_type": "code",
   "execution_count": null,
   "metadata": {
    "collapsed": true
   },
   "outputs": [],
   "source": []
  },
  {
   "cell_type": "code",
   "execution_count": 86,
   "metadata": {
    "collapsed": true
   },
   "outputs": [],
   "source": [
    "saver.restore(sess, \"/home/cgel/deep_quad/mnist_convnet_corrupted.ckpt\")"
   ]
  },
  {
   "cell_type": "code",
   "execution_count": 87,
   "metadata": {
    "collapsed": false
   },
   "outputs": [],
   "source": [
    "sess.run(tf.global_variables_initializer())"
   ]
  },
  {
   "cell_type": "code",
   "execution_count": 10,
   "metadata": {
    "collapsed": false
   },
   "outputs": [
    {
     "name": "stdout",
     "output_type": "stream",
     "text": [
      "test acc 0.0846\n",
      "test loss 30870.3\n",
      "train acc 0.0891\n",
      "train loss 31078.4\n",
      "---\n",
      "test acc 0.9632\n",
      "test loss 1621.01\n",
      "train acc 0.9499\n",
      "train loss 2671.71\n",
      "---\n",
      "test acc 0.9712\n",
      "test loss 1323.3\n",
      "train acc 0.9639\n",
      "train loss 1933.37\n",
      "---\n",
      "test acc 0.9732\n",
      "test loss 1229.11\n",
      "train acc 0.9698\n",
      "train loss 1451.83\n",
      "---\n",
      "test acc 0.9725\n",
      "test loss 1166.37\n",
      "train acc 0.9756\n",
      "train loss 1049.5\n",
      "---\n",
      "test acc 0.9734\n",
      "test loss 1083.27\n",
      "train acc 0.9822\n",
      "train loss 731.857\n",
      "---\n",
      "test acc 0.9726\n",
      "test loss 1060.42\n",
      "train acc 0.9905\n",
      "train loss 486.994\n",
      "---\n",
      "test acc 0.9716\n",
      "test loss 1048.83\n",
      "train acc 0.9961\n",
      "train loss 306.672\n",
      "---\n",
      "test acc 0.9711\n",
      "test loss 1017.23\n",
      "train acc 0.9983\n",
      "train loss 184.784\n",
      "---\n",
      "test acc 0.9701\n",
      "test loss 1028.05\n",
      "train acc 0.9988\n",
      "train loss 113.906\n",
      "---\n",
      "test acc 0.9704\n",
      "test loss 1045.9\n",
      "train acc 0.9994\n",
      "train loss 69.462\n",
      "---\n",
      "XXXX\n",
      "test acc 0.9698\n",
      "test loss 1084.29\n",
      "train acc 0.9999\n",
      "train loss 42.4314\n",
      "---\n",
      "test acc 0.9689\n",
      "test loss 1126.6\n",
      "train acc 0.9999\n",
      "train loss 32.3282\n",
      "---\n",
      "test acc 0.9689\n",
      "test loss 1157.06\n",
      "train acc 1.0\n",
      "train loss 19.7326\n",
      "---\n",
      "test acc 0.9695\n",
      "test loss 1188.89\n",
      "train acc 1.0\n",
      "train loss 14.7018\n",
      "---\n",
      "test acc 0.9667\n",
      "test loss 1287.82\n",
      "train acc 0.9994\n",
      "train loss 40.3506\n",
      "---\n",
      "test acc 0.9697\n",
      "test loss 1238.43\n",
      "train acc 1.0\n",
      "train loss 10.3981\n",
      "---\n",
      "test acc 0.9693\n",
      "test loss 1251.98\n",
      "train acc 1.0\n",
      "train loss 9.45525\n",
      "---\n",
      "test acc 0.9683\n",
      "test loss 1322.95\n",
      "train acc 1.0\n",
      "train loss 10.986\n",
      "---\n",
      "test acc 0.9697\n",
      "test loss 1281.04\n",
      "train acc 1.0\n",
      "train loss 7.83585\n",
      "---\n",
      "test acc 0.9698\n",
      "test loss 1284.01\n",
      "train acc 1.0\n",
      "train loss 7.35903\n",
      "---\n",
      "test acc 0.9694\n",
      "test loss 1299.8\n",
      "train acc 1.0\n",
      "train loss 7.18464\n",
      "---\n",
      "test acc 0.9695\n",
      "test loss 1306.42\n",
      "train acc 1.0\n",
      "train loss 6.74382\n",
      "---\n",
      "test acc 0.9689\n",
      "test loss 1314.59\n",
      "train acc 1.0\n",
      "train loss 6.47041\n",
      "---\n",
      "test acc 0.9691\n",
      "test loss 1313.23\n",
      "train acc 1.0\n",
      "train loss 6.18862\n",
      "---\n",
      "test acc 0.9697\n",
      "test loss 1303.65\n",
      "train acc 1.0\n",
      "train loss 5.90618\n",
      "---\n",
      "XXXX\n",
      "test acc 0.9694\n",
      "test loss 1295.51\n",
      "train acc 1.0\n",
      "train loss 5.67874\n",
      "---\n",
      "test acc 0.9694\n",
      "test loss 1295.59\n",
      "train acc 1.0\n",
      "train loss 5.58141\n",
      "---\n",
      "test acc 0.9692\n",
      "test loss 1291.66\n",
      "train acc 1.0\n",
      "train loss 5.55953\n",
      "---\n",
      "test acc 0.9694\n",
      "test loss 1291.77\n",
      "train acc 1.0\n",
      "train loss 5.52102\n",
      "---\n",
      "test acc 0.9691\n",
      "test loss 1290.52\n",
      "train acc 1.0\n",
      "train loss 5.46961\n",
      "---\n",
      "test acc 0.9692\n",
      "test loss 1282.54\n",
      "train acc 1.0\n",
      "train loss 5.41735\n",
      "---\n",
      "test acc 0.9691\n",
      "test loss 1282.88\n",
      "train acc 1.0\n",
      "train loss 5.39521\n",
      "---\n",
      "test acc 0.9693\n",
      "test loss 1279.39\n",
      "train acc 1.0\n",
      "train loss 5.34093\n",
      "---\n",
      "test acc 0.9689\n",
      "test loss 1285.67\n",
      "train acc 1.0\n",
      "train loss 5.34137\n",
      "---\n",
      "test acc 0.9689\n",
      "test loss 1281.23\n",
      "train acc 1.0\n",
      "train loss 5.2611\n",
      "---\n",
      "XXXX\n",
      "test acc 0.9691\n",
      "test loss 1280.37\n",
      "train acc 1.0\n",
      "train loss 5.22092\n",
      "---\n",
      "test acc 0.9692\n",
      "test loss 1278.35\n",
      "train acc 1.0\n",
      "train loss 5.22632\n",
      "---\n",
      "test acc 0.9693\n",
      "test loss 1278.46\n",
      "train acc 1.0\n",
      "train loss 5.21676\n",
      "---\n",
      "test acc 0.9692\n",
      "test loss 1277.41\n",
      "train acc 1.0\n",
      "train loss 5.21618\n",
      "---\n",
      "test acc 0.9694\n",
      "test loss 1277.23\n",
      "train acc 1.0\n",
      "train loss 5.21483\n",
      "---\n",
      "test acc 0.9693\n",
      "test loss 1278.12\n",
      "train acc 1.0\n",
      "train loss 5.20718\n",
      "---\n",
      "test acc 0.9693\n",
      "test loss 1277.95\n",
      "train acc 1.0\n",
      "train loss 5.19952\n",
      "---\n",
      "test acc 0.9693\n",
      "test loss 1277.82\n",
      "train acc 1.0\n",
      "train loss 5.20765\n",
      "---\n",
      "test acc 0.9692\n",
      "test loss 1277.34\n",
      "train acc 1.0\n",
      "train loss 5.19207\n",
      "---\n",
      "test acc 0.9695\n",
      "test loss 1277.04\n",
      "train acc 1.0\n",
      "train loss 5.1857\n",
      "---\n"
     ]
    }
   ],
   "source": [
    "test()\n",
    "for i in range(10):\n",
    "    train(10000, mnist.train)\n",
    "    test()\n",
    "print(\"XXXX\")\n",
    "for i in range(10):\n",
    "    train(10000, mnist.train, 1e-5)\n",
    "    test() \n",
    "print(\"XXXX\")\n",
    "for i in range(10):\n",
    "    train(10000, mnist.train, 1e-6)\n",
    "    test()\n",
    "print(\"XXXX\")\n",
    "for i in range(10):\n",
    "    train(10000, mnist.train, 1e-7)\n",
    "    test()"
   ]
  },
  {
   "cell_type": "code",
   "execution_count": null,
   "metadata": {
    "collapsed": true
   },
   "outputs": [],
   "source": []
  },
  {
   "cell_type": "code",
   "execution_count": null,
   "metadata": {
    "collapsed": true
   },
   "outputs": [],
   "source": []
  },
  {
   "cell_type": "code",
   "execution_count": 18,
   "metadata": {
    "collapsed": false
   },
   "outputs": [
    {
     "data": {
      "text/plain": [
       "'/home/cgel/deep_quad/mnist_convnet_corrupted.ckpt'"
      ]
     },
     "execution_count": 18,
     "metadata": {},
     "output_type": "execute_result"
    }
   ],
   "source": [
    "saver.save(sess, \"/home/cgel/deep_quad/mnist_convnet_corrupted.ckpt\")"
   ]
  },
  {
   "cell_type": "code",
   "execution_count": null,
   "metadata": {
    "collapsed": true
   },
   "outputs": [],
   "source": []
  }
 ],
 "metadata": {
  "kernelspec": {
   "display_name": "Python 3",
   "language": "python",
   "name": "python3"
  },
  "language_info": {
   "codemirror_mode": {
    "name": "ipython",
    "version": 3
   },
   "file_extension": ".py",
   "mimetype": "text/x-python",
   "name": "python",
   "nbconvert_exporter": "python",
   "pygments_lexer": "ipython3",
   "version": "3.6.0"
  }
 },
 "nbformat": 4,
 "nbformat_minor": 2
}
