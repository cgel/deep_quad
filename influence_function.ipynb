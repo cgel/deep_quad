{
 "cells": [
  {
   "cell_type": "code",
   "execution_count": 1,
   "metadata": {
    "collapsed": false
   },
   "outputs": [
    {
     "name": "stdout",
     "output_type": "stream",
     "text": [
      "Extracting mnist_data/train-images-idx3-ubyte.gz\n",
      "Extracting mnist_data/train-labels-idx1-ubyte.gz\n",
      "Extracting mnist_data/t10k-images-idx3-ubyte.gz\n",
      "Extracting mnist_data/t10k-labels-idx1-ubyte.gz\n"
     ]
    }
   ],
   "source": [
    "from __future__ import absolute_import\n",
    "from __future__ import division\n",
    "from __future__ import print_function\n",
    "%matplotlib inline\n",
    "\n",
    "import matplotlib\n",
    "import matplotlib.pyplot as plt\n",
    "import argparse\n",
    "import sys\n",
    "import numpy as np\n",
    "from tensorflow.examples.tutorials.mnist import input_data\n",
    "import tensorflow as tf\n",
    "import influence\n",
    "from mnist_convnet import deepnn\n",
    "from utils import corrupt_mnist\n",
    "import copy\n",
    "\n",
    "np.random.seed(1)\n",
    "\n",
    "FLAGS = None\n",
    "\n",
    "# Import data\n",
    "mnist = corrupt_mnist(input_data.read_data_sets(\"mnist_data\", one_hot=True), 0.03)\n",
    "\n",
    "# Create the model\n",
    "with tf.name_scope(\"net\"):\n",
    "    input_ph = tf.placeholder(tf.float32, [None, 784])\n",
    "    y, weights = deepnn(input_ph)\n",
    "\n",
    "# Define loss and optimizer\n",
    "with tf.name_scope(\"loss\"):\n",
    "    y_ = tf.placeholder(tf.float32, [None, 10], name=\"y_target\")\n",
    "    batch_loss = tf.nn.softmax_cross_entropy_with_logits(labels=y_, logits=y)\n",
    "    regularization = tf.reduce_sum( [tf.nn.l2_loss(w) for w in weights])\n",
    "    cross_entropy = tf.reduce_sum(batch_loss) + regularization * 0.001\n",
    "\n",
    "lr = tf.Variable(0.1)\n",
    "opt = tf.train.AdamOptimizer(lr)\n",
    "grads_and_vars = opt.compute_gradients(cross_entropy)\n",
    "train_step = opt.apply_gradients(grads_and_vars)\n",
    "\n",
    "# Test trained model\n",
    "with tf.name_scope(\"accuracy\"):\n",
    "    correct_prediction = tf.equal(tf.argmax(y, 1), tf.argmax(y_, 1))\n",
    "    accuracy = tf.reduce_mean(tf.cast(correct_prediction, tf.float32))\n",
    "\n",
    "saver = tf.train.Saver()\n",
    "sess = tf.InteractiveSession()\n",
    "\n",
    "tf.global_variables_initializer().run()\n",
    "\n",
    "gs = [g for g,v in grads_and_vars if g is not None]"
   ]
  },
  {
   "cell_type": "code",
   "execution_count": 2,
   "metadata": {
    "collapsed": true
   },
   "outputs": [],
   "source": [
    "#saver.restore(sess, \"/home/cgel/deep_quad/mnist_convnet_corrupted.ckpt\")\n",
    "\n",
    "summary_writter = tf.summary.FileWriter(\"./Hvp_summaries\", sess.graph)"
   ]
  },
  {
   "cell_type": "code",
   "execution_count": 3,
   "metadata": {
    "collapsed": false
   },
   "outputs": [],
   "source": [
    "test_feed_dic = {input_ph: mnist.test.images, y_: mnist.test.labels}\n",
    "\n",
    "batch_xs, batch_ys = mnist.train.next_batch(mnist.test.images.shape[0])\n",
    "train_feed_dic = {input_ph:batch_xs, y_:batch_ys}\n",
    "\n",
    "testset = (mnist.test.images, mnist.test.labels)\n",
    "trainset = (mnist.train.images, mnist.train.labels)\n",
    "#trainset = (mnist.train.images[0:10000], mnist.train.labels[0:10000])"
   ]
  },
  {
   "cell_type": "code",
   "execution_count": 20,
   "metadata": {
    "collapsed": false
   },
   "outputs": [
    {
     "name": "stdout",
     "output_type": "stream",
     "text": [
      "error: 0.11355\n",
      "- iter: 0\n",
      "Error: 0.162412480722\n",
      "dad: 0.000178858786579\n",
      "alpha: 72.0938086232\n",
      "beta: 2.04564644968\n",
      "Ad scaling: 0.0242070441411\n",
      "- iter: 1\n",
      "Error: 0.112668858627\n",
      "dad: 0.000848822907774\n",
      "alpha: 31.0757582494\n",
      "beta: 0.481247986026\n",
      "Ad scaling: 0.0224415272928\n",
      "- iter: 2\n",
      "Error: 0.0951080621811\n",
      "dad: 0.000281123951726\n",
      "alpha: 45.1554216454\n",
      "beta: 0.712569245963\n",
      "Ad scaling: 0.0184562325042\n",
      "- iter: 3\n",
      "Error: 0.0672559756662\n",
      "dad: 0.000220587374809\n",
      "alpha: 41.0066388405\n",
      "beta: 0.500065257628\n",
      "Ad scaling: 0.0179880184422\n",
      "- iter: 4\n",
      "Error: 0.0599372183621\n",
      "dad: 0.000113202056796\n",
      "alpha: 39.9583172315\n",
      "beta: 0.794203332819\n",
      "Ad scaling: 0.0217350714731\n",
      "- iter: 5\n",
      "Error: 0.0395181733315\n",
      "dad: 0.000155126896407\n",
      "alpha: 23.1582698209\n",
      "beta: 0.434711025004\n",
      "Ad scaling: 0.0304292269451\n",
      "- iter: 6\n",
      "Error: 0.0301927786964\n",
      "dad: 4.48930097367e-05\n",
      "alpha: 34.7868532922\n",
      "beta: 0.583730404486\n",
      "Ad scaling: 0.0240857999965\n",
      "- iter: 7\n",
      "Error: 0.017551961602\n",
      "dad: 2.88606135299e-05\n",
      "alpha: 31.5864358464\n",
      "beta: 0.337944331296\n",
      "Ad scaling: 0.0240584741422\n",
      "- iter: 8\n",
      "Error: 0.0114299700155\n",
      "dad: 5.83813929829e-06\n",
      "alpha: 52.7687608415\n",
      "beta: 0.424071472038\n",
      "Ad scaling: 0.0169362320985\n",
      "- iter: 9\n",
      "Error: 0.00808992391637\n",
      "dad: 2.37056443718e-06\n",
      "alpha: 55.1110444543\n",
      "beta: 0.500954062416\n",
      "Ad scaling: 0.0167752678701\n",
      "- iter: 10\n",
      "Error: 0.00516681932513\n",
      "dad: 1.29980695626e-06\n",
      "alpha: 50.3511567805\n",
      "beta: 0.40790483083\n",
      "Ad scaling: 0.0171881638826\n",
      "- iter: 11\n",
      "Error: 0.00387851551746\n",
      "dad: 5.03690278317e-07\n",
      "alpha: 53.0009421254\n",
      "beta: 0.563484699355\n",
      "Ad scaling: 0.0177490683607\n",
      "- iter: 12\n",
      "Error: 0.00288051428833\n",
      "dad: 3.36387724537e-07\n",
      "alpha: 44.7186976392\n",
      "beta: 0.55158524643\n",
      "Ad scaling: 0.0197182637785\n",
      "- iter: 13\n",
      "Error: 0.00200224182547\n",
      "dad: 2.18698834913e-07\n",
      "alpha: 37.9398367632\n",
      "beta: 0.483160041041\n",
      "Ad scaling: 0.0221470301528\n",
      "- iter: 14\n",
      "Error: 0.0012446519417\n",
      "dad: 8.81392937678e-08\n",
      "alpha: 45.4844943006\n",
      "beta: 0.386419620199\n",
      "Ad scaling: 0.0182367990346\n",
      "- iter: 15\n",
      "Error: 0.000807905621722\n",
      "dad: 2.39368239126e-08\n",
      "alpha: 64.7180735463\n",
      "beta: 0.421338460299\n",
      "Ad scaling: 0.0138127598513\n",
      "- iter: 16\n",
      "Error: 0.000575133351641\n",
      "dad: 1.19473039608e-08\n",
      "alpha: 54.6327795947\n",
      "beta: 0.506780970026\n",
      "Ad scaling: 0.0169873839898\n",
      "- iter: 17\n",
      "Error: 0.000470813687878\n",
      "dad: 6.96594514808e-09\n",
      "alpha: 47.4857671045\n",
      "beta: 0.670131082424\n",
      "Ad scaling: 0.0198141639285\n",
      "- iter: 18\n",
      "Error: 0.000369860994592\n",
      "dad: 9.89357346796e-09\n",
      "alpha: 22.4052651344\n",
      "beta: 0.61709348387\n",
      "Ad scaling: 0.0377185960162\n",
      "- iter: 19\n",
      "Error: 0.000228733234229\n",
      "dad: 3.37356419586e-09\n",
      "alpha: 40.5476092294\n",
      "beta: 0.382494528725\n",
      "Ad scaling: 0.0187287747747\n",
      "- iter: 20\n",
      "Error: 0.000163329389185\n",
      "dad: 1.25790577757e-09\n",
      "alpha: 41.594063132\n",
      "beta: 0.509825124758\n",
      "Ad scaling: 0.0213367332385\n",
      "- iter: 21\n",
      "Error: 0.000140830811513\n",
      "dad: 6.06685849985e-10\n",
      "alpha: 43.9680117273\n",
      "beta: 0.74370917607\n",
      "Ad scaling: 0.0213581417412\n",
      "- iter: 22\n",
      "Error: 9.02001087999e-05\n",
      "dad: 7.80337925164e-10\n",
      "alpha: 25.4226675398\n",
      "beta: 0.409979408112\n",
      "Ad scaling: 0.0297159276282\n",
      "- iter: 23\n",
      "Error: 5.55602608382e-05\n",
      "dad: 1.70181598793e-10\n",
      "alpha: 47.7917878473\n",
      "beta: 0.379687068348\n",
      "Ad scaling: 0.0173232324041\n",
      "- iter: 24\n",
      "Error: 3.61047824803e-05\n",
      "dad: 4.81316883287e-11\n",
      "alpha: 64.1594432751\n",
      "beta: 0.421960945351\n",
      "Ad scaling: 0.013992699689\n",
      "- iter: 25\n",
      "Error: 2.45700582637e-05\n",
      "dad: 2.18168070785e-11\n",
      "alpha: 59.727281475\n",
      "beta: 0.463511750733\n",
      "Ad scaling: 0.0153354273317\n",
      "- iter: 26\n",
      "Error: 1.70856481974e-05\n",
      "dad: 1.1721511401e-11\n",
      "alpha: 51.5277374898\n",
      "beta: 0.482711302817\n",
      "Ad scaling: 0.0175719099206\n",
      "- iter: 27\n",
      "Error: 1.10998525879e-05\n",
      "dad: 5.28658975999e-12\n",
      "alpha: 55.1488607822\n",
      "beta: 0.423299003853\n",
      "Ad scaling: 0.015806662285\n",
      "- iter: 28\n",
      "Error: 9.72172932414e-06\n",
      "dad: 2.74452600586e-12\n",
      "alpha: 44.9668071892\n",
      "beta: 0.764952716312\n",
      "Ad scaling: 0.022064932291\n",
      "- iter: 29\n",
      "Error: 6.05901041219e-06\n",
      "dad: 2.78631688615e-12\n",
      "alpha: 33.8815668964\n",
      "beta: 0.389010906137\n",
      "Ad scaling: 0.0225882571485\n"
     ]
    }
   ],
   "source": [
    "scale = float(len(trainset[0]))\n",
    "inf = influence.Influence(cross_entropy/scale, input_ph, y_, testset, trainset, cg_iters = 30, dampening=0.001, vervose=3)"
   ]
  },
  {
   "cell_type": "code",
   "execution_count": 6,
   "metadata": {
    "collapsed": false
   },
   "outputs": [],
   "source": [
    "#inf.recompute_s(cg_iters = 20, dampening=4e-2, vervose=1)"
   ]
  },
  {
   "cell_type": "code",
   "execution_count": null,
   "metadata": {
    "collapsed": true
   },
   "outputs": [],
   "source": []
  },
  {
   "cell_type": "code",
   "execution_count": 46,
   "metadata": {
    "collapsed": false
   },
   "outputs": [
    {
     "name": "stdout",
     "output_type": "stream",
     "text": [
      "0\n",
      "500\n",
      "1000\n",
      "1500\n",
      "2000\n",
      "2500\n",
      "3000\n",
      "3500\n",
      "4000\n",
      "4500\n",
      "5000\n",
      "5500\n",
      "6000\n",
      "6500\n",
      "7000\n",
      "7500\n",
      "8000\n",
      "8500\n",
      "9000\n",
      "9500\n",
      "10000\n",
      "10500\n",
      "11000\n",
      "11500\n",
      "12000\n",
      "12500\n",
      "13000\n",
      "13500\n",
      "14000\n",
      "14500\n",
      "15000\n",
      "15500\n",
      "16000\n",
      "16500\n",
      "17000\n",
      "17500\n",
      "18000\n",
      "18500\n",
      "19000\n",
      "19500\n",
      "20000\n",
      "20500\n",
      "21000\n",
      "21500\n",
      "22000\n",
      "22500\n",
      "23000\n",
      "23500\n",
      "24000\n",
      "24500\n",
      "25000\n",
      "25500\n",
      "26000\n",
      "26500\n",
      "27000\n",
      "27500\n",
      "28000\n",
      "28500\n",
      "29000\n",
      "29500\n",
      "30000\n",
      "30500\n",
      "31000\n",
      "31500\n",
      "32000\n",
      "32500\n",
      "33000\n",
      "33500\n",
      "34000\n",
      "34500\n",
      "35000\n",
      "35500\n",
      "36000\n",
      "36500\n",
      "37000\n",
      "37500\n",
      "38000\n",
      "38500\n",
      "39000\n",
      "39500\n",
      "40000\n",
      "40500\n",
      "41000\n",
      "41500\n",
      "42000\n",
      "42500\n",
      "43000\n",
      "43500\n",
      "44000\n",
      "44500\n",
      "45000\n",
      "45500\n",
      "46000\n",
      "46500\n",
      "47000\n",
      "47500\n",
      "48000\n",
      "48500\n",
      "49000\n",
      "49500\n",
      "50000\n",
      "50500\n",
      "51000\n",
      "51500\n",
      "52000\n",
      "52500\n",
      "53000\n",
      "53500\n",
      "54000\n",
      "54500\n"
     ]
    }
   ],
   "source": [
    "trainset_inf = []\n",
    "for i in range(len(mnist.train.labels)):\n",
    "    z_inf = z = (mnist.train.images[i:i+1], mnist.train.labels[i:i+1])\n",
    "    influ, z_grad = inf.of_and_g(z)\n",
    "    trainset_inf.append( (influ, i))\n",
    "    if i % 1000==0:\n",
    "        print(i)"
   ]
  },
  {
   "cell_type": "code",
   "execution_count": 57,
   "metadata": {
    "collapsed": false
   },
   "outputs": [],
   "source": [
    "influences = [0]*len(mnist.train.labels)\n",
    "for i in range(len(mnist.train.labels)):\n",
    "    j = trainset_inf[i][1]\n",
    "    influences[j] = trainset_inf[i][0]"
   ]
  },
  {
   "cell_type": "code",
   "execution_count": 49,
   "metadata": {
    "collapsed": false
   },
   "outputs": [],
   "source": [
    "trainset_inf.sort()"
   ]
  },
  {
   "cell_type": "code",
   "execution_count": 54,
   "metadata": {
    "collapsed": true
   },
   "outputs": [],
   "source": [
    "rank = np.abs(trainset_inf)"
   ]
  },
  {
   "cell_type": "code",
   "execution_count": 59,
   "metadata": {
    "collapsed": false
   },
   "outputs": [],
   "source": [
    "rank.sort()"
   ]
  },
  {
   "cell_type": "code",
   "execution_count": 53,
   "metadata": {
    "collapsed": false
   },
   "outputs": [
    {
     "data": {
      "text/plain": [
       "[(-5.7187035693573307e-05, 5632),\n",
       " (-5.7176692605409585e-05, 4071),\n",
       " (-5.5964669225971875e-05, 47266),\n",
       " (-5.3027766401925192e-05, 11256),\n",
       " (-4.8352770130932754e-05, 16297),\n",
       " (-4.7952599242506722e-05, 5952),\n",
       " (-4.7247628367053096e-05, 34272),\n",
       " (-4.5420109124449937e-05, 15786),\n",
       " (-4.5190334896361151e-05, 16175),\n",
       " (-4.4237209845476855e-05, 8692)]"
      ]
     },
     "execution_count": 53,
     "metadata": {},
     "output_type": "execute_result"
    }
   ],
   "source": [
    "trainset_inf[0:10]"
   ]
  },
  {
   "cell_type": "code",
   "execution_count": 52,
   "metadata": {
    "collapsed": false
   },
   "outputs": [
    {
     "data": {
      "text/plain": [
       "[(5.1811764020470719e-05, 12254),\n",
       " (5.5368290608592829e-05, 17454),\n",
       " (5.7482173112077817e-05, 51698),\n",
       " (5.8116521792328513e-05, 9700),\n",
       " (5.859773315108896e-05, 54783),\n",
       " (6.0696809478955061e-05, 31141),\n",
       " (6.3410568113653198e-05, 37399),\n",
       " (6.384117171931436e-05, 10744),\n",
       " (6.7289159892069961e-05, 15775)]"
      ]
     },
     "execution_count": 52,
     "metadata": {},
     "output_type": "execute_result"
    }
   ],
   "source": [
    "trainset_inf[-10:-1]"
   ]
  },
  {
   "cell_type": "code",
   "execution_count": null,
   "metadata": {
    "collapsed": false
   },
   "outputs": [],
   "source": [
    "influences_corrupted = []\n",
    "influences_non_corrupted = []\n",
    "grads_corrupted = []\n",
    "grads_non_corrupted = []\n",
    "#size = len(mnist.train.labels)\n",
    "size = 1000\n",
    "for i in range(size):\n",
    "    z = (mnist.train.images[i:i+1], mnist.train.labels[i:i+1])\n",
    "    influ, z_grad = inf.of_and_g(z)\n",
    "    if mnist.train.corrupted_mask[i]:\n",
    "        influences_corrupted.append(influ)\n",
    "        grads_corrupted.append(z_grad)\n",
    "    else:\n",
    "        influences_non_corrupted.append(influ)\n",
    "        grads_non_corrupted.append(z_grad)\n",
    "all_influences = influences_corrupted + influences_non_corrupted\n",
    "all_grads = grads_corrupted + grads_non_corrupted"
   ]
  },
  {
   "cell_type": "code",
   "execution_count": 83,
   "metadata": {
    "collapsed": false
   },
   "outputs": [
    {
     "name": "stdout",
     "output_type": "stream",
     "text": [
      "non corrupted\n",
      "mean -6.47728385977e-08\n",
      "std 1.21111189844e-05\n"
     ]
    }
   ],
   "source": [
    "print(\"non corrupted\")\n",
    "print(\"mean\",np.mean( influences_non_corrupted))\n",
    "print(\"std\",np.std( influences_non_corrupted))"
   ]
  },
  {
   "cell_type": "code",
   "execution_count": 84,
   "metadata": {
    "collapsed": false
   },
   "outputs": [
    {
     "name": "stdout",
     "output_type": "stream",
     "text": [
      "corrupted\n",
      "mean -1.88751401152e-06\n",
      "std 5.31467498935e-06\n"
     ]
    }
   ],
   "source": [
    "print(\"corrupted\")\n",
    "print(\"mean\",np.mean( influences_corrupted))\n",
    "print(\"std\",np.std( influences_corrupted))"
   ]
  },
  {
   "cell_type": "code",
   "execution_count": 16,
   "metadata": {
    "collapsed": true
   },
   "outputs": [],
   "source": [
    "inf.s = influence.lset(inf.s, 1.)"
   ]
  },
  {
   "cell_type": "code",
   "execution_count": null,
   "metadata": {
    "collapsed": true
   },
   "outputs": [],
   "source": []
  },
  {
   "cell_type": "code",
   "execution_count": 21,
   "metadata": {
    "collapsed": false
   },
   "outputs": [],
   "source": [
    "#def train(n, mnist=mnist, learning_rate=0.1e-4):\n",
    "#    sess.run(tf.assign(lr, learning_rate))\n",
    "#    for _ in range(n):\n",
    "#        batch_xs, batch_ys = mnist.train.next_batch(64)\n",
    "#        sess.run(train_step, feed_dict={input_ph: batch_xs, y_: batch_ys})\n",
    "        \n",
    "def test():\n",
    "    test_acc, test_loss = sess.run([accuracy, cross_entropy], feed_dict={input_ph: mnist.test.images,\n",
    "                                  y_: mnist.test.labels})\n",
    "    train_acc, train_loss = sess.run([accuracy, cross_entropy], feed_dict=train_feed_dic)\n",
    "    print(\"test acc\", test_acc)\n",
    "    print(\"test loss\", test_loss)\n",
    "    print(\"train acc\", train_acc)\n",
    "    print(\"train loss\", train_loss) \n",
    "    print(\"---\")\n",
    "    \n",
    "def testset_loss():\n",
    "    return sess.run(cross_entropy, feed_dict={input_ph: mnist.test.images, y_: mnist.test.labels})\n",
    "\n",
    "def train(n, trainset, learning_rate=0.1e-4):\n",
    "    sess.run(tf.assign(lr, learning_rate))\n",
    "    for _ in range(n):\n",
    "        batch_xs, batch_ys = trainset.next_batch(500)\n",
    "        sess.run(train_step, feed_dict={input_ph: batch_xs, y_: batch_ys})"
   ]
  },
  {
   "cell_type": "code",
   "execution_count": 22,
   "metadata": {
    "collapsed": false
   },
   "outputs": [],
   "source": [
    "# return a new dataset \n",
    "def mnist_i(i):\n",
    "    new_mnist = copy.deepcopy(mnist)\n",
    "    new_len = new_mnist.train.images.shape[0] -1\n",
    "    new_images_shape = [new_len] + list(new_mnist.train.images.shape[1:])\n",
    "    new_labels_shape = [new_len] + list(new_mnist.train.labels.shape[1:])\n",
    "    new_mnist.train.images.resize(new_images_shape)\n",
    "    new_mnist.train.labels.resize(new_labels_shape)\n",
    "    new_mnist.train.images[:] = np.delete(mnist.train.images, i, axis=0)\n",
    "    new_mnist.train.labels[:] = np.delete(mnist.train.labels, i, axis=0)\n",
    "    return new_mnist"
   ]
  },
  {
   "cell_type": "code",
   "execution_count": 23,
   "metadata": {
    "collapsed": false
   },
   "outputs": [],
   "source": [
    "# return a new dataset \n",
    "def mnist_i2(i):\n",
    "    return (np.delete(mnist.train.images, i, axis=0), np.delete(mnist.train.labels, i, axis=0))"
   ]
  },
  {
   "cell_type": "code",
   "execution_count": null,
   "metadata": {
    "collapsed": true
   },
   "outputs": [],
   "source": [
    "class Dataset:\n",
    "    def __init__(self, data):\n",
    "        self.images = data[0]\n",
    "        self.labels = data[1]\n",
    "        self.a = 0 \n",
    "        self.b = None \n",
    "        \n",
    "    def next_batch(self, batch_size):\n",
    "        if self.b == None or self.b == len(self.labels):\n",
    "            self.a = 0\n",
    "            self.b = batch_size\n",
    "        else:\n",
    "            self.a = self.b\n",
    "            self.b = min(self.a + batch_size, len(self.labels) )\n",
    "            \n",
    "        return (self.images[self.a:self.b], self.labels[self.a:self.b])"
   ]
  },
  {
   "cell_type": "code",
   "execution_count": null,
   "metadata": {
    "collapsed": true
   },
   "outputs": [],
   "source": []
  },
  {
   "cell_type": "code",
   "execution_count": null,
   "metadata": {
    "collapsed": false
   },
   "outputs": [
    {
     "name": "stdout",
     "output_type": "stream",
     "text": [
      "5632.0\n"
     ]
    },
    {
     "name": "stderr",
     "output_type": "stream",
     "text": [
      "/usr/local/lib/python3.6/site-packages/ipykernel/__main__.py:9: VisibleDeprecationWarning: using a non-integer number instead of an integer will result in an error in the future\n"
     ]
    },
    {
     "name": "stdout",
     "output_type": "stream",
     "text": [
      "4071.0\n",
      "47266.0\n"
     ]
    }
   ],
   "source": [
    "# leave one out retraining \n",
    "subset = rank[0:5]\n",
    "influence_acc = []\n",
    "grads_l = []\n",
    "saver.restore(sess, \"/home/cgel/deep_quad/mnist_convnet_corrupted.ckpt\")\n",
    "base_testset_loss = testset_loss()\n",
    "for _,i in subset:\n",
    "    print(i)\n",
    "    z = (mnist.train.images[i:i+1], mnist.train.labels[i:i+1])\n",
    "    z_influ, z_grad = inf.of_and_g(z)\n",
    "    grads_l.append(z_grad*scale)\n",
    "    new_mnist = Dataset(mnist_i2(i))\n",
    "    train(15000, new_mnist, learning_rate=1e-7)\n",
    "    d_loss = base_testset_loss - testset_loss()\n",
    "    influence_acc.append( (z_influ * scale, d_loss) )\n",
    "    saver.restore(sess, \"/home/cgel/deep_quad/mnist_convnet_corrupted.ckpt\")"
   ]
  },
  {
   "cell_type": "code",
   "execution_count": null,
   "metadata": {
    "collapsed": true
   },
   "outputs": [],
   "source": []
  },
  {
   "cell_type": "code",
   "execution_count": 47,
   "metadata": {
    "collapsed": true
   },
   "outputs": [],
   "source": [
    "np.save(\"influence-d_loss\", influence_acc)"
   ]
  },
  {
   "cell_type": "code",
   "execution_count": null,
   "metadata": {
    "collapsed": true
   },
   "outputs": [],
   "source": []
  },
  {
   "cell_type": "code",
   "execution_count": 62,
   "metadata": {
    "collapsed": false
   },
   "outputs": [
    {
     "name": "stdout",
     "output_type": "stream",
     "text": [
      "influence d_loss\n",
      "-3.42003487964 -2.51477\n",
      "-3.42988441918 -2.51343\n",
      "-3.31553294259 -2.43469\n",
      "-3.18449001304 -2.54724\n",
      "-2.89721718932 -2.53955\n",
      "-2.80471673122 -2.55725\n",
      "-2.8584670027 -2.57825\n",
      "-2.72052093322 -2.47253\n",
      "-2.71432353466 -2.61023\n",
      "-2.66856245442 -2.5813\n",
      "-2.60808382287 -2.50586\n",
      "-2.50794371573 -2.45508\n",
      "-2.50656829854 -2.54211\n",
      "-2.39679929708 -2.54114\n",
      "-2.42648161668 -2.46692\n",
      "-2.33718128971 -2.50305\n",
      "-2.22871083264 -2.53137\n",
      "-2.13204273027 -2.54834\n",
      "-2.0511296082 -2.61658\n",
      "-2.08956744985 -2.5564\n"
     ]
    }
   ],
   "source": [
    "infs = []\n",
    "d_losses = []\n",
    "print(\"influence\", \"d_loss\")\n",
    "for pair in influence_acc:\n",
    "    infs.append(pair[0])\n",
    "    d_losses.append(pair[1])\n",
    "    print(pair[0], pair[1])"
   ]
  },
  {
   "cell_type": "code",
   "execution_count": 63,
   "metadata": {
    "collapsed": false
   },
   "outputs": [
    {
     "data": {
      "text/plain": [
       "[<matplotlib.lines.Line2D at 0x7ff5af4bc828>]"
      ]
     },
     "execution_count": 63,
     "metadata": {},
     "output_type": "execute_result"
    },
    {
     "data": {
      "image/png": "[encoded data removed]",
      "text/plain": [
       "<matplotlib.figure.Figure at 0x7ff5bc61cb00>"
      ]
     },
     "metadata": {},
     "output_type": "display_data"
    }
   ],
   "source": [
    "plt.plot(infs, d_losses - avrg, \"x\")"
   ]
  },
  {
   "cell_type": "code",
   "execution_count": 43,
   "metadata": {
    "collapsed": false
   },
   "outputs": [
    {
     "data": {
      "text/plain": [
       "[<matplotlib.lines.Line2D at 0x7ff5bc5347b8>]"
      ]
     },
     "execution_count": 43,
     "metadata": {},
     "output_type": "execute_result"
    },
    {
     "data": {
      "image/png": "[encoded data removed]",
      "text/plain": [
       "<matplotlib.figure.Figure at 0x7ff5bc57f0b8>"
      ]
     },
     "metadata": {},
     "output_type": "display_data"
    }
   ],
   "source": [
    "plt.plot(infs, d_losses - avrg, \"x\")"
   ]
  },
  {
   "cell_type": "code",
   "execution_count": 39,
   "metadata": {
    "collapsed": false
   },
   "outputs": [
    {
     "name": "stdout",
     "output_type": "stream",
     "text": [
      "(-0.027689653809073733, -12.173828) False\n",
      "(2.253888293622941, -12.064087) False\n",
      "(-0.057892054706257245, -12.17627) True\n",
      "(-0.028630717219882418, -12.174316) False\n",
      "(-0.015116766469772114, -12.174805) False\n",
      "(0.017373136347864637, -12.154297) False\n",
      "(-0.027889592524935058, -12.174683) False\n",
      "(-0.028365732707147373, -12.173828) False\n",
      "(-0.028661911857935651, -12.174316) False\n",
      "(-0.032132640476745244, -12.174683) False\n",
      "(0.42866204244207395, -12.179932) False\n",
      "(-0.029064536376452454, -12.174072) False\n",
      "(-0.16695554828166648, -12.234497) False\n",
      "(-0.094426384465995383, -12.169678) False\n",
      "(-0.099014407147698935, -12.190796) True\n",
      "(0.053566588407716331, -12.184204) False\n",
      "(-0.053189263293645928, -12.175903) False\n",
      "(-0.028707009974843212, -12.174072) False\n",
      "(-0.02871165062694192, -12.174072) False\n",
      "(-0.029057295559478669, -12.173828) False\n",
      "(-0.028698393551712664, -12.174194) False\n",
      "(0.0093212496818373403, -12.175415) False\n",
      "(-0.031820806585119987, -12.175049) False\n",
      "(-0.031968775614441003, -12.173096) False\n",
      "(-0.13891370975072093, -12.168213) False\n",
      "(-0.0289453283844332, -12.174072) False\n",
      "(-0.028126253955734759, -12.173828) False\n",
      "(-0.028758085434260616, -12.17395) False\n",
      "(-0.028775164060898528, -12.174194) False\n",
      "(-0.028002289455125728, -12.174072) False\n",
      "(-0.028708825708656516, -12.174072) False\n",
      "(-0.034650515383163882, -12.174805) False\n",
      "(-0.35479133025095866, -12.287598) False\n",
      "(-0.028808373064501125, -12.174072) False\n",
      "(-0.028697504578234501, -12.174072) False\n",
      "(-0.028727529954794551, -12.174194) False\n",
      "(-0.028824542027475197, -12.174072) False\n",
      "(-0.036531704679168553, -12.175659) False\n",
      "(-0.035695977415595159, -12.187988) True\n",
      "(-0.035818258348613297, -12.174194) False\n",
      "(-0.39518391828252675, -12.18457) False\n",
      "(-0.029854326347444893, -12.174072) False\n",
      "(-0.077706641540831178, -12.209473) False\n",
      "(-0.028652908209206296, -12.174316) False\n",
      "(-0.02956857592495421, -12.174072) False\n",
      "(-0.028965743274697586, -12.174316) False\n",
      "(-0.034573797505071946, -12.172119) False\n",
      "(-0.029061834659685482, -12.174561) False\n",
      "(-0.028365628225029971, -12.174316) False\n",
      "(-0.025527094635741099, -12.172485) False\n",
      "(-0.024994186571189458, -12.174072) True\n",
      "(-0.028389021934152603, -12.174072) False\n",
      "(-0.028687421943229818, -12.174316) False\n",
      "(-0.030765247987854516, -12.174072) False\n",
      "(-0.028705537384252078, -12.174194) False\n",
      "(-0.10481996777167435, -12.171509) False\n",
      "(-0.031523699990862464, -12.174194) False\n",
      "(-0.022508554127498304, -12.176636) False\n",
      "(-0.03674275291951079, -12.172241) False\n",
      "(-0.1877185612464416, -12.183716) False\n",
      "(-0.036980494996716184, -12.105225) False\n",
      "(-0.029450139292092059, -12.174316) False\n",
      "(-0.076631855060252385, -12.179565) False\n",
      "(-0.029584937117285715, -12.173828) False\n",
      "(-0.028736532420442495, -12.174194) False\n",
      "(-0.028193482149302396, -12.174072) False\n",
      "(-0.031966299446420376, -12.174561) False\n",
      "(-0.027226514149741865, -12.172852) False\n",
      "(-0.028700351223237552, -12.174316) False\n",
      "(-0.10792936071174486, -12.193481) False\n",
      "(0.020699151886162392, -12.172119) False\n"
     ]
    }
   ],
   "source": [
    "influence_acc\n",
    "cu = 0\n",
    "for i in range(len(influence_acc)):\n",
    "    print(influence_acc[i], mnist.train.corrupted_mask[i])\n",
    "    cu += influence_acc[i][1]"
   ]
  },
  {
   "cell_type": "code",
   "execution_count": 42,
   "metadata": {
    "collapsed": false
   },
   "outputs": [],
   "source": [
    "avrg = cu/len(influence_acc)"
   ]
  },
  {
   "cell_type": "code",
   "execution_count": null,
   "metadata": {
    "collapsed": true
   },
   "outputs": [],
   "source": []
  },
  {
   "cell_type": "code",
   "execution_count": 35,
   "metadata": {
    "collapsed": false
   },
   "outputs": [
    {
     "name": "stdout",
     "output_type": "stream",
     "text": [
      "-4.37305\n"
     ]
    }
   ],
   "source": [
    "saver.restore(sess, \"/home/cgel/deep_quad/mnist_convnet_corrupted.ckpt\")\n",
    "base_testset_loss = testset_loss()\n",
    "train(10000, mnist.train, learning_rate=1e-7)\n",
    "d_loss = base_testset_loss - testset_loss()\n",
    "print(d_loss)"
   ]
  },
  {
   "cell_type": "code",
   "execution_count": 37,
   "metadata": {
    "collapsed": false
   },
   "outputs": [
    {
     "data": {
      "text/plain": [
       "1"
      ]
     },
     "execution_count": 37,
     "metadata": {},
     "output_type": "execute_result"
    }
   ],
   "source": [
    "1"
   ]
  },
  {
   "cell_type": "code",
   "execution_count": null,
   "metadata": {
    "collapsed": true
   },
   "outputs": [],
   "source": []
  },
  {
   "cell_type": "code",
   "execution_count": 86,
   "metadata": {
    "collapsed": true
   },
   "outputs": [],
   "source": [
    "saver.restore(sess, \"/home/cgel/deep_quad/mnist_convnet_corrupted.ckpt\")"
   ]
  },
  {
   "cell_type": "code",
   "execution_count": 87,
   "metadata": {
    "collapsed": false
   },
   "outputs": [],
   "source": [
    "sess.run(tf.global_variables_initializer())"
   ]
  },
  {
   "cell_type": "code",
   "execution_count": 10,
   "metadata": {
    "collapsed": false
   },
   "outputs": [
    {
     "name": "stdout",
     "output_type": "stream",
     "text": [
      "test acc 0.0846\n",
      "test loss 30870.3\n",
      "train acc 0.0891\n",
      "train loss 31078.4\n",
      "---\n",
      "test acc 0.9632\n",
      "test loss 1621.01\n",
      "train acc 0.9499\n",
      "train loss 2671.71\n",
      "---\n",
      "test acc 0.9712\n",
      "test loss 1323.3\n",
      "train acc 0.9639\n",
      "train loss 1933.37\n",
      "---\n",
      "test acc 0.9732\n",
      "test loss 1229.11\n",
      "train acc 0.9698\n",
      "train loss 1451.83\n",
      "---\n",
      "test acc 0.9725\n",
      "test loss 1166.37\n",
      "train acc 0.9756\n",
      "train loss 1049.5\n",
      "---\n",
      "test acc 0.9734\n",
      "test loss 1083.27\n",
      "train acc 0.9822\n",
      "train loss 731.857\n",
      "---\n",
      "test acc 0.9726\n",
      "test loss 1060.42\n",
      "train acc 0.9905\n",
      "train loss 486.994\n",
      "---\n",
      "test acc 0.9716\n",
      "test loss 1048.83\n",
      "train acc 0.9961\n",
      "train loss 306.672\n",
      "---\n",
      "test acc 0.9711\n",
      "test loss 1017.23\n",
      "train acc 0.9983\n",
      "train loss 184.784\n",
      "---\n",
      "test acc 0.9701\n",
      "test loss 1028.05\n",
      "train acc 0.9988\n",
      "train loss 113.906\n",
      "---\n",
      "test acc 0.9704\n",
      "test loss 1045.9\n",
      "train acc 0.9994\n",
      "train loss 69.462\n",
      "---\n",
      "XXXX\n",
      "test acc 0.9698\n",
      "test loss 1084.29\n",
      "train acc 0.9999\n",
      "train loss 42.4314\n",
      "---\n",
      "test acc 0.9689\n",
      "test loss 1126.6\n",
      "train acc 0.9999\n",
      "train loss 32.3282\n",
      "---\n",
      "test acc 0.9689\n",
      "test loss 1157.06\n",
      "train acc 1.0\n",
      "train loss 19.7326\n",
      "---\n",
      "test acc 0.9695\n",
      "test loss 1188.89\n",
      "train acc 1.0\n",
      "train loss 14.7018\n",
      "---\n",
      "test acc 0.9667\n",
      "test loss 1287.82\n",
      "train acc 0.9994\n",
      "train loss 40.3506\n",
      "---\n",
      "test acc 0.9697\n",
      "test loss 1238.43\n",
      "train acc 1.0\n",
      "train loss 10.3981\n",
      "---\n",
      "test acc 0.9693\n",
      "test loss 1251.98\n",
      "train acc 1.0\n",
      "train loss 9.45525\n",
      "---\n",
      "test acc 0.9683\n",
      "test loss 1322.95\n",
      "train acc 1.0\n",
      "train loss 10.986\n",
      "---\n",
      "test acc 0.9697\n",
      "test loss 1281.04\n",
      "train acc 1.0\n",
      "train loss 7.83585\n",
      "---\n",
      "test acc 0.9698\n",
      "test loss 1284.01\n",
      "train acc 1.0\n",
      "train loss 7.35903\n",
      "---\n",
      "test acc 0.9694\n",
      "test loss 1299.8\n",
      "train acc 1.0\n",
      "train loss 7.18464\n",
      "---\n",
      "test acc 0.9695\n",
      "test loss 1306.42\n",
      "train acc 1.0\n",
      "train loss 6.74382\n",
      "---\n",
      "test acc 0.9689\n",
      "test loss 1314.59\n",
      "train acc 1.0\n",
      "train loss 6.47041\n",
      "---\n",
      "test acc 0.9691\n",
      "test loss 1313.23\n",
      "train acc 1.0\n",
      "train loss 6.18862\n",
      "---\n",
      "test acc 0.9697\n",
      "test loss 1303.65\n",
      "train acc 1.0\n",
      "train loss 5.90618\n",
      "---\n",
      "XXXX\n",
      "test acc 0.9694\n",
      "test loss 1295.51\n",
      "train acc 1.0\n",
      "train loss 5.67874\n",
      "---\n",
      "test acc 0.9694\n",
      "test loss 1295.59\n",
      "train acc 1.0\n",
      "train loss 5.58141\n",
      "---\n",
      "test acc 0.9692\n",
      "test loss 1291.66\n",
      "train acc 1.0\n",
      "train loss 5.55953\n",
      "---\n",
      "test acc 0.9694\n",
      "test loss 1291.77\n",
      "train acc 1.0\n",
      "train loss 5.52102\n",
      "---\n",
      "test acc 0.9691\n",
      "test loss 1290.52\n",
      "train acc 1.0\n",
      "train loss 5.46961\n",
      "---\n",
      "test acc 0.9692\n",
      "test loss 1282.54\n",
      "train acc 1.0\n",
      "train loss 5.41735\n",
      "---\n",
      "test acc 0.9691\n",
      "test loss 1282.88\n",
      "train acc 1.0\n",
      "train loss 5.39521\n",
      "---\n",
      "test acc 0.9693\n",
      "test loss 1279.39\n",
      "train acc 1.0\n",
      "train loss 5.34093\n",
      "---\n",
      "test acc 0.9689\n",
      "test loss 1285.67\n",
      "train acc 1.0\n",
      "train loss 5.34137\n",
      "---\n",
      "test acc 0.9689\n",
      "test loss 1281.23\n",
      "train acc 1.0\n",
      "train loss 5.2611\n",
      "---\n",
      "XXXX\n",
      "test acc 0.9691\n",
      "test loss 1280.37\n",
      "train acc 1.0\n",
      "train loss 5.22092\n",
      "---\n",
      "test acc 0.9692\n",
      "test loss 1278.35\n",
      "train acc 1.0\n",
      "train loss 5.22632\n",
      "---\n",
      "test acc 0.9693\n",
      "test loss 1278.46\n",
      "train acc 1.0\n",
      "train loss 5.21676\n",
      "---\n",
      "test acc 0.9692\n",
      "test loss 1277.41\n",
      "train acc 1.0\n",
      "train loss 5.21618\n",
      "---\n",
      "test acc 0.9694\n",
      "test loss 1277.23\n",
      "train acc 1.0\n",
      "train loss 5.21483\n",
      "---\n",
      "test acc 0.9693\n",
      "test loss 1278.12\n",
      "train acc 1.0\n",
      "train loss 5.20718\n",
      "---\n",
      "test acc 0.9693\n",
      "test loss 1277.95\n",
      "train acc 1.0\n",
      "train loss 5.19952\n",
      "---\n",
      "test acc 0.9693\n",
      "test loss 1277.82\n",
      "train acc 1.0\n",
      "train loss 5.20765\n",
      "---\n",
      "test acc 0.9692\n",
      "test loss 1277.34\n",
      "train acc 1.0\n",
      "train loss 5.19207\n",
      "---\n",
      "test acc 0.9695\n",
      "test loss 1277.04\n",
      "train acc 1.0\n",
      "train loss 5.1857\n",
      "---\n"
     ]
    }
   ],
   "source": [
    "test()\n",
    "for i in range(10):\n",
    "    train(10000, mnist.train)\n",
    "    test()\n",
    "print(\"XXXX\")\n",
    "for i in range(10):\n",
    "    train(10000, mnist.train, 1e-5)\n",
    "    test() \n",
    "print(\"XXXX\")\n",
    "for i in range(10):\n",
    "    train(10000, mnist.train, 1e-6)\n",
    "    test()\n",
    "print(\"XXXX\")\n",
    "for i in range(10):\n",
    "    train(10000, mnist.train, 1e-7)\n",
    "    test()"
   ]
  },
  {
   "cell_type": "code",
   "execution_count": 11,
   "metadata": {
    "collapsed": false
   },
   "outputs": [
    {
     "name": "stdout",
     "output_type": "stream",
     "text": [
      "train\n",
      "grad norm 18.5843177063\n",
      "loss 5.1857\n"
     ]
    }
   ],
   "source": [
    "gs_np, loss = sess.run([gs, cross_entropy], feed_dict=train_feed_dic)\n",
    "print(\"train\")\n",
    "print(\"grad norm\",influence.lnorm(gs_np))\n",
    "print(\"loss\", loss)"
   ]
  },
  {
   "cell_type": "code",
   "execution_count": 12,
   "metadata": {
    "collapsed": false
   },
   "outputs": [
    {
     "name": "stdout",
     "output_type": "stream",
     "text": [
      "test\n",
      "grad norm 6245.49428715\n",
      "loss 1277.04\n"
     ]
    }
   ],
   "source": [
    "gs_np, loss = sess.run([gs, cross_entropy], feed_dict=test_feed_dic)\n",
    "print(\"test\")\n",
    "print(\"grad norm\",influence.lnorm(gs_np))\n",
    "print(\"loss\", loss)"
   ]
  },
  {
   "cell_type": "code",
   "execution_count": null,
   "metadata": {
    "collapsed": true
   },
   "outputs": [],
   "source": []
  },
  {
   "cell_type": "code",
   "execution_count": 18,
   "metadata": {
    "collapsed": false
   },
   "outputs": [
    {
     "data": {
      "text/plain": [
       "'/home/cgel/deep_quad/mnist_convnet_corrupted.ckpt'"
      ]
     },
     "execution_count": 18,
     "metadata": {},
     "output_type": "execute_result"
    }
   ],
   "source": [
    "saver.save(sess, \"/home/cgel/deep_quad/mnist_convnet_corrupted.ckpt\")"
   ]
  },
  {
   "cell_type": "code",
   "execution_count": null,
   "metadata": {
    "collapsed": true
   },
   "outputs": [],
   "source": []
  }
 ],
 "metadata": {
  "kernelspec": {
   "display_name": "Python 3",
   "language": "python",
   "name": "python3"
  },
  "language_info": {
   "codemirror_mode": {
    "name": "ipython",
    "version": 3
   },
   "file_extension": ".py",
   "mimetype": "text/x-python",
   "name": "python",
   "nbconvert_exporter": "python",
   "pygments_lexer": "ipython3",
   "version": "3.6.0"
  }
 },
 "nbformat": 4,
 "nbformat_minor": 2
}
