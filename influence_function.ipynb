{
 "cells": [
  {
   "cell_type": "code",
   "execution_count": 1,
   "metadata": {
    "collapsed": false
   },
   "outputs": [
    {
     "name": "stdout",
     "output_type": "stream",
     "text": [
      "Extracting mnist_data/train-images-idx3-ubyte.gz\n",
      "Extracting mnist_data/train-labels-idx1-ubyte.gz\n",
      "Extracting mnist_data/t10k-images-idx3-ubyte.gz\n",
      "Extracting mnist_data/t10k-labels-idx1-ubyte.gz\n"
     ]
    }
   ],
   "source": [
    "from __future__ import absolute_import\n",
    "from __future__ import division\n",
    "from __future__ import print_function\n",
    "%matplotlib inline\n",
    "\n",
    "import matplotlib\n",
    "import matplotlib.pyplot as plt\n",
    "import argparse\n",
    "import sys\n",
    "import numpy as np\n",
    "from tensorflow.examples.tutorials.mnist import input_data\n",
    "import tensorflow as tf\n",
    "import influence\n",
    "from mnist_convnet import deepnn\n",
    "from utils import corrupt_mnist\n",
    "import copy\n",
    "\n",
    "np.random.seed(1)\n",
    "\n",
    "FLAGS = None\n",
    "\n",
    "# Import data\n",
    "mnist = corrupt_mnist(input_data.read_data_sets(\"mnist_data\", one_hot=True), 0.03)\n",
    "\n",
    "# Create the model\n",
    "with tf.name_scope(\"net\"):\n",
    "    input_ph = tf.placeholder(tf.float32, [None, 784])\n",
    "    y = deepnn(input_ph)\n",
    "\n",
    "# Define loss and optimizer\n",
    "with tf.name_scope(\"loss\"):\n",
    "    y_ = tf.placeholder(tf.float32, [None, 10], name=\"y_target\")\n",
    "    batch_loss = tf.nn.softmax_cross_entropy_with_logits(labels=y_, logits=y)\n",
    "    cross_entropy = tf.reduce_sum(batch_loss)\n",
    "\n",
    "lr = tf.Variable(0.1)\n",
    "opt = tf.train.AdamOptimizer(lr)\n",
    "grads_and_vars = opt.compute_gradients(cross_entropy)\n",
    "train_step = opt.apply_gradients(grads_and_vars)\n",
    "\n",
    "# Test trained model\n",
    "with tf.name_scope(\"accuracy\"):\n",
    "    correct_prediction = tf.equal(tf.argmax(y, 1), tf.argmax(y_, 1))\n",
    "    accuracy = tf.reduce_mean(tf.cast(correct_prediction, tf.float32))\n",
    "\n",
    "saver = tf.train.Saver()\n",
    "sess = tf.InteractiveSession()\n",
    "\n",
    "tf.global_variables_initializer().run()"
   ]
  },
  {
   "cell_type": "code",
   "execution_count": 2,
   "metadata": {
    "collapsed": true
   },
   "outputs": [],
   "source": [
    "saver.restore(sess, \"/home/cgel/deep_quad/mnist_convnet_corrupted.ckpt\")\n",
    "\n",
    "summary_writter = tf.summary.FileWriter(\"./Hvp_summaries\", sess.graph)"
   ]
  },
  {
   "cell_type": "code",
   "execution_count": 11,
   "metadata": {
    "collapsed": false
   },
   "outputs": [],
   "source": [
    "test_feed_dic = {input_ph: mnist.test.images, y_: mnist.test.labels}\n",
    "\n",
    "batch_xs, batch_ys = mnist.train.next_batch(mnist.test.images.shape[0])\n",
    "train_feed_dic = {input_ph:batch_xs, y_:batch_ys}\n",
    "\n",
    "testset = (mnist.test.images, mnist.test.labels)\n",
    "trainset = (mnist.train.images, mnist.train.labels)\n",
    "#trainset = (mnist.train.images[0:10000], mnist.train.labels[0:10000])"
   ]
  },
  {
   "cell_type": "code",
   "execution_count": 4,
   "metadata": {
    "collapsed": false
   },
   "outputs": [],
   "source": [
    "gs = [g for g,v in grads_and_vars if g is not None]"
   ]
  },
  {
   "cell_type": "code",
   "execution_count": 13,
   "metadata": {
    "collapsed": false
   },
   "outputs": [
    {
     "name": "stdout",
     "output_type": "stream",
     "text": [
      "error: 0.67208\n",
      "- iter: 0\n",
      "Error: 1.02822612068\n",
      "dad: 0.0277242945939\n",
      "alpha: 16.2923079551\n",
      "beta: 2.34063753096\n",
      "Ad scaling: 0.112184292147\n",
      "- iter: 1\n",
      "Error: 1.02216763439\n",
      "dad: 0.083085312794\n",
      "alpha: 12.7248602274\n",
      "beta: 0.98825043612\n",
      "Ad scaling: 0.0606272499781\n",
      "- iter: 2\n",
      "Error: 1.04994340152\n",
      "dad: 0.0787399306941\n",
      "alpha: 13.2693382948\n",
      "beta: 1.05508526661\n",
      "Ad scaling: 0.0520908520344\n",
      "- iter: 3\n",
      "Error: 1.09641953929\n",
      "dad: 0.0999970529276\n",
      "alpha: 11.0241382823\n",
      "beta: 1.09048978855\n",
      "Ad scaling: 0.0557301173012\n",
      "- iter: 4\n",
      "Error: 1.00551728768\n",
      "dad: 0.134279000272\n",
      "alpha: 8.95252117724\n",
      "beta: 0.841057263636\n",
      "Ad scaling: 0.0571238775805\n",
      "- iter: 5\n",
      "Error: 1.05097259117\n",
      "dad: 0.0860072663044\n",
      "alpha: 11.7555750381\n",
      "beta: 1.09245534743\n",
      "Ad scaling: 0.0467747966135\n",
      "- iter: 6\n",
      "Error: 0.959327728597\n",
      "dad: 0.109571099393\n",
      "alpha: 10.0806073233\n",
      "beta: 0.833204159872\n",
      "Ad scaling: 0.0459060674311\n",
      "- iter: 7\n",
      "Error: 1.05686886148\n",
      "dad: 0.0776691869388\n",
      "alpha: 11.8491006246\n",
      "beta: 1.21369057891\n",
      "Ad scaling: 0.0440309485211\n",
      "- iter: 8\n",
      "Error: 1.4143286583\n",
      "dad: 0.0570619739192\n",
      "alpha: 19.5747099841\n",
      "beta: 1.79084751782\n",
      "Ad scaling: 0.025885017092\n",
      "- iter: 9\n",
      "Error: 2.70334546311\n",
      "dad: 0.082698920879\n",
      "alpha: 24.1880520232\n",
      "beta: 3.65344310295\n",
      "Ad scaling: 0.0197131212208\n"
     ]
    }
   ],
   "source": [
    "scale = float(len(trainset[0]))\n",
    "inf = influence.Influence(cross_entropy/scale, input_ph, y_, testset, trainset, cg_iters = 10, dampening=0.001, vervose=3)"
   ]
  },
  {
   "cell_type": "code",
   "execution_count": null,
   "metadata": {
    "collapsed": false
   },
   "outputs": [],
   "source": [
    "#inf.recompute_s(cg_iters = 20, dampening=4e-2, vervose=1)"
   ]
  },
  {
   "cell_type": "code",
   "execution_count": 82,
   "metadata": {
    "collapsed": false
   },
   "outputs": [],
   "source": [
    "influences_corrupted = []\n",
    "influences_non_corrupted = []\n",
    "grads_corrupted = []\n",
    "grads_non_corrupted = []\n",
    "#size = len(mnist.train.labels)\n",
    "size = 1000\n",
    "for i in range(size):\n",
    "    z = (mnist.train.images[i:i+1], mnist.train.labels[i:i+1])\n",
    "    influ, z_grad = inf.of_and_g(z)\n",
    "    if mnist.train.corrupted_mask[i]:\n",
    "        influences_corrupted.append(influ)\n",
    "        grads_corrupted.append(z_grad)\n",
    "    else:\n",
    "        influences_non_corrupted.append(influ)\n",
    "        grads_non_corrupted.append(z_grad)\n",
    "all_influences = influences_corrupted + influences_non_corrupted\n",
    "all_grads = grads_corrupted + grads_non_corrupted"
   ]
  },
  {
   "cell_type": "code",
   "execution_count": 83,
   "metadata": {
    "collapsed": false
   },
   "outputs": [
    {
     "name": "stdout",
     "output_type": "stream",
     "text": [
      "non corrupted\n",
      "mean -6.47728385977e-08\n",
      "std 1.21111189844e-05\n"
     ]
    }
   ],
   "source": [
    "print(\"non corrupted\")\n",
    "print(\"mean\",np.mean( influences_non_corrupted))\n",
    "print(\"std\",np.std( influences_non_corrupted))"
   ]
  },
  {
   "cell_type": "code",
   "execution_count": 84,
   "metadata": {
    "collapsed": false
   },
   "outputs": [
    {
     "name": "stdout",
     "output_type": "stream",
     "text": [
      "corrupted\n",
      "mean -1.88751401152e-06\n",
      "std 5.31467498935e-06\n"
     ]
    }
   ],
   "source": [
    "print(\"corrupted\")\n",
    "print(\"mean\",np.mean( influences_corrupted))\n",
    "print(\"std\",np.std( influences_corrupted))"
   ]
  },
  {
   "cell_type": "code",
   "execution_count": 16,
   "metadata": {
    "collapsed": true
   },
   "outputs": [],
   "source": [
    "inf.s = influence.lset(inf.s, 1.)"
   ]
  },
  {
   "cell_type": "code",
   "execution_count": null,
   "metadata": {
    "collapsed": true
   },
   "outputs": [],
   "source": []
  },
  {
   "cell_type": "code",
   "execution_count": 74,
   "metadata": {
    "collapsed": false
   },
   "outputs": [],
   "source": [
    "def train(n, mnist=mnist, learning_rate=0.1e-4):\n",
    "    sess.run(tf.assign(lr, learning_rate))\n",
    "    for _ in range(n):\n",
    "        batch_xs, batch_ys = mnist.train.next_batch(64)\n",
    "        sess.run(train_step, feed_dict={input_ph: batch_xs, y_: batch_ys})\n",
    "        \n",
    "def test():\n",
    "    test_acc, test_loss = sess.run([accuracy, cross_entropy], feed_dict={input_ph: mnist.test.images,\n",
    "                                  y_: mnist.test.labels})\n",
    "    train_acc, train_loss = sess.run([accuracy, cross_entropy], feed_dict=train_feed_dic)\n",
    "    print(\"test acc\", test_acc)\n",
    "    print(\"test loss\", test_loss)\n",
    "    print(\"train acc\", train_acc)\n",
    "    print(\"train loss\", train_loss) \n",
    "    print(\"---\")\n",
    "    \n",
    "def testset_loss():\n",
    "    return sess.run(cross_entropy, feed_dict={input_ph: mnist.test.images, y_: mnist.test.labels})\n",
    "\n",
    "def train_(n, trainset=mnist, learning_rate=0.1e-4):\n",
    "    sess.run(tf.assign(lr, learning_rate))\n",
    "    for _ in range(n):\n",
    "        batch_xs, batch_ys = mnist.train.next_batch(64)\n",
    "        sess.run(train_step, feed_dict={input_ph: batch_xs, y_: batch_ys})"
   ]
  },
  {
   "cell_type": "code",
   "execution_count": 62,
   "metadata": {
    "collapsed": false
   },
   "outputs": [],
   "source": [
    "# return a new dataset \n",
    "def mnist_i(i):\n",
    "    new_mnist = copy.deepcopy(mnist)\n",
    "    new_len = new_mnist.train.images.shape[0] -1\n",
    "    new_images_shape = [new_len] + list(new_mnist.train.images.shape[1:])\n",
    "    new_labels_shape = [new_len] + list(new_mnist.train.labels.shape[1:])\n",
    "    new_mnist.train.images.resize(new_images_shape)\n",
    "    new_mnist.train.labels.resize(new_labels_shape)\n",
    "    new_mnist.train.images[:] = np.delete(mnist.train.images, i, axis=0)\n",
    "    new_mnist.train.labels[:] = np.delete(mnist.train.labels, i, axis=0)\n",
    "    return new_mnist"
   ]
  },
  {
   "cell_type": "code",
   "execution_count": 63,
   "metadata": {
    "collapsed": true
   },
   "outputs": [],
   "source": [
    "subset = [1,2,3]"
   ]
  },
  {
   "cell_type": "code",
   "execution_count": 70,
   "metadata": {
    "collapsed": false
   },
   "outputs": [],
   "source": [
    "# leave one out retraining \n",
    "influence_acc = []\n",
    "saver.restore(sess, \"/home/cgel/deep_quad/mnist_convnet_corrupted.ckpt\")\n",
    "base_testset_loss = testset_loss()\n",
    "for i in subset:\n",
    "    z = (mnist.train.images[i:i+1], mnist.train.labels[i:i+1])\n",
    "    z_influ, z_grad = inf.of_and_g(z)\n",
    "    new_mnist = mnist_i(i)\n",
    "    train(100, new_mnist, learning_rate=1e-6)\n",
    "    d_loss = base_testset_loss - testset_loss()\n",
    "    influence_acc.append( (z_influ, d_loss) )\n",
    "    saver.restore(sess, \"/home/cgel/deep_quad/mnist_convnet_corrupted.ckpt\")"
   ]
  },
  {
   "cell_type": "code",
   "execution_count": 71,
   "metadata": {
    "collapsed": false
   },
   "outputs": [
    {
     "name": "stdout",
     "output_type": "stream",
     "text": [
      "7.37678829755e-14 1.04041\n",
      "-2.86043394536e-11 1.04028\n",
      "5.96473021503e-15 1.04053\n"
     ]
    }
   ],
   "source": [
    "for pair in influence_acc:\n",
    "    print(pair[0], pair[1])"
   ]
  },
  {
   "cell_type": "code",
   "execution_count": 75,
   "metadata": {
    "collapsed": false
   },
   "outputs": [
    {
     "name": "stdout",
     "output_type": "stream",
     "text": [
      "test acc 0.9659\n",
      "test loss 1377.63\n",
      "train acc 1.0\n",
      "train loss 4.47512\n",
      "---\n"
     ]
    },
    {
     "ename": "AttributeError",
     "evalue": "'float' object has no attribute 'train'",
     "output_type": "error",
     "traceback": [
      "\u001b[0;31m---------------------------------------------------------------------------\u001b[0m",
      "\u001b[0;31mAttributeError\u001b[0m                            Traceback (most recent call last)",
      "\u001b[0;32m<ipython-input-75-cef093f03e34>\u001b[0m in \u001b[0;36m<module>\u001b[0;34m()\u001b[0m\n\u001b[1;32m      1\u001b[0m \u001b[0mtest\u001b[0m\u001b[0;34m(\u001b[0m\u001b[0;34m)\u001b[0m\u001b[0;34m\u001b[0m\u001b[0m\n\u001b[1;32m      2\u001b[0m \u001b[0;32mfor\u001b[0m \u001b[0mi\u001b[0m \u001b[0;32min\u001b[0m \u001b[0mrange\u001b[0m\u001b[0;34m(\u001b[0m\u001b[0;36m3\u001b[0m\u001b[0;34m)\u001b[0m\u001b[0;34m:\u001b[0m\u001b[0;34m\u001b[0m\u001b[0m\n\u001b[0;32m----> 3\u001b[0;31m     \u001b[0mtrain\u001b[0m\u001b[0;34m(\u001b[0m\u001b[0;36m1000\u001b[0m\u001b[0;34m,\u001b[0m \u001b[0;36m1e-6\u001b[0m\u001b[0;34m)\u001b[0m\u001b[0;34m\u001b[0m\u001b[0m\n\u001b[0m\u001b[1;32m      4\u001b[0m     \u001b[0mtest\u001b[0m\u001b[0;34m(\u001b[0m\u001b[0;34m)\u001b[0m\u001b[0;34m\u001b[0m\u001b[0m\n",
      "\u001b[0;32m<ipython-input-74-15c6f83d00de>\u001b[0m in \u001b[0;36mtrain\u001b[0;34m(n, mnist, learning_rate)\u001b[0m\n\u001b[1;32m      2\u001b[0m     \u001b[0msess\u001b[0m\u001b[0;34m.\u001b[0m\u001b[0mrun\u001b[0m\u001b[0;34m(\u001b[0m\u001b[0mtf\u001b[0m\u001b[0;34m.\u001b[0m\u001b[0massign\u001b[0m\u001b[0;34m(\u001b[0m\u001b[0mlr\u001b[0m\u001b[0;34m,\u001b[0m \u001b[0mlearning_rate\u001b[0m\u001b[0;34m)\u001b[0m\u001b[0;34m)\u001b[0m\u001b[0;34m\u001b[0m\u001b[0m\n\u001b[1;32m      3\u001b[0m     \u001b[0;32mfor\u001b[0m \u001b[0m_\u001b[0m \u001b[0;32min\u001b[0m \u001b[0mrange\u001b[0m\u001b[0;34m(\u001b[0m\u001b[0mn\u001b[0m\u001b[0;34m)\u001b[0m\u001b[0;34m:\u001b[0m\u001b[0;34m\u001b[0m\u001b[0m\n\u001b[0;32m----> 4\u001b[0;31m         \u001b[0mbatch_xs\u001b[0m\u001b[0;34m,\u001b[0m \u001b[0mbatch_ys\u001b[0m \u001b[0;34m=\u001b[0m \u001b[0mmnist\u001b[0m\u001b[0;34m.\u001b[0m\u001b[0mtrain\u001b[0m\u001b[0;34m.\u001b[0m\u001b[0mnext_batch\u001b[0m\u001b[0;34m(\u001b[0m\u001b[0;36m64\u001b[0m\u001b[0;34m)\u001b[0m\u001b[0;34m\u001b[0m\u001b[0m\n\u001b[0m\u001b[1;32m      5\u001b[0m         \u001b[0msess\u001b[0m\u001b[0;34m.\u001b[0m\u001b[0mrun\u001b[0m\u001b[0;34m(\u001b[0m\u001b[0mtrain_step\u001b[0m\u001b[0;34m,\u001b[0m \u001b[0mfeed_dict\u001b[0m\u001b[0;34m=\u001b[0m\u001b[0;34m{\u001b[0m\u001b[0minput_ph\u001b[0m\u001b[0;34m:\u001b[0m \u001b[0mbatch_xs\u001b[0m\u001b[0;34m,\u001b[0m \u001b[0my_\u001b[0m\u001b[0;34m:\u001b[0m \u001b[0mbatch_ys\u001b[0m\u001b[0;34m}\u001b[0m\u001b[0;34m)\u001b[0m\u001b[0;34m\u001b[0m\u001b[0m\n\u001b[1;32m      6\u001b[0m \u001b[0;34m\u001b[0m\u001b[0m\n",
      "\u001b[0;31mAttributeError\u001b[0m: 'float' object has no attribute 'train'"
     ]
    }
   ],
   "source": [
    "test()\n",
    "for i in range(3):\n",
    "    train(1000, 1e-6)\n",
    "    test() "
   ]
  },
  {
   "cell_type": "code",
   "execution_count": 5,
   "metadata": {
    "collapsed": false
   },
   "outputs": [
    {
     "name": "stdout",
     "output_type": "stream",
     "text": [
      "test acc 0.0719\n",
      "train acc 0.0783\n",
      "---\n",
      "test acc 0.9624\n",
      "train acc 0.9539\n",
      "---\n",
      "test acc 0.9695\n",
      "train acc 0.9694\n",
      "---\n",
      "test acc 0.9706\n",
      "train acc 0.9764\n",
      "---\n",
      "test acc 0.9683\n",
      "train acc 0.9873\n",
      "---\n",
      "test acc 0.9671\n",
      "train acc 0.9958\n",
      "---\n",
      "XXXX\n",
      "test acc 0.9682\n",
      "train acc 0.999\n",
      "---\n",
      "test acc 0.9667\n",
      "train acc 0.9998\n",
      "---\n",
      "test acc 0.9672\n",
      "train acc 0.9993\n",
      "---\n"
     ]
    }
   ],
   "source": [
    "test()\n",
    "for i in range(5):\n",
    "    train(10000)\n",
    "    test()\n",
    "print(\"XXXX\")\n",
    "for i in range(3):\n",
    "    train(10000, 1e-5)\n",
    "    test() "
   ]
  },
  {
   "cell_type": "code",
   "execution_count": 42,
   "metadata": {
    "collapsed": false
   },
   "outputs": [
    {
     "name": "stdout",
     "output_type": "stream",
     "text": [
      "test acc 0.9655\n",
      "train acc 1.0\n",
      "---\n",
      "test acc 0.9651\n",
      "train acc 1.0\n",
      "---\n"
     ]
    }
   ],
   "source": [
    "for i in range(2):\n",
    "    train(10000, 1e-5)\n",
    "    test() "
   ]
  },
  {
   "cell_type": "code",
   "execution_count": 43,
   "metadata": {
    "collapsed": false
   },
   "outputs": [
    {
     "name": "stdout",
     "output_type": "stream",
     "text": [
      "test acc 0.9662\n",
      "train acc 1.0\n",
      "---\n",
      "test acc 0.9659\n",
      "train acc 1.0\n",
      "---\n"
     ]
    }
   ],
   "source": [
    "for i in range(2):\n",
    "    train(10000, 1e-6)\n",
    "    test() "
   ]
  },
  {
   "cell_type": "code",
   "execution_count": 45,
   "metadata": {
    "collapsed": false
   },
   "outputs": [
    {
     "name": "stdout",
     "output_type": "stream",
     "text": [
      "train\n",
      "grad norm 0.00566148720883\n",
      "loss 0.000413698\n"
     ]
    }
   ],
   "source": [
    "gs_np, loss = sess.run([gs, cross_entropy], feed_dict=train_feed_dic)\n",
    "print(\"train\")\n",
    "print(\"grad norm\",influence.lnorm(gs_np))\n",
    "print(\"loss\", loss)"
   ]
  },
  {
   "cell_type": "code",
   "execution_count": 46,
   "metadata": {
    "collapsed": false
   },
   "outputs": [
    {
     "name": "stdout",
     "output_type": "stream",
     "text": [
      "test\n",
      "grad norm 0.672080902145\n",
      "loss 0.137763\n"
     ]
    }
   ],
   "source": [
    "gs_np, loss = sess.run([gs, cross_entropy], feed_dict=test_feed_dic)\n",
    "print(\"test\")\n",
    "print(\"grad norm\",influence.lnorm(gs_np))\n",
    "print(\"loss\", loss)"
   ]
  },
  {
   "cell_type": "code",
   "execution_count": null,
   "metadata": {
    "collapsed": true
   },
   "outputs": [],
   "source": []
  },
  {
   "cell_type": "code",
   "execution_count": 10,
   "metadata": {
    "collapsed": false
   },
   "outputs": [
    {
     "data": {
      "text/plain": [
       "'/home/cgel/deep_quad/mnist_convnet_corrupted.ckpt'"
      ]
     },
     "execution_count": 10,
     "metadata": {},
     "output_type": "execute_result"
    }
   ],
   "source": [
    "saver.save(sess, \"/home/cgel/deep_quad/mnist_convnet_corrupted.ckpt\")"
   ]
  },
  {
   "cell_type": "code",
   "execution_count": 79,
   "metadata": {
    "collapsed": false
   },
   "outputs": [
    {
     "data": {
      "text/plain": [
       "array([  0,  10,  20,  30,  40,  50,  60,  70,  80,  90, 100])"
      ]
     },
     "execution_count": 79,
     "metadata": {},
     "output_type": "execute_result"
    }
   ],
   "source": [
    "np.arange(0, 102, 10)"
   ]
  },
  {
   "cell_type": "code",
   "execution_count": null,
   "metadata": {
    "collapsed": true
   },
   "outputs": [],
   "source": [
    "mnist.train."
   ]
  },
  {
   "cell_type": "code",
   "execution_count": null,
   "metadata": {
    "collapsed": true
   },
   "outputs": [],
   "source": []
  },
  {
   "cell_type": "code",
   "execution_count": 7,
   "metadata": {
    "collapsed": false
   },
   "outputs": [
    {
     "name": "stdout",
     "output_type": "stream",
     "text": [
      "------\n",
      "i: 0\n",
      "e_value: 0.00209694207342\n",
      "d: 0.000463992465079\n",
      "------\n",
      "i: 1\n",
      "e_value: 0.208728579166\n",
      "d: 0.125567949542\n",
      "------\n",
      "i: 2\n",
      "e_value: 0.324813067168\n",
      "d: 0.300162498384\n",
      "------\n",
      "i: 3\n",
      "e_value: 0.359543528431\n",
      "d: 0.411048534363\n",
      "------\n",
      "i: 4\n",
      "e_value: 0.374532068351\n",
      "d: 0.478665687999\n",
      "------\n",
      "i: 5\n",
      "e_value: 0.381948688661\n",
      "d: 0.516788905821\n",
      "------\n",
      "i: 6\n",
      "e_value: 0.386042167284\n",
      "d: 0.534752966201\n",
      "------\n",
      "i: 7\n",
      "e_value: 0.388610587858\n",
      "d: 0.538380275956\n",
      "------\n",
      "i: 8\n",
      "e_value: 0.390461300743\n",
      "d: 0.53107601776\n",
      "------\n",
      "i: 9\n",
      "e_value: 0.391975541989\n",
      "d: 0.514732760272\n",
      "------\n",
      "i: 10\n",
      "e_value: 0.39335060605\n",
      "d: 0.490329457008\n",
      "------\n",
      "i: 11\n",
      "e_value: 0.394694985212\n",
      "d: 0.458311550666\n",
      "------\n",
      "i: 12\n",
      "e_value: 0.396076195252\n",
      "d: 0.418841258751\n",
      "------\n",
      "i: 13\n",
      "e_value: 0.39753462587\n",
      "d: 0.371977643307\n",
      "------\n",
      "i: 14\n",
      "e_value: 0.399097710709\n",
      "d: 0.31781342407\n",
      "------\n",
      "i: 15\n",
      "e_value: 0.400778156071\n",
      "d: 0.256585544159\n",
      "------\n",
      "i: 16\n",
      "e_value: 0.40257995568\n",
      "d: 0.188761466421\n",
      "------\n",
      "i: 17\n",
      "e_value: 0.404494614403\n",
      "d: 0.115096336608\n",
      "------\n",
      "i: 18\n",
      "e_value: 0.406506348658\n",
      "d: 0.0366534526281\n",
      "------\n",
      "i: 19\n",
      "e_value: 0.408587911331\n",
      "d: 0.0452176769198\n",
      "------\n",
      "i: 20\n",
      "e_value: 0.410707322493\n",
      "d: 0.128947080891\n",
      "------\n",
      "i: 21\n",
      "e_value: 0.412826550934\n",
      "d: 0.212846285119\n",
      "------\n",
      "i: 22\n",
      "e_value: 0.41490775805\n",
      "d: 0.295232049782\n",
      "------\n",
      "i: 23\n",
      "e_value: 0.416913529194\n",
      "d: 0.374551467812\n",
      "------\n",
      "i: 24\n",
      "e_value: 0.41881263896\n",
      "d: 0.449487327115\n",
      "------\n",
      "i: 25\n",
      "e_value: 0.420579190233\n",
      "d: 0.519030008627\n",
      "------\n",
      "i: 26\n",
      "e_value: 0.422196728447\n",
      "d: 0.582507801647\n",
      "------\n",
      "i: 27\n",
      "e_value: 0.423655349951\n",
      "d: 0.639579693673\n",
      "------\n",
      "i: 28\n",
      "e_value: 0.424953187941\n",
      "d: 0.690197214094\n",
      "------\n",
      "i: 29\n",
      "e_value: 0.426094233984\n",
      "d: 0.734548645886\n",
      "------\n",
      "i: 30\n",
      "e_value: 0.427086351719\n",
      "d: 0.772996731407\n",
      "------\n",
      "i: 31\n",
      "e_value: 0.42794164029\n",
      "d: 0.806017710606\n",
      "------\n",
      "i: 32\n",
      "e_value: 0.428672609246\n",
      "d: 0.834148789762\n",
      "------\n",
      "i: 33\n",
      "e_value: 0.42929372711\n",
      "d: 0.857947135957\n",
      "------\n",
      "i: 34\n",
      "e_value: 0.429817547394\n",
      "d: 0.877959323456\n",
      "------\n",
      "i: 35\n",
      "e_value: 0.430257921983\n",
      "d: 0.894700145546\n",
      "------\n",
      "i: 36\n",
      "e_value: 0.43062606969\n",
      "d: 0.908641016608\n",
      "------\n",
      "i: 37\n",
      "e_value: 0.430933412268\n",
      "d: 0.920204055221\n",
      "------\n",
      "i: 38\n",
      "e_value: 0.431188842964\n",
      "d: 0.929760324463\n",
      "------\n",
      "i: 39\n",
      "e_value: 0.431400807618\n",
      "d: 0.937632487006\n",
      "------\n",
      "i: 40\n",
      "e_value: 0.431576178347\n",
      "d: 0.944096992857\n",
      "------\n",
      "i: 41\n",
      "e_value: 0.431721544808\n",
      "d: 0.949388988066\n",
      "------\n",
      "i: 42\n",
      "e_value: 0.431841045415\n",
      "d: 0.953707448005\n",
      "------\n",
      "i: 43\n",
      "e_value: 0.431940020485\n",
      "d: 0.957219211197\n",
      "------\n",
      "i: 44\n",
      "e_value: 0.432021325614\n",
      "d: 0.960064080792\n",
      "------\n",
      "i: 45\n",
      "e_value: 0.432088706478\n",
      "d: 0.962358261788\n",
      "------\n",
      "i: 46\n",
      "e_value: 0.432143860634\n",
      "d: 0.96419806271\n",
      "------\n",
      "i: 47\n",
      "e_value: 0.432189611691\n",
      "d: 0.965663735756\n",
      "------\n",
      "i: 48\n",
      "e_value: 0.432226741007\n",
      "d: 0.966821039846\n",
      "------\n",
      "i: 49\n",
      "e_value: 0.432257900282\n",
      "d: 0.967724824757\n",
      "------\n",
      "i: 50\n",
      "e_value: 0.432282919011\n",
      "d: 0.96841989909\n",
      "------\n",
      "i: 51\n",
      "e_value: 0.432304107724\n",
      "d: 0.968943008329\n",
      "------\n",
      "i: 52\n",
      "e_value: 0.432321057934\n",
      "d: 0.969324753536\n",
      "------\n",
      "i: 53\n",
      "e_value: 0.432335594334\n",
      "d: 0.96959016852\n",
      "------\n",
      "i: 54\n",
      "e_value: 0.432347060564\n",
      "d: 0.969759865909\n",
      "------\n",
      "i: 55\n",
      "e_value: 0.432356853397\n",
      "d: 0.969850556868\n",
      "------\n",
      "i: 56\n",
      "e_value: 0.432364613275\n",
      "d: 0.969875861799\n",
      "------\n",
      "i: 57\n",
      "e_value: 0.432371623709\n",
      "d: 0.969847562055\n",
      "------\n",
      "i: 58\n",
      "e_value: 0.432376683544\n",
      "d: 0.96977437276\n",
      "------\n",
      "i: 59\n",
      "e_value: 0.432381366484\n",
      "d: 0.969664275792\n",
      "------\n",
      "i: 60\n",
      "e_value: 0.432384971578\n",
      "d: 0.969523255292\n",
      "------\n",
      "i: 61\n",
      "e_value: 0.432388413151\n",
      "d: 0.969356665258\n",
      "------\n",
      "i: 62\n",
      "e_value: 0.432390653796\n",
      "d: 0.969168616174\n",
      "------\n",
      "i: 63\n",
      "e_value: 0.432393228272\n",
      "d: 0.968962551255\n",
      "------\n",
      "i: 64\n",
      "e_value: 0.432394875719\n",
      "d: 0.968741332509\n",
      "------\n",
      "i: 65\n",
      "e_value: 0.43239670393\n",
      "d: 0.96850699516\n",
      "------\n",
      "i: 66\n",
      "e_value: 0.432397730766\n",
      "d: 0.968261478113\n",
      "------\n",
      "i: 67\n",
      "e_value: 0.432399221339\n",
      "d: 0.968006483028\n",
      "------\n",
      "i: 68\n",
      "e_value: 0.43239992715\n",
      "d: 0.967743212932\n",
      "------\n",
      "i: 69\n",
      "e_value: 0.43240112793\n",
      "d: 0.967472529239\n",
      "------\n",
      "i: 70\n",
      "e_value: 0.432401602189\n",
      "d: 0.967195296968\n",
      "------\n",
      "i: 71\n",
      "e_value: 0.432402660172\n",
      "d: 0.966912387446\n",
      "------\n",
      "i: 72\n",
      "e_value: 0.432402859218\n",
      "d: 0.966624238808\n",
      "------\n",
      "i: 73\n",
      "e_value: 0.432403872707\n",
      "d: 0.966331212429\n",
      "------\n",
      "i: 74\n",
      "e_value: 0.432404057647\n",
      "d: 0.966033563242\n",
      "------\n",
      "i: 75\n",
      "e_value: 0.432404734759\n",
      "d: 0.965731973631\n",
      "------\n",
      "i: 76\n",
      "e_value: 0.432405093148\n",
      "d: 0.965426821715\n",
      "------\n",
      "i: 77\n",
      "e_value: 0.432405605622\n",
      "d: 0.965117770391\n",
      "------\n",
      "i: 78\n",
      "e_value: 0.43240597136\n",
      "d: 0.964805045036\n",
      "------\n",
      "i: 79\n",
      "e_value: 0.432406342935\n",
      "d: 0.964488934566\n",
      "------\n",
      "i: 80\n",
      "e_value: 0.432406619725\n",
      "d: 0.964169418606\n",
      "------\n",
      "i: 81\n",
      "e_value: 0.432407132174\n",
      "d: 0.96384673095\n",
      "------\n",
      "i: 82\n",
      "e_value: 0.432407368458\n",
      "d: 0.963520741799\n",
      "------\n",
      "i: 83\n",
      "e_value: 0.43240800231\n",
      "d: 0.963191327749\n",
      "------\n",
      "i: 84\n",
      "e_value: 0.432408085878\n",
      "d: 0.962858887667\n",
      "------\n",
      "i: 85\n",
      "e_value: 0.432408764008\n",
      "d: 0.962523206541\n",
      "------\n",
      "i: 86\n",
      "e_value: 0.432408807488\n",
      "d: 0.96218453031\n",
      "------\n",
      "i: 87\n",
      "e_value: 0.432409501492\n",
      "d: 0.961842455622\n",
      "------\n",
      "i: 88\n",
      "e_value: 0.432409563032\n",
      "d: 0.961497426358\n",
      "------\n",
      "i: 89\n",
      "e_value: 0.432410320873\n",
      "d: 0.961149097726\n",
      "------\n",
      "i: 90\n",
      "e_value: 0.432410219705\n",
      "d: 0.96079775018\n",
      "------\n",
      "i: 91\n",
      "e_value: 0.432411001437\n",
      "d: 0.960443126717\n",
      "------\n",
      "i: 92\n",
      "e_value: 0.432411001308\n",
      "d: 0.96008523622\n",
      "------\n",
      "i: 93\n",
      "e_value: 0.432411587496\n",
      "d: 0.959724200376\n",
      "------\n",
      "i: 94\n",
      "e_value: 0.432411744999\n",
      "d: 0.959360106091\n",
      "------\n",
      "i: 95\n",
      "e_value: 0.432412376642\n",
      "d: 0.958992589817\n",
      "------\n",
      "i: 96\n",
      "e_value: 0.432412406117\n",
      "d: 0.958621916486\n",
      "------\n",
      "i: 97\n",
      "e_value: 0.432413162068\n",
      "d: 0.958247813186\n",
      "------\n",
      "i: 98\n",
      "e_value: 0.43241315095\n",
      "d: 0.957870184219\n",
      "------\n",
      "i: 99\n",
      "e_value: 0.432413794682\n",
      "d: 0.95748955384\n"
     ]
    },
    {
     "data": {
      "text/plain": [
       "0.43241379468192576"
      ]
     },
     "execution_count": 7,
     "metadata": {},
     "output_type": "execute_result"
    }
   ],
   "source": [
    "inf.power_iteration(iters=100, epsilon=0.0000001)"
   ]
  },
  {
   "cell_type": "code",
   "execution_count": null,
   "metadata": {
    "collapsed": true
   },
   "outputs": [],
   "source": []
  },
  {
   "cell_type": "code",
   "execution_count": 8,
   "metadata": {
    "collapsed": true
   },
   "outputs": [],
   "source": [
    "mnist.train.c_labels = mnist.train.labels.copy()"
   ]
  },
  {
   "cell_type": "code",
   "execution_count": 10,
   "metadata": {
    "collapsed": false
   },
   "outputs": [],
   "source": [
    "mnist.train.labels[:] = np.zeros_like(mnist.train.labels)"
   ]
  },
  {
   "cell_type": "code",
   "execution_count": null,
   "metadata": {
    "collapsed": true
   },
   "outputs": [],
   "source": []
  },
  {
   "cell_type": "code",
   "execution_count": null,
   "metadata": {
    "collapsed": true
   },
   "outputs": [],
   "source": []
  },
  {
   "cell_type": "code",
   "execution_count": 13,
   "metadata": {
    "collapsed": false
   },
   "outputs": [
    {
     "data": {
      "text/plain": [
       "array([[ 0.,  0.,  0.,  0.,  0.,  0.,  0.,  0.,  0.,  0.]])"
      ]
     },
     "execution_count": 13,
     "metadata": {},
     "output_type": "execute_result"
    }
   ],
   "source": [
    "mnist.train.next_batch(1)[1]"
   ]
  },
  {
   "cell_type": "code",
   "execution_count": null,
   "metadata": {
    "collapsed": true
   },
   "outputs": [],
   "source": []
  }
 ],
 "metadata": {
  "kernelspec": {
   "display_name": "Python 3",
   "language": "python",
   "name": "python3"
  },
  "language_info": {
   "codemirror_mode": {
    "name": "ipython",
    "version": 3
   },
   "file_extension": ".py",
   "mimetype": "text/x-python",
   "name": "python",
   "nbconvert_exporter": "python",
   "pygments_lexer": "ipython3",
   "version": "3.6.0"
  }
 },
 "nbformat": 4,
 "nbformat_minor": 2
}
