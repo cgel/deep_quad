{
 "cells": [
  {
   "cell_type": "code",
   "execution_count": 1,
   "metadata": {
    "collapsed": false
   },
   "outputs": [
    {
     "name": "stdout",
     "output_type": "stream",
     "text": [
      "Extracting mnist_data/train-images-idx3-ubyte.gz\n",
      "Extracting mnist_data/train-labels-idx1-ubyte.gz\n",
      "Extracting mnist_data/t10k-images-idx3-ubyte.gz\n",
      "Extracting mnist_data/t10k-labels-idx1-ubyte.gz\n"
     ]
    }
   ],
   "source": [
    "from __future__ import absolute_import\n",
    "from __future__ import division\n",
    "from __future__ import print_function\n",
    "import os\n",
    "os.environ[\"CUDA_VISIBLE_DEVICES\"]=\"0\"\n",
    "%matplotlib inline\n",
    "\n",
    "import matplotlib\n",
    "import matplotlib.pyplot as plt\n",
    "import argparse\n",
    "import sys\n",
    "import numpy as np\n",
    "from tensorflow.examples.tutorials.mnist import input_data\n",
    "import tensorflow as tf\n",
    "import influence\n",
    "from mnist_convnet import deepnn, linear_model, two_layer_model\n",
    "from utils import corrupt_mnist\n",
    "import copy\n",
    "from IPython.display import clear_output\n",
    "\n",
    "np.random.seed(1)\n",
    "\n",
    "FLAGS = None\n",
    "\n",
    "# Import data\n",
    "mnist = corrupt_mnist(input_data.read_data_sets(\"mnist_data\", one_hot=True), 0.0)\n",
    "\n",
    "# Create the model\n",
    "with tf.name_scope(\"net\"):\n",
    "    input_ph = tf.placeholder(tf.float32, [None, 784])\n",
    "    y, weights = deepnn(input_ph)\n",
    "    #y, weights = linear_model(input_ph)\n",
    "    #y, weights = two_layer_model(input_ph)\n",
    "\n",
    "# Define loss and optimizer\n",
    "with tf.name_scope(\"loss\"):\n",
    "    y_ = tf.placeholder(tf.float32, [None, 10], name=\"y_target\")\n",
    "    batch_loss = tf.nn.softmax_cross_entropy_with_logits(labels=y_, logits=y)\n",
    "    regularization = tf.reduce_sum( [tf.nn.l2_loss(w) for w in weights])\n",
    "    cross_entropy = tf.reduce_sum(batch_loss) + regularization * 0.001\n",
    "\n",
    "lr = tf.Variable(0.1)\n",
    "opt = tf.train.AdamOptimizer(lr)\n",
    "grads_and_vars = opt.compute_gradients(cross_entropy)\n",
    "train_step = opt.apply_gradients(grads_and_vars)\n",
    "\n",
    "# Test trained model\n",
    "with tf.name_scope(\"accuracy\"):\n",
    "    correct_prediction = tf.equal(tf.argmax(y, 1), tf.argmax(y_, 1))\n",
    "    accuracy = tf.reduce_mean(tf.cast(correct_prediction, tf.float32))\n",
    "\n",
    "saver = tf.train.Saver()\n",
    "sess = tf.InteractiveSession()\n",
    "\n",
    "tf.global_variables_initializer().run()\n",
    "\n",
    "gs = [g for g,v in grads_and_vars if g is not None]\n",
    "\n",
    "#def train(n, mnist=mnist, learning_rate=0.1e-4):\n",
    "#    sess.run(tf.assign(lr, learning_rate))\n",
    "#    for _ in range(n):\n",
    "#        batch_xs, batch_ys = mnist.train.next_batch(64)\n",
    "#        sess.run(train_step, feed_dict={input_ph: batch_xs, y_: batch_ys})\n",
    "        \n",
    "def test():\n",
    "    test_acc, test_loss = sess.run([accuracy, cross_entropy], feed_dict={input_ph: mnist.test.images,\n",
    "                                  y_: mnist.test.labels})\n",
    "    train_acc, train_loss = sess.run([accuracy, cross_entropy], feed_dict=train_feed_dic)\n",
    "    print(\"test acc\", test_acc)\n",
    "    print(\"test loss\", test_loss)\n",
    "    print(\"train acc\", train_acc)\n",
    "    print(\"train loss\", train_loss) \n",
    "    print(\"---\")\n",
    "    \n",
    "def testset_loss():\n",
    "    return sess.run(cross_entropy, feed_dict={input_ph: mnist.test.images, y_: mnist.test.labels})\n",
    "\n",
    "def train(n, trainset, learning_rate=0.1e-4):\n",
    "    sess.run(tf.assign(lr, learning_rate))\n",
    "    for _ in range(n):\n",
    "        batch_xs, batch_ys = trainset.next_batch(500)\n",
    "        sess.run(train_step, feed_dict={input_ph: batch_xs, y_: batch_ys})\n",
    "        \n",
    "# return a new dataset \n",
    "def mnist_i(i):\n",
    "    new_mnist = copy.deepcopy(mnist)\n",
    "    new_len = new_mnist.train.images.shape[0] -1\n",
    "    new_images_shape = [new_len] + list(new_mnist.train.images.shape[1:])\n",
    "    new_labels_shape = [new_len] + list(new_mnist.train.labels.shape[1:])\n",
    "    new_mnist.train.images.resize(new_images_shape)\n",
    "    new_mnist.train.labels.resize(new_labels_shape)\n",
    "    new_mnist.train.images[:] = np.delete(mnist.train.images, i, axis=0)\n",
    "    new_mnist.train.labels[:] = np.delete(mnist.train.labels, i, axis=0)\n",
    "    return new_mnist\n",
    "\n",
    "# return a new dataset \n",
    "def mnist_i2(i):\n",
    "    return (np.delete(mnist.train.images, i, axis=0), np.delete(mnist.train.labels, i, axis=0))\n",
    "\n",
    "class Dataset:\n",
    "    def __init__(self, data):\n",
    "        self.images = data[0]\n",
    "        self.labels = data[1]\n",
    "        self.a = 0 \n",
    "        self.b = None \n",
    "        \n",
    "    def next_batch(self, batch_size):\n",
    "        if self.b == None or self.b == len(self.labels):\n",
    "            self.a = 0\n",
    "            self.b = batch_size\n",
    "        else:\n",
    "            self.a = self.b\n",
    "            self.b = min(self.a + batch_size, len(self.labels) )\n",
    "            \n",
    "        return (self.images[self.a:self.b], self.labels[self.a:self.b])\n",
    "    \n",
    "def report():\n",
    "    acc, gs_np, loss = sess.run([accuracy, gs, cross_entropy], feed_dict=train_feed_dic)\n",
    "    print(\"train:\")\n",
    "    print(\"  grad norm\",influence.lnorm(gs_np)/len(train_feed_dic[y_]))\n",
    "    print(\"  loss\", loss/len(train_feed_dic[y_]))\n",
    "    print(\"  accuracy\", acc)\n",
    "    acc, gs_np, loss = sess.run([accuracy, gs, cross_entropy], feed_dict=test_feed_dic)\n",
    "    print(\"test:\")\n",
    "    print(\"  grad norm\",influence.lnorm(gs_np)/len(test_feed_dic[y_]))\n",
    "    print(\"  loss\", loss/len(test_feed_dic[y_]))\n",
    "    print(\"  accuracy\", acc)\n",
    "\n",
    "summary_writter = tf.summary.FileWriter(\"./Hvp_summaries\", sess.graph)\n",
    "\n",
    "testset = (mnist.test.images, mnist.test.labels)\n",
    "trainset = (mnist.train.images, mnist.train.labels)\n",
    "#trainset = (mnist.train.images[0:10000], mnist.train.labels[0:10000])\n",
    "\n",
    "test_feed_dic = {input_ph: mnist.test.images, y_: mnist.test.labels}\n",
    "\n",
    "batch_xs, batch_ys = mnist.train.next_batch(mnist.test.images.shape[0])\n",
    "train_feed_dic = {input_ph:batch_xs, y_:batch_ys}"
   ]
  },
  {
   "cell_type": "code",
   "execution_count": null,
   "metadata": {
    "collapsed": true
   },
   "outputs": [],
   "source": [
    "checkpoint_file = \"/home/cgel/deep_quad/checkpoints/convnet.ckpt\""
   ]
  },
  {
   "cell_type": "code",
   "execution_count": 3,
   "metadata": {
    "collapsed": false,
    "scrolled": true
   },
   "outputs": [
    {
     "name": "stdout",
     "output_type": "stream",
     "text": [
      "train:\n",
      "  grad norm 10.1759723585\n",
      "  loss 3.2112140625\n",
      "  accuracy 0.0901\n",
      "test:\n",
      "  grad norm 10.3564189977\n",
      "  loss 3.20676796875\n",
      "  accuracy 0.0917\n",
      "train:\n",
      "  grad norm 0.27572884189\n",
      "  loss 0.152076098633\n",
      "  accuracy 0.9589\n",
      "test:\n",
      "  grad norm 0.306558544423\n",
      "  loss 0.161941589355\n",
      "  accuracy 0.9526\n",
      "train:\n",
      "  grad norm 0.192949988869\n",
      "  loss 0.0771456787109\n",
      "  accuracy 0.9818\n",
      "test:\n",
      "  grad norm 0.253568856553\n",
      "  loss 0.109706750488\n",
      "  accuracy 0.9658\n",
      "train:\n",
      "  grad norm 0.144495965171\n",
      "  loss 0.0434551574707\n",
      "  accuracy 0.9914\n",
      "test:\n",
      "  grad norm 0.243558528398\n",
      "  loss 0.0878119140625\n",
      "  accuracy 0.9723\n",
      "train:\n",
      "  grad norm 0.105768438724\n",
      "  loss 0.0247214736938\n",
      "  accuracy 0.9969\n",
      "test:\n",
      "  grad norm 0.210606029485\n",
      "  loss 0.0759645202637\n",
      "  accuracy 0.975\n",
      "train:\n",
      "  grad norm 0.0689952279067\n",
      "  loss 0.0137476272583\n",
      "  accuracy 0.9994\n",
      "test:\n",
      "  grad norm 0.208871371474\n",
      "  loss 0.0690491210937\n",
      "  accuracy 0.9773\n",
      "XXXX\n",
      "train:\n",
      "  grad norm 0.0386478232925\n",
      "  loss 0.00762276000977\n",
      "  accuracy 1.0\n",
      "test:\n",
      "  grad norm 0.239533138488\n",
      "  loss 0.0657914794922\n",
      "  accuracy 0.9785\n",
      "train:\n",
      "  grad norm 0.0222888157783\n",
      "  loss 0.00440310630798\n",
      "  accuracy 1.0\n",
      "test:\n",
      "  grad norm 0.246732227347\n",
      "  loss 0.0641042602539\n",
      "  accuracy 0.9797\n",
      "train:\n",
      "  grad norm 0.0121071958508\n",
      "  loss 0.0026277141571\n",
      "  accuracy 1.0\n",
      "test:\n",
      "  grad norm 0.238665828076\n",
      "  loss 0.0629509643555\n",
      "  accuracy 0.9794\n",
      "train:\n",
      "  grad norm 0.00588875158898\n",
      "  loss 0.00170288524628\n",
      "  accuracy 1.0\n",
      "test:\n",
      "  grad norm 0.252641841262\n",
      "  loss 0.0630775634766\n",
      "  accuracy 0.9806\n",
      "train:\n",
      "  grad norm 0.00530418980329\n",
      "  loss 0.001232234478\n",
      "  accuracy 1.0\n",
      "test:\n",
      "  grad norm 0.260291848533\n",
      "  loss 0.0639719726563\n",
      "  accuracy 0.981\n",
      "XXXX\n",
      "train:\n",
      "  grad norm 0.00332482797974\n",
      "  loss 0.00118516979218\n",
      "  accuracy 1.0\n",
      "test:\n",
      "  grad norm 0.280795210029\n",
      "  loss 0.0643621826172\n",
      "  accuracy 0.9812\n",
      "train:\n",
      "  grad norm 0.00276925690414\n",
      "  loss 0.00113909549713\n",
      "  accuracy 1.0\n",
      "test:\n",
      "  grad norm 0.277650374829\n",
      "  loss 0.0644633850098\n",
      "  accuracy 0.9814\n",
      "train:\n",
      "  grad norm 0.00241463460222\n",
      "  loss 0.00109536161423\n",
      "  accuracy 1.0\n",
      "test:\n",
      "  grad norm 0.277910284487\n",
      "  loss 0.0646569519043\n",
      "  accuracy 0.9814\n",
      "train:\n",
      "  grad norm 0.00198821491556\n",
      "  loss 0.0010559920311\n",
      "  accuracy 1.0\n",
      "test:\n",
      "  grad norm 0.286143089818\n",
      "  loss 0.0648682861328\n",
      "  accuracy 0.9814\n",
      "train:\n",
      "  grad norm 0.00199353711871\n",
      "  loss 0.00102234477997\n",
      "  accuracy 1.0\n",
      "test:\n",
      "  grad norm 0.286457321037\n",
      "  loss 0.0651101257324\n",
      "  accuracy 0.9816\n",
      "XXXX\n",
      "train:\n",
      "  grad norm 0.00191278653349\n",
      "  loss 0.00101876268387\n",
      "  accuracy 1.0\n",
      "test:\n",
      "  grad norm 0.287318497573\n",
      "  loss 0.0651386169434\n",
      "  accuracy 0.9815\n",
      "train:\n",
      "  grad norm 0.00186568429106\n",
      "  loss 0.00101521167755\n",
      "  accuracy 1.0\n",
      "test:\n",
      "  grad norm 0.287487629645\n",
      "  loss 0.0651588439941\n",
      "  accuracy 0.9816\n",
      "train:\n",
      "  grad norm 0.00184653947059\n",
      "  loss 0.00101173667908\n",
      "  accuracy 1.0\n",
      "test:\n",
      "  grad norm 0.287781288092\n",
      "  loss 0.065189630127\n",
      "  accuracy 0.9817\n",
      "train:\n",
      "  grad norm 0.00184813430338\n",
      "  loss 0.0010084104538\n",
      "  accuracy 1.0\n",
      "test:\n",
      "  grad norm 0.287387132251\n",
      "  loss 0.065195526123\n",
      "  accuracy 0.9817\n",
      "train:\n",
      "  grad norm 0.00184644694937\n",
      "  loss 0.00100514583588\n",
      "  accuracy 1.0\n",
      "test:\n",
      "  grad norm 0.288481168122\n",
      "  loss 0.0652419494629\n",
      "  accuracy 0.9817\n",
      "Done\n"
     ]
    }
   ],
   "source": [
    "# for big convnets\n",
    "report()\n",
    "for i in range(5):\n",
    "    print(\" --- \", i, \" --- \")    \n",
    "    train(2000, mnist.train)\n",
    "    report()\n",
    "print(\"XXXX\")\n",
    "for i in range(5):\n",
    "    print(\" --- \", i, \" --- \")\n",
    "    train(2000, mnist.train, 1e-5)\n",
    "    report()\n",
    "print(\"XXXX\")\n",
    "for i in range(5):\n",
    "    print(\" --- \", i, \" --- \")\n",
    "    train(2000, mnist.train, 1e-6)\n",
    "    report()\n",
    "print(\"XXXX\")\n",
    "for i in range(5):\n",
    "    print(\" --- \", i, \" --- \")\n",
    "    train(2000, mnist.train, 1e-7)\n",
    "    report()\n",
    "print(\"Done\")\n",
    "print(\"Saving...\")\n",
    "saver.save(sess, checkpoint_file)"
   ]
  },
  {
   "cell_type": "code",
   "execution_count": 2,
   "metadata": {
    "collapsed": true
   },
   "outputs": [],
   "source": [
    "saver.restore(sess, \"/home/cgel/deep_quad/mnist_convnet_corrupted.ckpt\")"
   ]
  },
  {
   "cell_type": "code",
   "execution_count": null,
   "metadata": {
    "collapsed": true
   },
   "outputs": [],
   "source": [
    "# for small models\n",
    "#report()\n",
    "#for i in range(2):\n",
    "#    print(\" --- \", i, \" --- \")\n",
    "    train(2000, mnist.train, 1e-4)\n",
    "    report()\n",
    "print(\"XXXX\")\n",
    "print(\"Done\")"
   ]
  },
  {
   "cell_type": "code",
   "execution_count": 9,
   "metadata": {
    "collapsed": false
   },
   "outputs": [
    {
     "name": "stdout",
     "output_type": "stream",
     "text": [
      "Error: 0.158550940676\n",
      "- iter: 0\n",
      "Error: 0.53121552238\n",
      "dad: 1.05565542146e-05\n",
      "alpha: 2381.30741599\n",
      "beta: 11.2254534224\n",
      "Ad scaling: 0.00146830752055\n",
      "d norm: 1.85739065956\n",
      "- iter: 1\n",
      "Error: 0.436375497543\n",
      "dad: 0.000732408770821\n",
      "alpha: 385.290235411\n",
      "beta: 0.674806351049\n",
      "Ad scaling: 0.000960642531836\n",
      "d norm: 1.32717087079\n",
      "- iter: 2\n",
      "Error: 0.236563256166\n",
      "dad: 0.00078577500761\n",
      "alpha: 242.338541038\n",
      "beta: 0.293882550133\n",
      "Ad scaling: 0.00154332877088\n",
      "d norm: 0.456165984995\n",
      "- iter: 3\n",
      "Error: 0.134438829137\n",
      "dad: 0.000267783315305\n",
      "alpha: 208.98301292\n",
      "beta: 0.322964718976\n",
      "Ad scaling: 0.00285422039107\n",
      "d norm: 0.199445764999\n",
      "- iter: 4\n",
      "Error: 0.0903037795676\n",
      "dad: 7.0002915215e-05\n",
      "alpha: 258.186455915\n",
      "beta: 0.451192718079\n",
      "Ad scaling: 0.00314506096226\n",
      "d norm: 0.127486057968\n",
      "- iter: 5\n",
      "Error: 0.0510337019456\n",
      "dad: 3.36315651804e-05\n",
      "alpha: 242.473669368\n",
      "beta: 0.31937615037\n",
      "Ad scaling: 0.00335554358809\n",
      "d norm: 0.0652857711466\n",
      "- iter: 6\n",
      "Error: 0.0333140429813\n",
      "dad: 9.21134105074e-06\n",
      "alpha: 282.742623588\n",
      "beta: 0.426128710462\n",
      "Ad scaling: 0.00330161649621\n",
      "d norm: 0.0434026081156\n",
      "- iter: 7\n",
      "Error: 0.0238124003129\n",
      "dad: 3.171604229e-06\n",
      "alpha: 349.925791392\n",
      "beta: 0.510918585153\n",
      "Ad scaling: 0.00269622566482\n",
      "d norm: 0.0325387499356\n",
      "- iter: 8\n",
      "Error: 0.0176115693697\n",
      "dad: 2.00409612418e-06\n",
      "alpha: 282.935925109\n",
      "beta: 0.547003613014\n",
      "Ad scaling: 0.00321706653852\n",
      "d norm: 0.025039282402\n",
      "- iter: 9\n",
      "Error: 0.011885101853\n",
      "dad: 9.89380498485e-07\n",
      "alpha: 313.497073965\n",
      "beta: 0.455415050111\n",
      "Ad scaling: 0.0027066774236\n",
      "d norm: 0.01647087133\n",
      "- iter: 10\n",
      "Error: 0.00858832821413\n",
      "dad: 3.83320236351e-07\n",
      "alpha: 368.504222761\n",
      "beta: 0.522170620459\n",
      "Ad scaling: 0.00241587666058\n",
      "d norm: 0.012154410096\n",
      "- iter: 11\n",
      "Error: 0.00731466748199\n",
      "dad: 1.90426004866e-07\n",
      "alpha: 387.33825622\n",
      "beta: 0.725399556179\n",
      "Ad scaling: 0.00239623228984\n",
      "d norm: 0.0114560452972\n",
      "- iter: 12\n",
      "Error: 0.00563515403002\n",
      "dad: 1.57316911566e-07\n",
      "alpha: 340.109311982\n",
      "beta: 0.593490047178\n",
      "Ad scaling: 0.0023698367789\n",
      "d norm: 0.00883072583141\n",
      "- iter: 13\n",
      "Error: 0.00460074415523\n",
      "dad: 9.59569783033e-08\n",
      "alpha: 330.925940116\n",
      "beta: 0.666576592213\n",
      "Ad scaling: 0.00248936825461\n",
      "d norm: 0.00747101634906\n",
      "- iter: 14\n",
      "Error: 0.00349201100128\n",
      "dad: 5.66829852985e-08\n",
      "alpha: 373.426142654\n",
      "beta: 0.576088122222\n",
      "Ad scaling: 0.0020703062602\n",
      "d norm: 0.00554239197625\n",
      "- iter: 15\n",
      "Error: 0.00266918625807\n",
      "dad: 3.27663633761e-08\n",
      "alpha: 372.150075436\n",
      "beta: 0.584275782209\n",
      "Ad scaling: 0.0021309499928\n",
      "d norm: 0.00419656454209\n",
      "- iter: 16\n",
      "Error: 0.00244450468098\n",
      "dad: 1.63696136904e-08\n",
      "alpha: 435.237001432\n",
      "beta: 0.838721444389\n",
      "Ad scaling: 0.00198162015624\n",
      "d norm: 0.00428535146498\n",
      "- iter: 17\n",
      "Error: 0.00200624394527\n",
      "dad: 1.77582094007e-08\n",
      "alpha: 336.498253511\n",
      "beta: 0.673553291087\n",
      "Ad scaling: 0.00219301466012\n",
      "d norm: 0.00351514821699\n",
      "- iter: 18\n",
      "Error: 0.00139566121046\n",
      "dad: 1.23055033912e-08\n",
      "alpha: 327.080434004\n",
      "beta: 0.483979219503\n",
      "Ad scaling: 0.0021256546583\n",
      "d norm: 0.00220050993124\n",
      "- iter: 19\n",
      "Error: 0.00117399543664\n",
      "dad: 4.50548029152e-09\n",
      "alpha: 432.354088674\n",
      "beta: 0.707523971119\n",
      "Ad scaling: 0.001916950361\n",
      "d norm: 0.00194992566995\n",
      "- iter: 20\n",
      "Error: 0.000991240299128\n",
      "dad: 3.63812755327e-09\n",
      "alpha: 378.829596735\n",
      "beta: 0.712923776087\n",
      "Ad scaling: 0.0020800223553\n",
      "d norm: 0.00170736220881\n",
      "- iter: 21\n",
      "Error: 0.000755433923\n",
      "dad: 2.29964195554e-09\n",
      "alpha: 427.272260516\n",
      "beta: 0.58078724705\n",
      "Ad scaling: 0.00170839716089\n",
      "d norm: 0.00124658120843\n",
      "- iter: 22\n",
      "Error: 0.000554571582514\n",
      "dad: 1.44629310926e-09\n",
      "alpha: 394.571466814\n",
      "beta: 0.538947718208\n",
      "Ad scaling: 0.0019052707896\n",
      "d norm: 0.000871166424699\n",
      "- iter: 23\n",
      "Error: 0.000535682046632\n",
      "dad: 5.821063848e-10\n",
      "alpha: 528.355543112\n",
      "beta: 0.933064350124\n",
      "Ad scaling: 0.00167517469821\n",
      "d norm: 0.000973501223762\n",
      "- iter: 24\n",
      "Error: 0.000414819236527\n",
      "dad: 1.4144147442e-09\n",
      "alpha: 202.891312951\n",
      "beta: 0.599551625791\n",
      "Ad scaling: 0.00343019893426\n",
      "d norm: 0.000716043821537\n",
      "- iter: 25\n",
      "Error: 0.000314297694493\n",
      "dad: 3.96956266257e-10\n",
      "alpha: 433.43517228\n",
      "beta: 0.574155656052\n",
      "Ad scaling: 0.00167684735067\n",
      "d norm: 0.000517500142055\n",
      "- iter: 26\n",
      "Error: 0.000220050415957\n",
      "dad: 1.85873988046e-10\n",
      "alpha: 531.468883855\n",
      "beta: 0.490171703895\n",
      "Ad scaling: 0.00139501256074\n",
      "d norm: 0.000335808885544\n",
      "- iter: 27\n",
      "Error: 0.000191873585126\n",
      "dad: 8.66719208802e-11\n",
      "alpha: 558.68405319\n",
      "beta: 0.760261251883\n",
      "Ad scaling: 0.00155615370972\n",
      "d norm: 0.00031936326625\n",
      "- iter: 28\n",
      "Error: 0.000151130669986\n",
      "dad: 8.35235169419e-11\n",
      "alpha: 440.756555589\n",
      "beta: 0.620495981562\n",
      "Ad scaling: 0.00173517807958\n",
      "d norm: 0.000249221736206\n",
      "- iter: 29\n",
      "Error: 0.000108577273398\n",
      "dad: 4.53926928825e-11\n",
      "alpha: 503.223111936\n",
      "beta: 0.516024553053\n",
      "Ad scaling: 0.00148381560794\n",
      "d norm: 0.000168304770608\n"
     ]
    }
   ],
   "source": [
    "scale = float(len(trainset[0])) * 10\n",
    "inf = influence.Influence(cross_entropy/scale, input_ph, y_, testset, trainset, cg_iters = 30, dampening=0.0001, vervose=3)"
   ]
  },
  {
   "cell_type": "code",
   "execution_count": 12,
   "metadata": {
    "collapsed": false
   },
   "outputs": [],
   "source": [
    "#inf.recompute_s(cg_iters = 20, dampening=4e-2, vervose=1)"
   ]
  },
  {
   "cell_type": "code",
   "execution_count": 12,
   "metadata": {
    "collapsed": false
   },
   "outputs": [
    {
     "name": "stdout",
     "output_type": "stream",
     "text": [
      "0\n",
      "10000\n",
      "20000\n",
      "30000\n",
      "40000\n",
      "50000\n"
     ]
    }
   ],
   "source": [
    "# compute the influences for every image in the training set\n",
    "trainset_influence_map = []\n",
    "trainset_influence = []\n",
    "for i in range(len(mnist.train.labels)):\n",
    "    z = (mnist.train.images[i:i+1], mnist.train.labels[i:i+1])\n",
    "    influ, z_grad = inf.of_and_g(z)\n",
    "    trainset_influence.append(influ*scale)\n",
    "    trainset_influence_map.append( (influ, i))\n",
    "    if i % 10000==0:\n",
    "        print(i)"
   ]
  },
  {
   "cell_type": "code",
   "execution_count": 13,
   "metadata": {
    "collapsed": false
   },
   "outputs": [],
   "source": [
    "# generate a list ordering the examples of the training set by most influential\n",
    "abs_influence = []\n",
    "for i_influence, i in trainset_influence_map:\n",
    "    abs_influence.append((abs(i_influence), i))\n",
    "abs_influence.sort(reverse=True)\n",
    "rank = []\n",
    "for i in range(len(trainset_influence_map)):\n",
    "    j = abs_influence[i][1]\n",
    "    rank.append( (trainset_influence[j], j) )"
   ]
  },
  {
   "cell_type": "code",
   "execution_count": 14,
   "metadata": {
    "collapsed": true
   },
   "outputs": [],
   "source": [
    "influence_acc = []\n",
    "grads_l = []\n",
    "infs = []\n",
    "d_losses = []"
   ]
  },
  {
   "cell_type": "code",
   "execution_count": 17,
   "metadata": {
    "collapsed": false
   },
   "outputs": [],
   "source": [
    "infs.append(0)"
   ]
  },
  {
   "cell_type": "code",
   "execution_count": 29,
   "metadata": {
    "collapsed": false
   },
   "outputs": [
    {
     "data": {
      "text/plain": [
       "[-1.3771973]"
      ]
     },
     "execution_count": 29,
     "metadata": {},
     "output_type": "execute_result"
    }
   ],
   "source": [
    "d_losses"
   ]
  },
  {
   "cell_type": "code",
   "execution_count": null,
   "metadata": {
    "collapsed": false
   },
   "outputs": [
    {
     "data": {
      "image/png": "[encoded data removed]",
      "text/plain": [
       "<matplotlib.figure.Figure at 0x7f1e1c27d3c8>"
      ]
     },
     "metadata": {},
     "output_type": "display_data"
    }
   ],
   "source": [
    "# leave one out retraining \n",
    "subset = rank[30:100]\n",
    "saver.restore(sess, checkpoint_file)\n",
    "base_testset_loss = testset_loss()\n",
    "for _,i in subset:\n",
    "    z = (mnist.train.images[i:i+1], mnist.train.labels[i:i+1])\n",
    "    z_influ, z_grad = inf.of_and_g(z)\n",
    "    grads_l.append(z_grad*scale)\n",
    "    new_mnist = Dataset(mnist_i2(i))\n",
    "    train(10000, new_mnist, learning_rate=1e-7)\n",
    "    d_loss = base_testset_loss - testset_loss()\n",
    "    print(i, \":  \", z_influ * scale, d_loss)\n",
    "    influence_acc.append( (z_influ * scale, d_loss) )\n",
    "    infs.append(z_influ * scale )\n",
    "    d_losses.append(d_loss)\n",
    "    saver.restore(sess, checkpoint_file)\n",
    "    clear_output()\n",
    "    plt.plot(infs, d_losses, \"x\")\n",
    "    plt.show()"
   ]
  },
  {
   "cell_type": "code",
   "execution_count": 37,
   "metadata": {
    "collapsed": false
   },
   "outputs": [
    {
     "data": {
      "text/plain": [
       "[<matplotlib.lines.Line2D at 0x7f1e046e9668>]"
      ]
     },
     "execution_count": 37,
     "metadata": {},
     "output_type": "execute_result"
    },
    {
     "data": {
      "image/png": "[encoded data removed]",
      "text/plain": [
       "<matplotlib.figure.Figure at 0x7f1e2c260f60>"
      ]
     },
     "metadata": {},
     "output_type": "display_data"
    }
   ],
   "source": [
    "plt.plot(d_losses, infs, \"x\")"
   ]
  },
  {
   "cell_type": "code",
   "execution_count": null,
   "metadata": {
    "collapsed": true
   },
   "outputs": [],
   "source": []
  },
  {
   "cell_type": "code",
   "execution_count": 23,
   "metadata": {
    "collapsed": false
   },
   "outputs": [
    {
     "name": "stdout",
     "output_type": "stream",
     "text": [
      "influence d_loss\n"
     ]
    },
    {
     "data": {
      "text/plain": [
       "[<matplotlib.lines.Line2D at 0x7ff3486fb710>]"
      ]
     },
     "execution_count": 23,
     "metadata": {},
     "output_type": "execute_result"
    },
    {
     "data": {
      "image/png": "[encoded data removed]",
      "text/plain": [
       "<matplotlib.figure.Figure at 0x7ff2d1e188d0>"
      ]
     },
     "metadata": {},
     "output_type": "display_data"
    }
   ],
   "source": [
    "plt.plot(infs, d_losses, \"x\")"
   ]
  },
  {
   "cell_type": "code",
   "execution_count": 12,
   "metadata": {
    "collapsed": false
   },
   "outputs": [
    {
     "name": "stdout",
     "output_type": "stream",
     "text": [
      "influence d_loss\n"
     ]
    },
    {
     "data": {
      "text/plain": [
       "[<matplotlib.lines.Line2D at 0x7fe459c6b780>]"
      ]
     },
     "execution_count": 12,
     "metadata": {},
     "output_type": "execute_result"
    },
    {
     "data": {
      "image/png": "[encoded data removed]",
      "text/plain": [
       "<matplotlib.figure.Figure at 0x7fe4aabd7a90>"
      ]
     },
     "metadata": {},
     "output_type": "display_data"
    }
   ],
   "source": [
    "infs = []\n",
    "d_losses = []\n",
    "print(\"influence\", \"d_loss\")\n",
    "for pair in influence_acc:\n",
    "    infs.append(pair[0])\n",
    "    d_losses.append(pair[1])\n",
    "    #print(pair[0], pair[1])\n",
    "    \n",
    "plt.plot(infs, d_losses, \"x\")"
   ]
  },
  {
   "cell_type": "code",
   "execution_count": null,
   "metadata": {
    "collapsed": true
   },
   "outputs": [],
   "source": []
  },
  {
   "cell_type": "code",
   "execution_count": null,
   "metadata": {
    "collapsed": false
   },
   "outputs": [],
   "source": [
    "plt.hist(trainset_influence, 1000, normed=True)\n",
    "plt.xlim(-0.1, 0.1)"
   ]
  },
  {
   "cell_type": "code",
   "execution_count": null,
   "metadata": {
    "collapsed": true
   },
   "outputs": [],
   "source": []
  },
  {
   "cell_type": "code",
   "execution_count": null,
   "metadata": {
    "collapsed": false
   },
   "outputs": [],
   "source": [
    "influences_corrupted = []\n",
    "influences_non_corrupted = []\n",
    "grads_corrupted = []\n",
    "grads_non_corrupted = []\n",
    "#size = len(mnist.train.labels)\n",
    "size = 1000\n",
    "for i in range(size):\n",
    "    z = (mnist.train.images[i:i+1], mnist.train.labels[i:i+1])\n",
    "    influ, z_grad = inf.of_and_g(z)\n",
    "    if mnist.train.corrupted_mask[i]:\n",
    "        influences_corrupted.append(influ)\n",
    "        grads_corrupted.append(z_grad)\n",
    "    else:\n",
    "        influences_non_corrupted.append(influ)\n",
    "        grads_non_corrupted.append(z_grad)\n",
    "all_influences = influences_corrupted + influences_non_corrupted\n",
    "all_grads = grads_corrupted + grads_non_corrupted"
   ]
  },
  {
   "cell_type": "code",
   "execution_count": 83,
   "metadata": {
    "collapsed": false
   },
   "outputs": [
    {
     "name": "stdout",
     "output_type": "stream",
     "text": [
      "non corrupted\n",
      "mean -6.47728385977e-08\n",
      "std 1.21111189844e-05\n"
     ]
    }
   ],
   "source": [
    "print(\"non corrupted\")\n",
    "print(\"mean\",np.mean( influences_non_corrupted))\n",
    "print(\"std\",np.std( influences_non_corrupted))"
   ]
  },
  {
   "cell_type": "code",
   "execution_count": 84,
   "metadata": {
    "collapsed": false
   },
   "outputs": [
    {
     "name": "stdout",
     "output_type": "stream",
     "text": [
      "corrupted\n",
      "mean -1.88751401152e-06\n",
      "std 5.31467498935e-06\n"
     ]
    }
   ],
   "source": [
    "print(\"corrupted\")\n",
    "print(\"mean\",np.mean( influences_corrupted))\n",
    "print(\"std\",np.std( influences_corrupted))"
   ]
  },
  {
   "cell_type": "code",
   "execution_count": 16,
   "metadata": {
    "collapsed": true
   },
   "outputs": [],
   "source": [
    "inf.s = influence.lset(inf.s, 1.)"
   ]
  },
  {
   "cell_type": "code",
   "execution_count": null,
   "metadata": {
    "collapsed": true
   },
   "outputs": [],
   "source": []
  },
  {
   "cell_type": "code",
   "execution_count": 79,
   "metadata": {
    "collapsed": false
   },
   "outputs": [
    {
     "data": {
      "text/plain": [
       "1"
      ]
     },
     "execution_count": 79,
     "metadata": {},
     "output_type": "execute_result"
    }
   ],
   "source": [
    "1"
   ]
  },
  {
   "cell_type": "code",
   "execution_count": null,
   "metadata": {
    "collapsed": true
   },
   "outputs": [],
   "source": []
  },
  {
   "cell_type": "code",
   "execution_count": 80,
   "metadata": {
    "collapsed": false
   },
   "outputs": [
    {
     "name": "stdout",
     "output_type": "stream",
     "text": [
      "influence d_loss\n",
      "-3.42001894873 -12.5903\n",
      "-3.42991299808 -12.5177\n",
      "-3.31551817139 -12.4698\n",
      "-3.1845451764 -12.823\n",
      "-2.89722035186 -12.8751\n"
     ]
    }
   ],
   "source": [
    "infs = []\n",
    "d_losses = []\n",
    "print(\"influence\", \"d_loss\")\n",
    "for pair in influence_acc:\n",
    "    infs.append(pair[0])\n",
    "    d_losses.append(pair[1])\n",
    "    print(pair[0], pair[1])\n",
    "    \n",
    "plt.plot(infs, d_losses, \"x\")"
   ]
  },
  {
   "cell_type": "code",
   "execution_count": 81,
   "metadata": {
    "collapsed": false
   },
   "outputs": [
    {
     "data": {
      "text/plain": [
       "[<matplotlib.lines.Line2D at 0x7ff59c577a20>]"
      ]
     },
     "execution_count": 81,
     "metadata": {},
     "output_type": "execute_result"
    },
    {
     "data": {
      "image/png": "[encoded data removed]",
      "text/plain": [
       "<matplotlib.figure.Figure at 0x7ff59c595b00>"
      ]
     },
     "metadata": {},
     "output_type": "display_data"
    }
   ],
   "source": [
    "plt.plot(infs, d_losses - avrg, \"x\")"
   ]
  },
  {
   "cell_type": "code",
   "execution_count": 70,
   "metadata": {
    "collapsed": false
   },
   "outputs": [
    {
     "data": {
      "text/plain": [
       "[<matplotlib.lines.Line2D at 0x7ff5ac1ec2b0>]"
      ]
     },
     "execution_count": 70,
     "metadata": {},
     "output_type": "execute_result"
    },
    {
     "data": {
      "image/png": "[encoded data removed]",
      "text/plain": [
       "<matplotlib.figure.Figure at 0x7ff5ae340d30>"
      ]
     },
     "metadata": {},
     "output_type": "display_data"
    }
   ],
   "source": [
    "plt.plot(infs, d_losses - avrg, \"x\")"
   ]
  },
  {
   "cell_type": "code",
   "execution_count": 63,
   "metadata": {
    "collapsed": false
   },
   "outputs": [
    {
     "data": {
      "text/plain": [
       "[<matplotlib.lines.Line2D at 0x7ff5af4bc828>]"
      ]
     },
     "execution_count": 63,
     "metadata": {},
     "output_type": "execute_result"
    },
    {
     "data": {
      "image/png": "[encoded data removed]",
      "text/plain": [
       "<matplotlib.figure.Figure at 0x7ff5bc61cb00>"
      ]
     },
     "metadata": {},
     "output_type": "display_data"
    }
   ],
   "source": [
    "plt.plot(infs, d_losses - avrg, \"x\")"
   ]
  },
  {
   "cell_type": "code",
   "execution_count": 43,
   "metadata": {
    "collapsed": false
   },
   "outputs": [
    {
     "data": {
      "text/plain": [
       "[<matplotlib.lines.Line2D at 0x7ff5bc5347b8>]"
      ]
     },
     "execution_count": 43,
     "metadata": {},
     "output_type": "execute_result"
    },
    {
     "data": {
      "image/png": "[encoded data removed]",
      "text/plain": [
       "<matplotlib.figure.Figure at 0x7ff5bc57f0b8>"
      ]
     },
     "metadata": {},
     "output_type": "display_data"
    }
   ],
   "source": [
    "plt.plot(infs, d_losses - avrg, \"x\")"
   ]
  },
  {
   "cell_type": "code",
   "execution_count": 43,
   "metadata": {
    "collapsed": false
   },
   "outputs": [
    {
     "data": {
      "text/plain": [
       "[<matplotlib.lines.Line2D at 0x7ff5bc5347b8>]"
      ]
     },
     "execution_count": 43,
     "metadata": {},
     "output_type": "execute_result"
    },
    {
     "data": {
      "image/png": "[encoded data removed]",
      "text/plain": [
       "<matplotlib.figure.Figure at 0x7ff5bc57f0b8>"
      ]
     },
     "metadata": {},
     "output_type": "display_data"
    }
   ],
   "source": [
    "plt.plot(infs, d_losses - avrg, \"x\")"
   ]
  },
  {
   "cell_type": "code",
   "execution_count": 39,
   "metadata": {
    "collapsed": false
   },
   "outputs": [
    {
     "name": "stdout",
     "output_type": "stream",
     "text": [
      "(-0.027689653809073733, -12.173828) False\n",
      "(2.253888293622941, -12.064087) False\n",
      "(-0.057892054706257245, -12.17627) True\n",
      "(-0.028630717219882418, -12.174316) False\n",
      "(-0.015116766469772114, -12.174805) False\n",
      "(0.017373136347864637, -12.154297) False\n",
      "(-0.027889592524935058, -12.174683) False\n",
      "(-0.028365732707147373, -12.173828) False\n",
      "(-0.028661911857935651, -12.174316) False\n",
      "(-0.032132640476745244, -12.174683) False\n",
      "(0.42866204244207395, -12.179932) False\n",
      "(-0.029064536376452454, -12.174072) False\n",
      "(-0.16695554828166648, -12.234497) False\n",
      "(-0.094426384465995383, -12.169678) False\n",
      "(-0.099014407147698935, -12.190796) True\n",
      "(0.053566588407716331, -12.184204) False\n",
      "(-0.053189263293645928, -12.175903) False\n",
      "(-0.028707009974843212, -12.174072) False\n",
      "(-0.02871165062694192, -12.174072) False\n",
      "(-0.029057295559478669, -12.173828) False\n",
      "(-0.028698393551712664, -12.174194) False\n",
      "(0.0093212496818373403, -12.175415) False\n",
      "(-0.031820806585119987, -12.175049) False\n",
      "(-0.031968775614441003, -12.173096) False\n",
      "(-0.13891370975072093, -12.168213) False\n",
      "(-0.0289453283844332, -12.174072) False\n",
      "(-0.028126253955734759, -12.173828) False\n",
      "(-0.028758085434260616, -12.17395) False\n",
      "(-0.028775164060898528, -12.174194) False\n",
      "(-0.028002289455125728, -12.174072) False\n",
      "(-0.028708825708656516, -12.174072) False\n",
      "(-0.034650515383163882, -12.174805) False\n",
      "(-0.35479133025095866, -12.287598) False\n",
      "(-0.028808373064501125, -12.174072) False\n",
      "(-0.028697504578234501, -12.174072) False\n",
      "(-0.028727529954794551, -12.174194) False\n",
      "(-0.028824542027475197, -12.174072) False\n",
      "(-0.036531704679168553, -12.175659) False\n",
      "(-0.035695977415595159, -12.187988) True\n",
      "(-0.035818258348613297, -12.174194) False\n",
      "(-0.39518391828252675, -12.18457) False\n",
      "(-0.029854326347444893, -12.174072) False\n",
      "(-0.077706641540831178, -12.209473) False\n",
      "(-0.028652908209206296, -12.174316) False\n",
      "(-0.02956857592495421, -12.174072) False\n",
      "(-0.028965743274697586, -12.174316) False\n",
      "(-0.034573797505071946, -12.172119) False\n",
      "(-0.029061834659685482, -12.174561) False\n",
      "(-0.028365628225029971, -12.174316) False\n",
      "(-0.025527094635741099, -12.172485) False\n",
      "(-0.024994186571189458, -12.174072) True\n",
      "(-0.028389021934152603, -12.174072) False\n",
      "(-0.028687421943229818, -12.174316) False\n",
      "(-0.030765247987854516, -12.174072) False\n",
      "(-0.028705537384252078, -12.174194) False\n",
      "(-0.10481996777167435, -12.171509) False\n",
      "(-0.031523699990862464, -12.174194) False\n",
      "(-0.022508554127498304, -12.176636) False\n",
      "(-0.03674275291951079, -12.172241) False\n",
      "(-0.1877185612464416, -12.183716) False\n",
      "(-0.036980494996716184, -12.105225) False\n",
      "(-0.029450139292092059, -12.174316) False\n",
      "(-0.076631855060252385, -12.179565) False\n",
      "(-0.029584937117285715, -12.173828) False\n",
      "(-0.028736532420442495, -12.174194) False\n",
      "(-0.028193482149302396, -12.174072) False\n",
      "(-0.031966299446420376, -12.174561) False\n",
      "(-0.027226514149741865, -12.172852) False\n",
      "(-0.028700351223237552, -12.174316) False\n",
      "(-0.10792936071174486, -12.193481) False\n",
      "(0.020699151886162392, -12.172119) False\n"
     ]
    }
   ],
   "source": [
    "influence_acc\n",
    "cu = 0\n",
    "for i in range(len(influence_acc)):\n",
    "    print(influence_acc[i], mnist.train.corrupted_mask[i])\n",
    "    cu += influence_acc[i][1]"
   ]
  },
  {
   "cell_type": "code",
   "execution_count": null,
   "metadata": {
    "collapsed": true
   },
   "outputs": [],
   "source": []
  },
  {
   "cell_type": "code",
   "execution_count": 76,
   "metadata": {
    "collapsed": false
   },
   "outputs": [
    {
     "ename": "FileNotFoundError",
     "evalue": "[Errno 2] No such file or directory: 'influence-d_loss'",
     "output_type": "error",
     "traceback": [
      "\u001b[0;31m---------------------------------------------------------------------------\u001b[0m",
      "\u001b[0;31mFileNotFoundError\u001b[0m                         Traceback (most recent call last)",
      "\u001b[0;32m<ipython-input-76-54a6ce837166>\u001b[0m in \u001b[0;36m<module>\u001b[0;34m()\u001b[0m\n\u001b[0;32m----> 1\u001b[0;31m \u001b[0minf72\u001b[0m \u001b[0;34m=\u001b[0m \u001b[0mnp\u001b[0m\u001b[0;34m.\u001b[0m\u001b[0mload\u001b[0m\u001b[0;34m(\u001b[0m\u001b[0;34m\"influence-d_loss\"\u001b[0m\u001b[0;34m)\u001b[0m\u001b[0;34m\u001b[0m\u001b[0m\n\u001b[0m",
      "\u001b[0;32m/usr/local/lib/python3.6/site-packages/numpy/lib/npyio.py\u001b[0m in \u001b[0;36mload\u001b[0;34m(file, mmap_mode, allow_pickle, fix_imports, encoding)\u001b[0m\n\u001b[1;32m    360\u001b[0m     \u001b[0mown_fid\u001b[0m \u001b[0;34m=\u001b[0m \u001b[0;32mFalse\u001b[0m\u001b[0;34m\u001b[0m\u001b[0m\n\u001b[1;32m    361\u001b[0m     \u001b[0;32mif\u001b[0m \u001b[0misinstance\u001b[0m\u001b[0;34m(\u001b[0m\u001b[0mfile\u001b[0m\u001b[0;34m,\u001b[0m \u001b[0mbasestring\u001b[0m\u001b[0;34m)\u001b[0m\u001b[0;34m:\u001b[0m\u001b[0;34m\u001b[0m\u001b[0m\n\u001b[0;32m--> 362\u001b[0;31m         \u001b[0mfid\u001b[0m \u001b[0;34m=\u001b[0m \u001b[0mopen\u001b[0m\u001b[0;34m(\u001b[0m\u001b[0mfile\u001b[0m\u001b[0;34m,\u001b[0m \u001b[0;34m\"rb\"\u001b[0m\u001b[0;34m)\u001b[0m\u001b[0;34m\u001b[0m\u001b[0m\n\u001b[0m\u001b[1;32m    363\u001b[0m         \u001b[0mown_fid\u001b[0m \u001b[0;34m=\u001b[0m \u001b[0;32mTrue\u001b[0m\u001b[0;34m\u001b[0m\u001b[0m\n\u001b[1;32m    364\u001b[0m     \u001b[0;32melse\u001b[0m\u001b[0;34m:\u001b[0m\u001b[0;34m\u001b[0m\u001b[0m\n",
      "\u001b[0;31mFileNotFoundError\u001b[0m: [Errno 2] No such file or directory: 'influence-d_loss'"
     ]
    }
   ],
   "source": [
    "inf72 = np.load(\"influence-d_loss\")"
   ]
  },
  {
   "cell_type": "code",
   "execution_count": null,
   "metadata": {
    "collapsed": true
   },
   "outputs": [],
   "source": []
  },
  {
   "cell_type": "code",
   "execution_count": 47,
   "metadata": {
    "collapsed": true
   },
   "outputs": [],
   "source": [
    "np.save(\"influence-d_loss\", influence_acc)"
   ]
  },
  {
   "cell_type": "code",
   "execution_count": 77,
   "metadata": {
    "collapsed": false
   },
   "outputs": [
    {
     "data": {
      "text/plain": [
       "[(-3.4200348640034406, -12.590576),\n",
       " (-3.4298843697477821, -12.517456),\n",
       " (-3.3155329146516976, -12.46936),\n",
       " (-3.1844899987731878, -12.822754),\n",
       " (-2.8972173116414979, -12.875244)]"
      ]
     },
     "execution_count": 77,
     "metadata": {},
     "output_type": "execute_result"
    }
   ],
   "source": [
    "influence_acc"
   ]
  },
  {
   "cell_type": "code",
   "execution_count": 42,
   "metadata": {
    "collapsed": false
   },
   "outputs": [],
   "source": [
    "avrg = cu/len(influence_acc)"
   ]
  },
  {
   "cell_type": "code",
   "execution_count": null,
   "metadata": {
    "collapsed": true
   },
   "outputs": [],
   "source": []
  },
  {
   "cell_type": "code",
   "execution_count": 35,
   "metadata": {
    "collapsed": false
   },
   "outputs": [
    {
     "name": "stdout",
     "output_type": "stream",
     "text": [
      "-4.37305\n"
     ]
    }
   ],
   "source": [
    "saver.restore(sess, \"/home/cgel/deep_quad/mnist_convnet_corrupted.ckpt\")\n",
    "base_testset_loss = testset_loss()\n",
    "train(10000, mnist.train, learning_rate=1e-7)\n",
    "d_loss = base_testset_loss - testset_loss()\n",
    "print(d_loss)"
   ]
  },
  {
   "cell_type": "code",
   "execution_count": 37,
   "metadata": {
    "collapsed": false
   },
   "outputs": [
    {
     "data": {
      "text/plain": [
       "1"
      ]
     },
     "execution_count": 37,
     "metadata": {},
     "output_type": "execute_result"
    }
   ],
   "source": [
    "1"
   ]
  },
  {
   "cell_type": "code",
   "execution_count": null,
   "metadata": {
    "collapsed": true
   },
   "outputs": [],
   "source": []
  },
  {
   "cell_type": "code",
   "execution_count": 86,
   "metadata": {
    "collapsed": true
   },
   "outputs": [],
   "source": [
    "saver.restore(sess, \"/home/cgel/deep_quad/mnist_convnet_corrupted.ckpt\")"
   ]
  },
  {
   "cell_type": "code",
   "execution_count": 87,
   "metadata": {
    "collapsed": false
   },
   "outputs": [],
   "source": [
    "sess.run(tf.global_variables_initializer())"
   ]
  },
  {
   "cell_type": "code",
   "execution_count": 10,
   "metadata": {
    "collapsed": false
   },
   "outputs": [
    {
     "name": "stdout",
     "output_type": "stream",
     "text": [
      "test acc 0.0846\n",
      "test loss 30870.3\n",
      "train acc 0.0891\n",
      "train loss 31078.4\n",
      "---\n",
      "test acc 0.9632\n",
      "test loss 1621.01\n",
      "train acc 0.9499\n",
      "train loss 2671.71\n",
      "---\n",
      "test acc 0.9712\n",
      "test loss 1323.3\n",
      "train acc 0.9639\n",
      "train loss 1933.37\n",
      "---\n",
      "test acc 0.9732\n",
      "test loss 1229.11\n",
      "train acc 0.9698\n",
      "train loss 1451.83\n",
      "---\n",
      "test acc 0.9725\n",
      "test loss 1166.37\n",
      "train acc 0.9756\n",
      "train loss 1049.5\n",
      "---\n",
      "test acc 0.9734\n",
      "test loss 1083.27\n",
      "train acc 0.9822\n",
      "train loss 731.857\n",
      "---\n",
      "test acc 0.9726\n",
      "test loss 1060.42\n",
      "train acc 0.9905\n",
      "train loss 486.994\n",
      "---\n",
      "test acc 0.9716\n",
      "test loss 1048.83\n",
      "train acc 0.9961\n",
      "train loss 306.672\n",
      "---\n",
      "test acc 0.9711\n",
      "test loss 1017.23\n",
      "train acc 0.9983\n",
      "train loss 184.784\n",
      "---\n",
      "test acc 0.9701\n",
      "test loss 1028.05\n",
      "train acc 0.9988\n",
      "train loss 113.906\n",
      "---\n",
      "test acc 0.9704\n",
      "test loss 1045.9\n",
      "train acc 0.9994\n",
      "train loss 69.462\n",
      "---\n",
      "XXXX\n",
      "test acc 0.9698\n",
      "test loss 1084.29\n",
      "train acc 0.9999\n",
      "train loss 42.4314\n",
      "---\n",
      "test acc 0.9689\n",
      "test loss 1126.6\n",
      "train acc 0.9999\n",
      "train loss 32.3282\n",
      "---\n",
      "test acc 0.9689\n",
      "test loss 1157.06\n",
      "train acc 1.0\n",
      "train loss 19.7326\n",
      "---\n",
      "test acc 0.9695\n",
      "test loss 1188.89\n",
      "train acc 1.0\n",
      "train loss 14.7018\n",
      "---\n",
      "test acc 0.9667\n",
      "test loss 1287.82\n",
      "train acc 0.9994\n",
      "train loss 40.3506\n",
      "---\n",
      "test acc 0.9697\n",
      "test loss 1238.43\n",
      "train acc 1.0\n",
      "train loss 10.3981\n",
      "---\n",
      "test acc 0.9693\n",
      "test loss 1251.98\n",
      "train acc 1.0\n",
      "train loss 9.45525\n",
      "---\n",
      "test acc 0.9683\n",
      "test loss 1322.95\n",
      "train acc 1.0\n",
      "train loss 10.986\n",
      "---\n",
      "test acc 0.9697\n",
      "test loss 1281.04\n",
      "train acc 1.0\n",
      "train loss 7.83585\n",
      "---\n",
      "test acc 0.9698\n",
      "test loss 1284.01\n",
      "train acc 1.0\n",
      "train loss 7.35903\n",
      "---\n",
      "test acc 0.9694\n",
      "test loss 1299.8\n",
      "train acc 1.0\n",
      "train loss 7.18464\n",
      "---\n",
      "test acc 0.9695\n",
      "test loss 1306.42\n",
      "train acc 1.0\n",
      "train loss 6.74382\n",
      "---\n",
      "test acc 0.9689\n",
      "test loss 1314.59\n",
      "train acc 1.0\n",
      "train loss 6.47041\n",
      "---\n",
      "test acc 0.9691\n",
      "test loss 1313.23\n",
      "train acc 1.0\n",
      "train loss 6.18862\n",
      "---\n",
      "test acc 0.9697\n",
      "test loss 1303.65\n",
      "train acc 1.0\n",
      "train loss 5.90618\n",
      "---\n",
      "XXXX\n",
      "test acc 0.9694\n",
      "test loss 1295.51\n",
      "train acc 1.0\n",
      "train loss 5.67874\n",
      "---\n",
      "test acc 0.9694\n",
      "test loss 1295.59\n",
      "train acc 1.0\n",
      "train loss 5.58141\n",
      "---\n",
      "test acc 0.9692\n",
      "test loss 1291.66\n",
      "train acc 1.0\n",
      "train loss 5.55953\n",
      "---\n",
      "test acc 0.9694\n",
      "test loss 1291.77\n",
      "train acc 1.0\n",
      "train loss 5.52102\n",
      "---\n",
      "test acc 0.9691\n",
      "test loss 1290.52\n",
      "train acc 1.0\n",
      "train loss 5.46961\n",
      "---\n",
      "test acc 0.9692\n",
      "test loss 1282.54\n",
      "train acc 1.0\n",
      "train loss 5.41735\n",
      "---\n",
      "test acc 0.9691\n",
      "test loss 1282.88\n",
      "train acc 1.0\n",
      "train loss 5.39521\n",
      "---\n",
      "test acc 0.9693\n",
      "test loss 1279.39\n",
      "train acc 1.0\n",
      "train loss 5.34093\n",
      "---\n",
      "test acc 0.9689\n",
      "test loss 1285.67\n",
      "train acc 1.0\n",
      "train loss 5.34137\n",
      "---\n",
      "test acc 0.9689\n",
      "test loss 1281.23\n",
      "train acc 1.0\n",
      "train loss 5.2611\n",
      "---\n",
      "XXXX\n",
      "test acc 0.9691\n",
      "test loss 1280.37\n",
      "train acc 1.0\n",
      "train loss 5.22092\n",
      "---\n",
      "test acc 0.9692\n",
      "test loss 1278.35\n",
      "train acc 1.0\n",
      "train loss 5.22632\n",
      "---\n",
      "test acc 0.9693\n",
      "test loss 1278.46\n",
      "train acc 1.0\n",
      "train loss 5.21676\n",
      "---\n",
      "test acc 0.9692\n",
      "test loss 1277.41\n",
      "train acc 1.0\n",
      "train loss 5.21618\n",
      "---\n",
      "test acc 0.9694\n",
      "test loss 1277.23\n",
      "train acc 1.0\n",
      "train loss 5.21483\n",
      "---\n",
      "test acc 0.9693\n",
      "test loss 1278.12\n",
      "train acc 1.0\n",
      "train loss 5.20718\n",
      "---\n",
      "test acc 0.9693\n",
      "test loss 1277.95\n",
      "train acc 1.0\n",
      "train loss 5.19952\n",
      "---\n",
      "test acc 0.9693\n",
      "test loss 1277.82\n",
      "train acc 1.0\n",
      "train loss 5.20765\n",
      "---\n",
      "test acc 0.9692\n",
      "test loss 1277.34\n",
      "train acc 1.0\n",
      "train loss 5.19207\n",
      "---\n",
      "test acc 0.9695\n",
      "test loss 1277.04\n",
      "train acc 1.0\n",
      "train loss 5.1857\n",
      "---\n"
     ]
    }
   ],
   "source": [
    "test()\n",
    "for i in range(10):\n",
    "    train(10000, mnist.train)\n",
    "    test()\n",
    "print(\"XXXX\")\n",
    "for i in range(10):\n",
    "    train(10000, mnist.train, 1e-5)\n",
    "    test() \n",
    "print(\"XXXX\")\n",
    "for i in range(10):\n",
    "    train(10000, mnist.train, 1e-6)\n",
    "    test()\n",
    "print(\"XXXX\")\n",
    "for i in range(10):\n",
    "    train(10000, mnist.train, 1e-7)\n",
    "    test()"
   ]
  },
  {
   "cell_type": "code",
   "execution_count": null,
   "metadata": {
    "collapsed": true
   },
   "outputs": [],
   "source": []
  },
  {
   "cell_type": "code",
   "execution_count": null,
   "metadata": {
    "collapsed": true
   },
   "outputs": [],
   "source": []
  },
  {
   "cell_type": "code",
   "execution_count": 18,
   "metadata": {
    "collapsed": false
   },
   "outputs": [
    {
     "data": {
      "text/plain": [
       "'/home/cgel/deep_quad/mnist_convnet_corrupted.ckpt'"
      ]
     },
     "execution_count": 18,
     "metadata": {},
     "output_type": "execute_result"
    }
   ],
   "source": [
    "saver.save(sess, \"/home/cgel/deep_quad/mnist_convnet_corrupted.ckpt\")"
   ]
  },
  {
   "cell_type": "code",
   "execution_count": null,
   "metadata": {
    "collapsed": true
   },
   "outputs": [],
   "source": []
  }
 ],
 "metadata": {
  "kernelspec": {
   "display_name": "Python 3",
   "language": "python",
   "name": "python3"
  },
  "language_info": {
   "codemirror_mode": {
    "name": "ipython",
    "version": 3
   },
   "file_extension": ".py",
   "mimetype": "text/x-python",
   "name": "python",
   "nbconvert_exporter": "python",
   "pygments_lexer": "ipython3",
   "version": "3.6.0"
  }
 },
 "nbformat": 4,
 "nbformat_minor": 2
}
