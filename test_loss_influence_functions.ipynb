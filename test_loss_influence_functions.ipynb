{
 "cells": [
  {
   "cell_type": "code",
   "execution_count": 1,
   "metadata": {
    "collapsed": false
   },
   "outputs": [
    {
     "name": "stdout",
     "output_type": "stream",
     "text": [
      "Extracting mnist_data/train-images-idx3-ubyte.gz\n",
      "Extracting mnist_data/train-labels-idx1-ubyte.gz\n",
      "Extracting mnist_data/t10k-images-idx3-ubyte.gz\n",
      "Extracting mnist_data/t10k-labels-idx1-ubyte.gz\n"
     ]
    }
   ],
   "source": [
    "from __future__ import absolute_import\n",
    "from __future__ import division\n",
    "from __future__ import print_function\n",
    "import os\n",
    "os.environ[\"CUDA_VISIBLE_DEVICES\"]=\"1\"\n",
    "%matplotlib inline\n",
    "\n",
    "import matplotlib\n",
    "import matplotlib.pyplot as plt\n",
    "import argparse\n",
    "import sys\n",
    "import numpy as np\n",
    "from tensorflow.examples.tutorials.mnist import input_data\n",
    "import tensorflow as tf\n",
    "from influence import Influence\n",
    "from mnist_models import Model\n",
    "from utils import corrupt_mnist, Dataset, leave_one_out_dataset\n",
    "from IPython.display import clear_output\n",
    "\n",
    "np.random.seed(1)\n",
    "\n",
    "FLAGS = None\n",
    "\n",
    "# Import data\n",
    "mnist = corrupt_mnist(input_data.read_data_sets(\"mnist_data\", one_hot=True), 0.0)\n",
    "\n",
    "testset = Dataset( (mnist.test.images, mnist.test.labels) )\n",
    "trainset = Dataset ((mnist.train.images, mnist.train.labels) )\n",
    "\n",
    "sess = tf.InteractiveSession()\n",
    "model = Model(\"convnet\", trainset, testset, sess)\n",
    "\n",
    "saver = tf.train.Saver()\n",
    "\n",
    "tf.global_variables_initializer().run()\n",
    "\n",
    "summary_writter = tf.summary.FileWriter(\"./Hvp_summaries\", sess.graph)\n",
    "\n",
    "checkpoint_file = \"/home/cgel/deep_quad/checkpoints/convnet.ckpt\"\n",
    "\n",
    "load = True\n",
    "save = False\n",
    "if not load:\n",
    "    model.train(vervose=2)\n",
    "    if save == True:\n",
    "        saver.save(sess, checkpoint_file)\n",
    "else:\n",
    "    saver.restore(sess, checkpoint_file)"
   ]
  },
  {
   "cell_type": "code",
   "execution_count": 2,
   "metadata": {
    "collapsed": false
   },
   "outputs": [],
   "source": [
    "scale = float(len(trainset.labels)) * 10\n",
    "inf = Influence(model.cross_entropy, testset, model.cross_entropy, trainset, model.input_ph, model.y_, scale, cg_iters = 100, dampening=0.0001, vervose=1)"
   ]
  },
  {
   "cell_type": "code",
   "execution_count": null,
   "metadata": {
    "collapsed": false
   },
   "outputs": [
    {
     "name": "stdout",
     "output_type": "stream",
     "text": [
      "Initial error: 2884.82037105\n"
     ]
    }
   ],
   "source": [
    "load_s = False\n",
    "if load_s:\n",
    "    inf.load_s(\"s_cache\")\n",
    "else:\n",
    "    inf.compute_s()"
   ]
  },
  {
   "cell_type": "code",
   "execution_count": 4,
   "metadata": {
    "collapsed": false
   },
   "outputs": [
    {
     "name": "stdout",
     "output_type": "stream",
     "text": [
      "0\n",
      "10000\n",
      "20000\n",
      "30000\n",
      "40000\n",
      "50000\n"
     ]
    }
   ],
   "source": [
    "# compute the influences for every image in the training set\n",
    "trainset_influence_map = []\n",
    "trainset_influence = []\n",
    "for i in range(len(mnist.train.labels)):\n",
    "    z = (mnist.train.images[i:i+1], mnist.train.labels[i:i+1])\n",
    "    influ, z_grad = inf.of_and_g(z)\n",
    "    trainset_influence.append(influ*scale)\n",
    "    trainset_influence_map.append( (influ, i))\n",
    "    if i % 10000==0:\n",
    "        print(i)"
   ]
  },
  {
   "cell_type": "code",
   "execution_count": 5,
   "metadata": {
    "collapsed": false
   },
   "outputs": [],
   "source": [
    "# generate a list ordering the examples of the training set by most influential\n",
    "abs_influence = []\n",
    "for i_influence, i in trainset_influence_map:\n",
    "    abs_influence.append((abs(i_influence), i))\n",
    "abs_influence.sort(reverse=True)\n",
    "rank = []\n",
    "for i in range(len(trainset_influence_map)):\n",
    "    j = abs_influence[i][1]\n",
    "    rank.append( (trainset_influence[j], j) )"
   ]
  },
  {
   "cell_type": "code",
   "execution_count": null,
   "metadata": {
    "collapsed": true
   },
   "outputs": [],
   "source": [
    "influence_acc = []\n",
    "grads_l = []\n",
    "infs = []\n",
    "d_losses = []"
   ]
  },
  {
   "cell_type": "code",
   "execution_count": null,
   "metadata": {
    "collapsed": false
   },
   "outputs": [
    {
     "data": {
      "image/png": "[encoded data removed]",
      "text/plain": [
       "<matplotlib.figure.Figure at 0x7f6918184898>"
      ]
     },
     "metadata": {},
     "output_type": "display_data"
    }
   ],
   "source": [
    "# leave one out retraining \n",
    "subset = rank[0:20]\n",
    "saver.restore(sess, checkpoint_file)\n",
    "base_testset_loss = model.testset_loss()\n",
    "for _,i in subset:\n",
    "    z = (trainset.images[i:i+1], trainset.labels[i:i+1])\n",
    "    z_influ, z_grad = inf.of_and_g(z)\n",
    "    grads_l.append(z_grad*scale)\n",
    "    model.trainset = leave_one_out_dataset(trainset, i)\n",
    "    model.update(10000, learning_rate=1e-7)\n",
    "    d_loss = base_testset_loss - model.testset_loss()\n",
    "    print(i, \":  \", z_influ * scale, d_loss)\n",
    "    influence_acc.append( (z_influ * scale, d_loss) )\n",
    "    infs.append(z_influ * scale )\n",
    "    d_losses.append(d_loss)\n",
    "    saver.restore(sess, checkpoint_file)\n",
    "    clear_output()\n",
    "    plt.plot(infs, d_losses, \"x\")\n",
    "    plt.show()\n",
    "    \n",
    "model.trainset = trainset"
   ]
  },
  {
   "cell_type": "code",
   "execution_count": null,
   "metadata": {
    "collapsed": false
   },
   "outputs": [],
   "source": [
    "plt.hist(trainset_influence, 100);"
   ]
  },
  {
   "cell_type": "code",
   "execution_count": null,
   "metadata": {
    "collapsed": true
   },
   "outputs": [],
   "source": []
  },
  {
   "cell_type": "code",
   "execution_count": null,
   "metadata": {
    "collapsed": true
   },
   "outputs": [],
   "source": []
  },
  {
   "cell_type": "code",
   "execution_count": 35,
   "metadata": {
    "collapsed": true
   },
   "outputs": [],
   "source": [
    "sorted_influence = sorted(trainset_influence, reverse=True)"
   ]
  },
  {
   "cell_type": "code",
   "execution_count": 43,
   "metadata": {
    "collapsed": false
   },
   "outputs": [
    {
     "name": "stdout",
     "output_type": "stream",
     "text": [
      "-1.634319% of influence coming from 0.018182% of the images\n",
      "-8.933251% of influence coming from 0.181818% of the images\n",
      "-34.140337% of influence coming from 1.818182% of the images\n",
      "-36.386229% of influence coming from 18.181818% of the images\n",
      "-0.082451% of influence coming from 54.545455% of the images\n",
      "36.834958% of influence coming from 90.909091% of the images\n"
     ]
    }
   ],
   "source": [
    "ns = [10, 100, 1000, 10000, 30000, 50000]\n",
    "for n in ns:\n",
    "    r = sum([ r for r in sorted_influence[0:n] ])/sum(trainset_influence)\n",
    "    print(\"%f%% of influence coming from %f%% of the images\"%(r*100, n/len(trainset_influence) * 100))"
   ]
  },
  {
   "cell_type": "code",
   "execution_count": null,
   "metadata": {
    "collapsed": true
   },
   "outputs": [],
   "source": []
  },
  {
   "cell_type": "code",
   "execution_count": null,
   "metadata": {
    "collapsed": false
   },
   "outputs": [],
   "source": [
    "influences_corrupted = []\n",
    "influences_non_corrupted = []\n",
    "grads_corrupted = []\n",
    "grads_non_corrupted = []\n",
    "#size = len(mnist.train.labels)\n",
    "size = 1000\n",
    "for i in range(size):\n",
    "    z = (mnist.train.images[i:i+1], mnist.train.labels[i:i+1])\n",
    "    influ, z_grad = inf.of_and_g(z)\n",
    "    if mnist.train.corrupted_mask[i]:\n",
    "        influences_corrupted.append(influ)\n",
    "        grads_corrupted.append(z_grad)\n",
    "    else:\n",
    "        influences_non_corrupted.append(influ)\n",
    "        grads_non_corrupted.append(z_grad)\n",
    "all_influences = influences_corrupted + influences_non_corrupted\n",
    "all_grads = grads_corrupted + grads_non_corrupted"
   ]
  },
  {
   "cell_type": "code",
   "execution_count": 83,
   "metadata": {
    "collapsed": false
   },
   "outputs": [
    {
     "name": "stdout",
     "output_type": "stream",
     "text": [
      "non corrupted\n",
      "mean -6.47728385977e-08\n",
      "std 1.21111189844e-05\n"
     ]
    }
   ],
   "source": [
    "print(\"non corrupted\")\n",
    "print(\"mean\",np.mean( influences_non_corrupted))\n",
    "print(\"std\",np.std( influences_non_corrupted))"
   ]
  },
  {
   "cell_type": "code",
   "execution_count": 84,
   "metadata": {
    "collapsed": false
   },
   "outputs": [
    {
     "name": "stdout",
     "output_type": "stream",
     "text": [
      "corrupted\n",
      "mean -1.88751401152e-06\n",
      "std 5.31467498935e-06\n"
     ]
    }
   ],
   "source": [
    "print(\"corrupted\")\n",
    "print(\"mean\",np.mean( influences_corrupted))\n",
    "print(\"std\",np.std( influences_corrupted))"
   ]
  },
  {
   "cell_type": "code",
   "execution_count": 16,
   "metadata": {
    "collapsed": true
   },
   "outputs": [],
   "source": [
    "inf.s = influence.lset(inf.s, 1.)"
   ]
  },
  {
   "cell_type": "code",
   "execution_count": 80,
   "metadata": {
    "collapsed": false
   },
   "outputs": [
    {
     "name": "stdout",
     "output_type": "stream",
     "text": [
      "influence d_loss\n",
      "-3.42001894873 -12.5903\n",
      "-3.42991299808 -12.5177\n",
      "-3.31551817139 -12.4698\n",
      "-3.1845451764 -12.823\n",
      "-2.89722035186 -12.8751\n"
     ]
    }
   ],
   "source": [
    "infs = []\n",
    "d_losses = []\n",
    "print(\"influence\", \"d_loss\")\n",
    "for pair in influence_acc:\n",
    "    infs.append(pair[0])\n",
    "    d_losses.append(pair[1])\n",
    "    print(pair[0], pair[1])\n",
    "    \n",
    "plt.plot(infs, d_losses, \"x\")"
   ]
  },
  {
   "cell_type": "code",
   "execution_count": 39,
   "metadata": {
    "collapsed": false
   },
   "outputs": [
    {
     "name": "stdout",
     "output_type": "stream",
     "text": [
      "(-0.027689653809073733, -12.173828) False\n",
      "(2.253888293622941, -12.064087) False\n",
      "(-0.057892054706257245, -12.17627) True\n",
      "(-0.028630717219882418, -12.174316) False\n",
      "(-0.015116766469772114, -12.174805) False\n",
      "(0.017373136347864637, -12.154297) False\n",
      "(-0.027889592524935058, -12.174683) False\n",
      "(-0.028365732707147373, -12.173828) False\n",
      "(-0.028661911857935651, -12.174316) False\n",
      "(-0.032132640476745244, -12.174683) False\n",
      "(0.42866204244207395, -12.179932) False\n",
      "(-0.029064536376452454, -12.174072) False\n",
      "(-0.16695554828166648, -12.234497) False\n",
      "(-0.094426384465995383, -12.169678) False\n",
      "(-0.099014407147698935, -12.190796) True\n",
      "(0.053566588407716331, -12.184204) False\n",
      "(-0.053189263293645928, -12.175903) False\n",
      "(-0.028707009974843212, -12.174072) False\n",
      "(-0.02871165062694192, -12.174072) False\n",
      "(-0.029057295559478669, -12.173828) False\n",
      "(-0.028698393551712664, -12.174194) False\n",
      "(0.0093212496818373403, -12.175415) False\n",
      "(-0.031820806585119987, -12.175049) False\n",
      "(-0.031968775614441003, -12.173096) False\n",
      "(-0.13891370975072093, -12.168213) False\n",
      "(-0.0289453283844332, -12.174072) False\n",
      "(-0.028126253955734759, -12.173828) False\n",
      "(-0.028758085434260616, -12.17395) False\n",
      "(-0.028775164060898528, -12.174194) False\n",
      "(-0.028002289455125728, -12.174072) False\n",
      "(-0.028708825708656516, -12.174072) False\n",
      "(-0.034650515383163882, -12.174805) False\n",
      "(-0.35479133025095866, -12.287598) False\n",
      "(-0.028808373064501125, -12.174072) False\n",
      "(-0.028697504578234501, -12.174072) False\n",
      "(-0.028727529954794551, -12.174194) False\n",
      "(-0.028824542027475197, -12.174072) False\n",
      "(-0.036531704679168553, -12.175659) False\n",
      "(-0.035695977415595159, -12.187988) True\n",
      "(-0.035818258348613297, -12.174194) False\n",
      "(-0.39518391828252675, -12.18457) False\n",
      "(-0.029854326347444893, -12.174072) False\n",
      "(-0.077706641540831178, -12.209473) False\n",
      "(-0.028652908209206296, -12.174316) False\n",
      "(-0.02956857592495421, -12.174072) False\n",
      "(-0.028965743274697586, -12.174316) False\n",
      "(-0.034573797505071946, -12.172119) False\n",
      "(-0.029061834659685482, -12.174561) False\n",
      "(-0.028365628225029971, -12.174316) False\n",
      "(-0.025527094635741099, -12.172485) False\n",
      "(-0.024994186571189458, -12.174072) True\n",
      "(-0.028389021934152603, -12.174072) False\n",
      "(-0.028687421943229818, -12.174316) False\n",
      "(-0.030765247987854516, -12.174072) False\n",
      "(-0.028705537384252078, -12.174194) False\n",
      "(-0.10481996777167435, -12.171509) False\n",
      "(-0.031523699990862464, -12.174194) False\n",
      "(-0.022508554127498304, -12.176636) False\n",
      "(-0.03674275291951079, -12.172241) False\n",
      "(-0.1877185612464416, -12.183716) False\n",
      "(-0.036980494996716184, -12.105225) False\n",
      "(-0.029450139292092059, -12.174316) False\n",
      "(-0.076631855060252385, -12.179565) False\n",
      "(-0.029584937117285715, -12.173828) False\n",
      "(-0.028736532420442495, -12.174194) False\n",
      "(-0.028193482149302396, -12.174072) False\n",
      "(-0.031966299446420376, -12.174561) False\n",
      "(-0.027226514149741865, -12.172852) False\n",
      "(-0.028700351223237552, -12.174316) False\n",
      "(-0.10792936071174486, -12.193481) False\n",
      "(0.020699151886162392, -12.172119) False\n"
     ]
    }
   ],
   "source": [
    "influence_acc\n",
    "cu = 0\n",
    "for i in range(len(influence_acc)):\n",
    "    print(influence_acc[i], mnist.train.corrupted_mask[i])\n",
    "    cu += influence_acc[i][1]"
   ]
  }
 ],
 "metadata": {
  "kernelspec": {
   "display_name": "Python 3",
   "language": "python",
   "name": "python3"
  },
  "language_info": {
   "codemirror_mode": {
    "name": "ipython",
    "version": 3
   },
   "file_extension": ".py",
   "mimetype": "text/x-python",
   "name": "python",
   "nbconvert_exporter": "python",
   "pygments_lexer": "ipython3",
   "version": "3.6.0"
  }
 },
 "nbformat": 4,
 "nbformat_minor": 2
}
