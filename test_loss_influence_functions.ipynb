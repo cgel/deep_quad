{
 "cells": [
  {
   "cell_type": "code",
   "execution_count": 1,
   "metadata": {
    "collapsed": false
   },
   "outputs": [
    {
     "name": "stdout",
     "output_type": "stream",
     "text": [
      "Extracting mnist_data/train-images-idx3-ubyte.gz\n",
      "Extracting mnist_data/train-labels-idx1-ubyte.gz\n",
      "Extracting mnist_data/t10k-images-idx3-ubyte.gz\n",
      "Extracting mnist_data/t10k-labels-idx1-ubyte.gz\n"
     ]
    }
   ],
   "source": [
    "import os\n",
    "os.environ[\"CUDA_VISIBLE_DEVICES\"]=\"1\"\n",
    "%matplotlib inline\n",
    "\n",
    "import matplotlib\n",
    "import matplotlib.pyplot as plt\n",
    "import numpy as np\n",
    "from tensorflow.examples.tutorials.mnist import input_data\n",
    "import tensorflow as tf\n",
    "from influence import Influence\n",
    "from mnist_models import Model\n",
    "from utils import corrupt_mnist, Dataset, leave_one_out_dataset\n",
    "from IPython.display import clear_output\n",
    "\n",
    "np.random.seed(1)\n",
    "\n",
    "FLAGS = None\n",
    "\n",
    "# Import data\n",
    "mnist = corrupt_mnist(input_data.read_data_sets(\"mnist_data\", one_hot=True), 0.0)\n",
    "\n",
    "testset = Dataset( (mnist.test.images, mnist.test.labels) )\n",
    "trainset = Dataset ((mnist.train.images, mnist.train.labels) )\n",
    "\n",
    "sess = tf.InteractiveSession()\n",
    "model = Model(\"convnet\", trainset, testset, sess)\n",
    "\n",
    "saver = tf.train.Saver()\n",
    "\n",
    "tf.global_variables_initializer().run()\n",
    "\n",
    "summary_writter = tf.summary.FileWriter(\"./Hvp_summaries\", sess.graph)\n",
    "\n",
    "checkpoint_file = \"/home/cgel/deep_quad/checkpoints/convnet.ckpt\""
   ]
  },
  {
   "cell_type": "code",
   "execution_count": 2,
   "metadata": {
    "collapsed": true
   },
   "outputs": [],
   "source": [
    "load = True\n",
    "save = False\n",
    "if not load:\n",
    "    model.train(vervose=2)\n",
    "    if save == True:\n",
    "        saver.save(sess, checkpoint_file)\n",
    "else:\n",
    "    saver.restore(sess, checkpoint_file)"
   ]
  },
  {
   "cell_type": "code",
   "execution_count": 3,
   "metadata": {
    "collapsed": false
   },
   "outputs": [],
   "source": [
    "scale = float(len(trainset.labels)) * 10\n",
    "inf = Influence(model.cross_entropy, testset, model.cross_entropy, trainset, model.input_ph, model.y_, scale, cg_iters = 100, dampening=0.0001, vervose=1)"
   ]
  },
  {
   "cell_type": "code",
   "execution_count": 4,
   "metadata": {
    "collapsed": false
   },
   "outputs": [
    {
     "name": "stdout",
     "output_type": "stream",
     "text": [
      "Initial error: 2884.82037105\n",
      "Final error: 0.00269135129188\n"
     ]
    }
   ],
   "source": [
    "load_s = False\n",
    "if load_s:\n",
    "    inf.load_s(\"s_cache\")\n",
    "else:\n",
    "    inf.compute_s()"
   ]
  },
  {
   "cell_type": "code",
   "execution_count": 210,
   "metadata": {
    "collapsed": false
   },
   "outputs": [
    {
     "data": {
      "text/plain": [
       "652.41949"
      ]
     },
     "execution_count": 210,
     "metadata": {},
     "output_type": "execute_result"
    }
   ],
   "source": [
    "model.testset_loss()"
   ]
  },
  {
   "cell_type": "markdown",
   "metadata": {},
   "source": [
    "## Influence vs leave one out"
   ]
  },
  {
   "cell_type": "code",
   "execution_count": 5,
   "metadata": {
    "collapsed": false
   },
   "outputs": [
    {
     "name": "stdout",
     "output_type": "stream",
     "text": [
      "None\n",
      "True\n"
     ]
    },
    {
     "ename": "Exception",
     "evalue": "Before computing the influence of z, s needs to be computed",
     "output_type": "error",
     "traceback": [
      "\u001b[0;31m---------------------------------------------------------------------------\u001b[0m",
      "\u001b[0;31mException\u001b[0m                                 Traceback (most recent call last)",
      "\u001b[0;32m<ipython-input-5-7f2b7aad138f>\u001b[0m in \u001b[0;36m<module>\u001b[0;34m()\u001b[0m\n\u001b[1;32m      5\u001b[0m \u001b[0;32mfor\u001b[0m \u001b[0mi\u001b[0m \u001b[0;32min\u001b[0m \u001b[0mrange\u001b[0m\u001b[0;34m(\u001b[0m\u001b[0mlen\u001b[0m\u001b[0;34m(\u001b[0m\u001b[0mmnist\u001b[0m\u001b[0;34m.\u001b[0m\u001b[0mtrain\u001b[0m\u001b[0;34m.\u001b[0m\u001b[0mlabels\u001b[0m\u001b[0;34m)\u001b[0m\u001b[0;34m)\u001b[0m\u001b[0;34m:\u001b[0m\u001b[0;34m\u001b[0m\u001b[0m\n\u001b[1;32m      6\u001b[0m     \u001b[0mz\u001b[0m \u001b[0;34m=\u001b[0m \u001b[0;34m(\u001b[0m\u001b[0mmnist\u001b[0m\u001b[0;34m.\u001b[0m\u001b[0mtrain\u001b[0m\u001b[0;34m.\u001b[0m\u001b[0mimages\u001b[0m\u001b[0;34m[\u001b[0m\u001b[0mi\u001b[0m\u001b[0;34m:\u001b[0m\u001b[0mi\u001b[0m\u001b[0;34m+\u001b[0m\u001b[0;36m1\u001b[0m\u001b[0;34m]\u001b[0m\u001b[0;34m,\u001b[0m \u001b[0mmnist\u001b[0m\u001b[0;34m.\u001b[0m\u001b[0mtrain\u001b[0m\u001b[0;34m.\u001b[0m\u001b[0mlabels\u001b[0m\u001b[0;34m[\u001b[0m\u001b[0mi\u001b[0m\u001b[0;34m:\u001b[0m\u001b[0mi\u001b[0m\u001b[0;34m+\u001b[0m\u001b[0;36m1\u001b[0m\u001b[0;34m]\u001b[0m\u001b[0;34m)\u001b[0m\u001b[0;34m\u001b[0m\u001b[0m\n\u001b[0;32m----> 7\u001b[0;31m     \u001b[0minflu\u001b[0m\u001b[0;34m,\u001b[0m \u001b[0mz_grad\u001b[0m \u001b[0;34m=\u001b[0m \u001b[0minf\u001b[0m\u001b[0;34m.\u001b[0m\u001b[0mof_and_g\u001b[0m\u001b[0;34m(\u001b[0m\u001b[0mz\u001b[0m\u001b[0;34m)\u001b[0m\u001b[0;34m\u001b[0m\u001b[0m\n\u001b[0m\u001b[1;32m      8\u001b[0m     \u001b[0mtrainset_influence\u001b[0m\u001b[0;34m.\u001b[0m\u001b[0mappend\u001b[0m\u001b[0;34m(\u001b[0m\u001b[0minflu\u001b[0m\u001b[0;34m)\u001b[0m\u001b[0;34m\u001b[0m\u001b[0m\n\u001b[1;32m      9\u001b[0m     \u001b[0mtrainset_grads\u001b[0m\u001b[0;34m.\u001b[0m\u001b[0mappend\u001b[0m\u001b[0;34m(\u001b[0m\u001b[0mz_grad\u001b[0m\u001b[0;34m)\u001b[0m\u001b[0;34m\u001b[0m\u001b[0m\n",
      "\u001b[0;32m/home/cgel/deep_quad/influence.py\u001b[0m in \u001b[0;36mof_and_g\u001b[0;34m(self, z)\u001b[0m\n\u001b[1;32m     73\u001b[0m         \u001b[0mprint\u001b[0m\u001b[0;34m(\u001b[0m\u001b[0mself\u001b[0m\u001b[0;34m.\u001b[0m\u001b[0ms\u001b[0m \u001b[0;34m==\u001b[0m \u001b[0;32mNone\u001b[0m\u001b[0;34m)\u001b[0m\u001b[0;34m\u001b[0m\u001b[0m\n\u001b[1;32m     74\u001b[0m         \u001b[0;32mif\u001b[0m \u001b[0mself\u001b[0m\u001b[0;34m.\u001b[0m\u001b[0ms\u001b[0m \u001b[0;34m==\u001b[0m \u001b[0;32mNone\u001b[0m\u001b[0;34m:\u001b[0m\u001b[0;34m\u001b[0m\u001b[0m\n\u001b[0;32m---> 75\u001b[0;31m             \u001b[0;32mraise\u001b[0m \u001b[0mException\u001b[0m\u001b[0;34m(\u001b[0m\u001b[0;34m\"Before computing the influence of z, s needs to be computed\"\u001b[0m\u001b[0;34m)\u001b[0m\u001b[0;34m\u001b[0m\u001b[0m\n\u001b[0m\u001b[1;32m     76\u001b[0m         \u001b[0mfeed_dict\u001b[0m \u001b[0;34m=\u001b[0m \u001b[0;34m{\u001b[0m\u001b[0mself\u001b[0m\u001b[0;34m.\u001b[0m\u001b[0minput_ph\u001b[0m\u001b[0;34m:\u001b[0m \u001b[0mz\u001b[0m\u001b[0;34m[\u001b[0m\u001b[0;36m0\u001b[0m\u001b[0;34m]\u001b[0m\u001b[0;34m,\u001b[0m \u001b[0mself\u001b[0m\u001b[0;34m.\u001b[0m\u001b[0mtarget_ph\u001b[0m\u001b[0;34m:\u001b[0m \u001b[0mz\u001b[0m\u001b[0;34m[\u001b[0m\u001b[0;36m1\u001b[0m\u001b[0;34m]\u001b[0m\u001b[0;34m}\u001b[0m\u001b[0;34m\u001b[0m\u001b[0m\n\u001b[1;32m     77\u001b[0m         \u001b[0mgrads_on\u001b[0m \u001b[0;34m=\u001b[0m \u001b[0mVectorify\u001b[0m\u001b[0;34m(\u001b[0m\u001b[0mself\u001b[0m\u001b[0;34m.\u001b[0m\u001b[0msess\u001b[0m\u001b[0;34m.\u001b[0m\u001b[0mrun\u001b[0m\u001b[0;34m(\u001b[0m\u001b[0mself\u001b[0m\u001b[0;34m.\u001b[0m\u001b[0mloss_grads\u001b[0m\u001b[0;34m,\u001b[0m \u001b[0mfeed_dict\u001b[0m\u001b[0;34m)\u001b[0m\u001b[0;34m)\u001b[0m\u001b[0;34m\u001b[0m\u001b[0m\n",
      "\u001b[0;31mException\u001b[0m: Before computing the influence of z, s needs to be computed"
     ]
    }
   ],
   "source": [
    "# compute the influences for every image in the training set\n",
    "trainset_influence_map = []\n",
    "trainset_influence = []\n",
    "trainset_grads = []\n",
    "for i in range(len(mnist.train.labels)):\n",
    "    z = (mnist.train.images[i:i+1], mnist.train.labels[i:i+1])\n",
    "    influ, z_grad = inf.of_and_g(z)\n",
    "    trainset_influence.append(influ)\n",
    "    trainset_grads.append(z_grad)\n",
    "    trainset_influence_map.append( (influ, i))\n",
    "    if i % 10000==0:\n",
    "        print(i)"
   ]
  },
  {
   "cell_type": "code",
   "execution_count": 71,
   "metadata": {
    "collapsed": false
   },
   "outputs": [],
   "source": [
    "# generate a list ordering the examples of the training set by most influential\n",
    "abs_influence = [ (abs(i_influ), i) for i_influ, i in trainset_influence_map]\n",
    "abs_influence.sort(reverse=True)\n",
    "rank = [ (trainset_influence[j], j) for _, j in abs_influence]"
   ]
  },
  {
   "cell_type": "code",
   "execution_count": 7,
   "metadata": {
    "collapsed": true
   },
   "outputs": [],
   "source": [
    "influence_acc = []\n",
    "grads_l = []\n",
    "infs = []\n",
    "d_losses = []"
   ]
  },
  {
   "cell_type": "code",
   "execution_count": 8,
   "metadata": {
    "collapsed": false
   },
   "outputs": [
    {
     "data": {
      "image/png": "[encoded data removed]",
      "text/plain": [
       "<matplotlib.figure.Figure at 0x7f8a4c11e160>"
      ]
     },
     "metadata": {},
     "output_type": "display_data"
    }
   ],
   "source": [
    "# leave one out retraining \n",
    "subset = rank[0:20]\n",
    "saver.restore(sess, checkpoint_file)\n",
    "base_testset_loss = model.testset_loss()\n",
    "for _,i in subset:\n",
    "    z = (trainset.images[i:i+1], trainset.labels[i:i+1])\n",
    "    z_influ, z_grad = inf.of_and_g(z)\n",
    "    grads_l.append(z_grad)\n",
    "    model.trainset = leave_one_out_dataset(trainset, i)\n",
    "    model.update(10000, learning_rate=1e-7)\n",
    "    d_loss = base_testset_loss - model.testset_loss()\n",
    "    print(i, \":  \", z_influ, d_loss)\n",
    "    influence_acc.append( (z_influ, d_loss) )\n",
    "    infs.append(z_influ )\n",
    "    d_losses.append(d_loss)\n",
    "    saver.restore(sess, checkpoint_file)\n",
    "    clear_output()\n",
    "    plt.plot(infs, d_losses, \"x\")\n",
    "    plt.show()\n",
    "    \n",
    "model.trainset = trainset"
   ]
  },
  {
   "cell_type": "markdown",
   "metadata": {},
   "source": [
    "## Simple influence vs leave one out"
   ]
  },
  {
   "cell_type": "code",
   "execution_count": 187,
   "metadata": {
    "collapsed": true
   },
   "outputs": [],
   "source": [
    "def simple_influence(z):\n",
    "    z_grad = sess.run(model.grads, {model.input_ph:z[0], model.y_:z[1] } )\n",
    "    return -inf.evalset_func_grads.dot(z_grad)"
   ]
  },
  {
   "cell_type": "code",
   "execution_count": 188,
   "metadata": {
    "collapsed": false
   },
   "outputs": [
    {
     "name": "stdout",
     "output_type": "stream",
     "text": [
      "0\n",
      "10000\n",
      "20000\n",
      "30000\n",
      "40000\n",
      "50000\n"
     ]
    }
   ],
   "source": [
    "# compute the simple influences for every image in the training set\n",
    "trainset_simple_influence_map = []\n",
    "trainset_simple_influence = []\n",
    "for i in range(len(mnist.train.labels)):\n",
    "    z = (mnist.train.images[i:i+1], mnist.train.labels[i:i+1])\n",
    "    influ = simple_influence(z)\n",
    "    trainset_simple_influence.append(influ)\n",
    "    trainset_simple_influence_map.append( (influ, i))\n",
    "    if i % 10000==0:\n",
    "        print(i)\n",
    "print(\"Done\")"
   ]
  },
  {
   "cell_type": "code",
   "execution_count": 190,
   "metadata": {
    "collapsed": false
   },
   "outputs": [],
   "source": [
    "# generate a list ordering the examples of the training set by most influential\n",
    "abs_simple_influence = [ (abs(i_influ), i) for i_influ, i in trainset_simple_influence_map]\n",
    "abs_simple_influence.sort(reverse=True)\n",
    "simple_rank = [ (trainset_simple_influence[j], j) for _, j in abs_simple_influence]"
   ]
  },
  {
   "cell_type": "code",
   "execution_count": 193,
   "metadata": {
    "collapsed": true
   },
   "outputs": [],
   "source": [
    "s_infs = []\n",
    "s_simple_infs = []\n",
    "s_d_losses = []"
   ]
  },
  {
   "cell_type": "code",
   "execution_count": 194,
   "metadata": {
    "collapsed": false
   },
   "outputs": [
    {
     "data": {
      "image/png": "[encoded data removed]",
      "text/plain": [
       "<matplotlib.figure.Figure at 0x7f89e062b828>"
      ]
     },
     "metadata": {},
     "output_type": "display_data"
    }
   ],
   "source": [
    "# leave one out retraining \n",
    "subset = simple_rank[0:20]\n",
    "saver.restore(sess, checkpoint_file)\n",
    "base_testset_loss = model.testset_loss()\n",
    "for _,i in subset:\n",
    "    z = (trainset.images[i:i+1], trainset.labels[i:i+1])\n",
    "    # compute influence\n",
    "    z_influ, z_grad = inf.of_and_g(z)\n",
    "    s_infs.append(z_influ )\n",
    "    # compute simple influence\n",
    "    s_simple_infs.append(simple_influence(z))\n",
    "    # leave one out retraining\n",
    "    model.trainset = leave_one_out_dataset(trainset, i)\n",
    "    model.update(10000, learning_rate=1e-7)\n",
    "    s_d_losses.append(base_testset_loss - model.testset_loss())\n",
    "    \n",
    "    # restore and plot\n",
    "    saver.restore(sess, checkpoint_file)\n",
    "    clear_output()\n",
    "    plt.plot(s_infs, s_d_losses, \"x\")\n",
    "    plt.show()\n",
    "    \n",
    "model.trainset = trainset"
   ]
  },
  {
   "cell_type": "code",
   "execution_count": null,
   "metadata": {
    "collapsed": true
   },
   "outputs": [],
   "source": []
  },
  {
   "cell_type": "code",
   "execution_count": 209,
   "metadata": {
    "collapsed": false
   },
   "outputs": [
    {
     "data": {
      "text/plain": [
       "[<matplotlib.lines.Line2D at 0x7f89b8215048>]"
      ]
     },
     "execution_count": 209,
     "metadata": {},
     "output_type": "execute_result"
    },
    {
     "data": {
      "image/png": "[encoded data removed]",
      "text/plain": [
       "<matplotlib.figure.Figure at 0x7f89b8215940>"
      ]
     },
     "metadata": {},
     "output_type": "display_data"
    }
   ],
   "source": [
    "plt.plot(s_infs, s_d_losses, \"x\")\n",
    "plt.plot(np.array(infs)/scale, d_losses, \"x\", color=\"red\", alpha=0.5)"
   ]
  },
  {
   "cell_type": "code",
   "execution_count": 200,
   "metadata": {
    "collapsed": false
   },
   "outputs": [
    {
     "data": {
      "text/plain": [
       "[<matplotlib.lines.Line2D at 0x7f899c1029b0>]"
      ]
     },
     "execution_count": 200,
     "metadata": {},
     "output_type": "execute_result"
    },
    {
     "data": {
      "image/png": "[encoded data removed]",
      "text/plain": [
       "<matplotlib.figure.Figure at 0x7f89e039a978>"
      ]
     },
     "metadata": {},
     "output_type": "display_data"
    }
   ],
   "source": [
    "plt.plot(s_infs, s_d_losses, \"x\")"
   ]
  },
  {
   "cell_type": "code",
   "execution_count": 196,
   "metadata": {
    "collapsed": false
   },
   "outputs": [
    {
     "data": {
      "text/plain": [
       "[<matplotlib.lines.Line2D at 0x7f899c172400>]"
      ]
     },
     "execution_count": 196,
     "metadata": {},
     "output_type": "execute_result"
    },
    {
     "data": {
      "image/png": "[encoded data removed]",
      "text/plain": [
       "<matplotlib.figure.Figure at 0x7f89e071e048>"
      ]
     },
     "metadata": {},
     "output_type": "display_data"
    }
   ],
   "source": [
    "plt.plot(s_simple_infs, s_d_losses, \"x\")"
   ]
  },
  {
   "cell_type": "code",
   "execution_count": 207,
   "metadata": {
    "collapsed": false
   },
   "outputs": [
    {
     "data": {
      "text/plain": [
       "[<matplotlib.lines.Line2D at 0x7f89b8281128>]"
      ]
     },
     "execution_count": 207,
     "metadata": {},
     "output_type": "execute_result"
    },
    {
     "data": {
      "image/png": "[encoded data removed]",
      "text/plain": [
       "<matplotlib.figure.Figure at 0x7f89b8281cf8>"
      ]
     },
     "metadata": {},
     "output_type": "display_data"
    }
   ],
   "source": [
    "plt.plot(s_d_losses, [1]*20, \"x\", color=\"red\")\n",
    "plt.plot(d_losses, [0]*20, \"x\")"
   ]
  },
  {
   "cell_type": "code",
   "execution_count": null,
   "metadata": {
    "collapsed": true
   },
   "outputs": [],
   "source": [
    "def plot_mnist_image(x):\n",
    "    plt.imshow(x.reshape((28,28)))\n",
    "    plt.set_cmap('gray')"
   ]
  },
  {
   "cell_type": "code",
   "execution_count": null,
   "metadata": {
    "collapsed": true
   },
   "outputs": [],
   "source": []
  },
  {
   "cell_type": "code",
   "execution_count": null,
   "metadata": {
    "collapsed": true
   },
   "outputs": [],
   "source": []
  }
 ],
 "metadata": {
  "kernelspec": {
   "display_name": "Python 3",
   "language": "python",
   "name": "python3"
  },
  "language_info": {
   "codemirror_mode": {
    "name": "ipython",
    "version": 3
   },
   "file_extension": ".py",
   "mimetype": "text/x-python",
   "name": "python",
   "nbconvert_exporter": "python",
   "pygments_lexer": "ipython3",
   "version": "3.6.0"
  }
 },
 "nbformat": 4,
 "nbformat_minor": 2
}
