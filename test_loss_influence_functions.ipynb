{
 "cells": [
  {
   "cell_type": "code",
   "execution_count": null,
   "metadata": {},
   "outputs": [],
   "source": [
    "import os\n",
    "os.environ[\"CUDA_VISIBLE_DEVICES\"]=\"1\"\n",
    "%matplotlib inline\n",
    "\n",
    "import matplotlib\n",
    "import matplotlib.pyplot as plt\n",
    "import numpy as np\n",
    "from tensorflow.examples.tutorials.mnist import input_data\n",
    "import tensorflow as tf\n",
    "from influence import Influence\n",
    "from mnist_models import Model\n",
    "from utils import corrupt_mnist, Dataset, leave_one_out_dataset\n",
    "from IPython.display import clear_output\n",
    "\n",
    "np.random.seed(1)\n",
    "\n",
    "FLAGS = None\n",
    "\n",
    "# Import data\n",
    "mnist = corrupt_mnist(input_data.read_data_sets(\"mnist_data\", one_hot=True), 0.0)\n",
    "\n",
    "testset = Dataset( (mnist.test.images, mnist.test.labels) )\n",
    "trainset = Dataset ((mnist.train.images, mnist.train.labels) )\n",
    "\n",
    "sess = tf.InteractiveSession()\n",
    "model = Model(\"convnet\", trainset, testset, sess, training_steps=20000)\n",
    "\n",
    "saver = tf.train.Saver()\n",
    "\n",
    "tf.global_variables_initializer().run()\n",
    "\n",
    "summary_writter = tf.summary.FileWriter(\"./Hvp_summaries\", sess.graph)\n",
    "\n",
    "checkpoint_file = \"/home/cgel/deep_quad/checkpoints/convnet.ckpt\""
   ]
  },
  {
   "cell_type": "code",
   "execution_count": null,
   "metadata": {},
   "outputs": [],
   "source": [
    "load = True\n",
    "save = False\n",
    "if not load:\n",
    "    model.train(vervose=2)\n",
    "    if save == True:\n",
    "        saver.save(sess, checkpoint_file)\n",
    "else:\n",
    "    saver.restore(sess, checkpoint_file)"
   ]
  },
  {
   "cell_type": "code",
   "execution_count": null,
   "metadata": {},
   "outputs": [],
   "source": [
    "model.evaluate_accuracy_on(trainset)"
   ]
  },
  {
   "cell_type": "code",
   "execution_count": null,
   "metadata": {},
   "outputs": [],
   "source": [
    "model.evaluate_accuracy_on(testset)"
   ]
  },
  {
   "cell_type": "code",
   "execution_count": null,
   "metadata": {},
   "outputs": [],
   "source": [
    "saver.save(sess, checkpoint_file)"
   ]
  },
  {
   "cell_type": "code",
   "execution_count": null,
   "metadata": {
    "collapsed": true
   },
   "outputs": [],
   "source": [
    "scale = float(len(trainset.labels)) * 10\n",
    "inf = Influence(model.cross_entropy, testset, model.cross_entropy, trainset, model.input_ph, model.y_, scale, cg_iters = 100, dampening=0.0001, vervose=1)"
   ]
  },
  {
   "cell_type": "code",
   "execution_count": null,
   "metadata": {},
   "outputs": [],
   "source": [
    "load_s = False\n",
    "if load_s:\n",
    "    inf.load_s(\"s_cache\")\n",
    "else:\n",
    "    inf.compute_s()"
   ]
  },
  {
   "cell_type": "code",
   "execution_count": null,
   "metadata": {},
   "outputs": [],
   "source": [
    "model.testset_loss()"
   ]
  },
  {
   "cell_type": "markdown",
   "metadata": {},
   "source": [
    "## Influence vs leave one out"
   ]
  },
  {
   "cell_type": "code",
   "execution_count": null,
   "metadata": {},
   "outputs": [],
   "source": [
    "# compute the influences for every image in the training set\n",
    "trainset_influence_map = []\n",
    "trainset_influence = []\n",
    "trainset_grads = []\n",
    "for i in range(len(mnist.train.labels)):\n",
    "    z = (mnist.train.images[i:i+1], mnist.train.labels[i:i+1])\n",
    "    influ, z_grad = inf.of_and_g(z)\n",
    "    trainset_influence.append(influ)\n",
    "    trainset_grads.append(z_grad)\n",
    "    trainset_influence_map.append( (influ, i))\n",
    "    if i % 10000==0:\n",
    "        print(i)"
   ]
  },
  {
   "cell_type": "code",
   "execution_count": null,
   "metadata": {
    "collapsed": true
   },
   "outputs": [],
   "source": [
    "# generate a list ordering the examples of the training set by most influential\n",
    "abs_influence = [ (abs(i_influ), i) for i_influ, i in trainset_influence_map]\n",
    "abs_influence.sort(reverse=True)\n",
    "rank = [ (trainset_influence[j], j) for _, j in abs_influence]"
   ]
  },
  {
   "cell_type": "code",
   "execution_count": null,
   "metadata": {
    "collapsed": true
   },
   "outputs": [],
   "source": [
    "influence_acc = []\n",
    "grads_l = []\n",
    "infs = []\n",
    "d_losses = []"
   ]
  },
  {
   "cell_type": "code",
   "execution_count": null,
   "metadata": {},
   "outputs": [],
   "source": [
    "# leave one out retraining \n",
    "subset = rank[0:20]\n",
    "saver.restore(sess, checkpoint_file)\n",
    "base_testset_loss = model.testset_loss()\n",
    "for _,i in subset:\n",
    "    z = (trainset.images[i:i+1], trainset.labels[i:i+1])\n",
    "    z_influ, z_grad = inf.of_and_g(z)\n",
    "    grads_l.append(z_grad)\n",
    "    model.trainset = leave_one_out_dataset(trainset, i)\n",
    "    model.update(10000, learning_rate=1e-7)\n",
    "    d_loss = base_testset_loss - model.testset_loss()\n",
    "    print(i, \":  \", z_influ, d_loss)\n",
    "    influence_acc.append( (z_influ, d_loss) )\n",
    "    infs.append(z_influ )\n",
    "    d_losses.append(d_loss)\n",
    "    saver.restore(sess, checkpoint_file)\n",
    "    clear_output()\n",
    "    plt.plot(infs, d_losses, \"x\")\n",
    "    plt.show()\n",
    "    \n",
    "model.trainset = trainset"
   ]
  },
  {
   "cell_type": "markdown",
   "metadata": {},
   "source": [
    "## Simple influence vs leave one out"
   ]
  },
  {
   "cell_type": "code",
   "execution_count": null,
   "metadata": {
    "collapsed": true
   },
   "outputs": [],
   "source": [
    "def simple_influence(z):\n",
    "    z_grad = sess.run(model.grads, {model.input_ph:z[0], model.y_:z[1] } )\n",
    "    return -inf.evalset_func_grads.dot(z_grad)"
   ]
  },
  {
   "cell_type": "code",
   "execution_count": null,
   "metadata": {},
   "outputs": [],
   "source": [
    "# compute the simple influences for every image in the training set\n",
    "trainset_simple_influence_map = []\n",
    "trainset_simple_influence = []\n",
    "for i in range(len(mnist.train.labels)):\n",
    "    z = (mnist.train.images[i:i+1], mnist.train.labels[i:i+1])\n",
    "    influ = simple_influence(z)\n",
    "    trainset_simple_influence.append(influ)\n",
    "    trainset_simple_influence_map.append( (influ, i))\n",
    "    if i % 10000==0:\n",
    "        print(i)\n",
    "print(\"Done\")"
   ]
  },
  {
   "cell_type": "code",
   "execution_count": null,
   "metadata": {
    "collapsed": true
   },
   "outputs": [],
   "source": [
    "# generate a list ordering the examples of the training set by most influential\n",
    "abs_simple_influence = [ (abs(i_influ), i) for i_influ, i in trainset_simple_influence_map]\n",
    "abs_simple_influence.sort(reverse=True)\n",
    "simple_rank = [ (trainset_simple_influence[j], j) for _, j in abs_simple_influence]"
   ]
  },
  {
   "cell_type": "code",
   "execution_count": null,
   "metadata": {
    "collapsed": true
   },
   "outputs": [],
   "source": [
    "s_infs = []\n",
    "s_simple_infs = []\n",
    "s_d_losses = []"
   ]
  },
  {
   "cell_type": "code",
   "execution_count": null,
   "metadata": {},
   "outputs": [],
   "source": [
    "# leave one out retraining \n",
    "subset = simple_rank[0:20]\n",
    "saver.restore(sess, checkpoint_file)\n",
    "base_testset_loss = model.testset_loss()\n",
    "for _,i in subset:\n",
    "    z = (trainset.images[i:i+1], trainset.labels[i:i+1])\n",
    "    # compute influence\n",
    "    z_influ, z_grad = inf.of_and_g(z)\n",
    "    s_infs.append(z_influ )\n",
    "    # compute simple influence\n",
    "    s_simple_infs.append(simple_influence(z))\n",
    "    # leave one out retraining\n",
    "    model.trainset = leave_one_out_dataset(trainset, i)\n",
    "    model.update(10000, learning_rate=1e-7)\n",
    "    s_d_losses.append(base_testset_loss - model.testset_loss())\n",
    "    \n",
    "    # restore and plot\n",
    "    saver.restore(sess, checkpoint_file)\n",
    "    clear_output()\n",
    "    plt.plot(s_infs, s_d_losses, \"x\")\n",
    "    plt.show()\n",
    "    \n",
    "model.trainset = trainset"
   ]
  },
  {
   "cell_type": "code",
   "execution_count": null,
   "metadata": {
    "collapsed": true
   },
   "outputs": [],
   "source": []
  },
  {
   "cell_type": "code",
   "execution_count": null,
   "metadata": {},
   "outputs": [],
   "source": [
    "plt.plot(s_infs, s_d_losses, \"x\")\n",
    "plt.plot(np.array(infs)/scale, d_losses, \"x\", color=\"red\", alpha=0.5)"
   ]
  },
  {
   "cell_type": "code",
   "execution_count": null,
   "metadata": {},
   "outputs": [],
   "source": [
    "plt.plot(s_infs, s_d_losses, \"x\")"
   ]
  },
  {
   "cell_type": "code",
   "execution_count": null,
   "metadata": {},
   "outputs": [],
   "source": [
    "plt.plot(s_simple_infs, s_d_losses, \"x\")"
   ]
  },
  {
   "cell_type": "code",
   "execution_count": null,
   "metadata": {},
   "outputs": [],
   "source": [
    "plt.plot(s_d_losses, [1]*20, \"x\", color=\"red\")\n",
    "plt.plot(d_losses, [0]*20, \"x\")"
   ]
  },
  {
   "cell_type": "code",
   "execution_count": null,
   "metadata": {
    "collapsed": true
   },
   "outputs": [],
   "source": [
    "def plot_mnist_image(x):\n",
    "    plt.imshow(x.reshape((28,28)))\n",
    "    plt.set_cmap('gray')"
   ]
  },
  {
   "cell_type": "code",
   "execution_count": null,
   "metadata": {
    "collapsed": true
   },
   "outputs": [],
   "source": [
    "def f(a=b):\n",
    "    print(a)"
   ]
  },
  {
   "cell_type": "code",
   "execution_count": null,
   "metadata": {
    "collapsed": true
   },
   "outputs": [],
   "source": [
    "b = 2"
   ]
  },
  {
   "cell_type": "code",
   "execution_count": null,
   "metadata": {
    "collapsed": true
   },
   "outputs": [],
   "source": []
  }
 ],
 "metadata": {
  "kernelspec": {
   "display_name": "Python 3",
   "language": "python",
   "name": "python3"
  },
  "language_info": {
   "codemirror_mode": {
    "name": "ipython",
    "version": 3
   },
   "file_extension": ".py",
   "mimetype": "text/x-python",
   "name": "python",
   "nbconvert_exporter": "python",
   "pygments_lexer": "ipython3",
   "version": "3.6.0"
  }
 },
 "nbformat": 4,
 "nbformat_minor": 2
}
