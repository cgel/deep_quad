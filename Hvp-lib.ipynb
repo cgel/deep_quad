{
 "cells": [
  {
   "cell_type": "code",
   "execution_count": 1,
   "metadata": {
    "collapsed": false
   },
   "outputs": [
    {
     "name": "stdout",
     "output_type": "stream",
     "text": [
      "Extracting mnist_data/train-images-idx3-ubyte.gz\n",
      "Extracting mnist_data/train-labels-idx1-ubyte.gz\n",
      "Extracting mnist_data/t10k-images-idx3-ubyte.gz\n",
      "Extracting mnist_data/t10k-labels-idx1-ubyte.gz\n"
     ]
    }
   ],
   "source": [
    "from __future__ import absolute_import\n",
    "from __future__ import division\n",
    "from __future__ import print_function\n",
    "%matplotlib inline\n",
    "\n",
    "import matplotlib\n",
    "import matplotlib.pyplot as plt\n",
    "\n",
    "import argparse\n",
    "import sys\n",
    "import numpy as np\n",
    "\n",
    "from tensorflow.examples.tutorials.mnist import input_data\n",
    "\n",
    "import tensorflow as tf\n",
    "\n",
    "import influence\n",
    "from mnist_convnet import deepnn\n",
    "\n",
    "np.random.seed(1)\n",
    "\n",
    "def corrupt_mnist(mnist, corrupt_prob):\n",
    "    assert corrupt_prob >= 0 and corrupt_prob <= 1, \"this is not a valid corruption probability\"\n",
    "    size = len(mnist.train.labels)\n",
    "    float_mask = np.random.random([size])\n",
    "    mnist.train.corrupted_mask = np.less(float_mask, corrupt_prob)\n",
    "    mnist.train.original_labels = mnist.train.labels.copy()\n",
    "    for i in range(size):\n",
    "        if mnist.train.corrupted_mask[i] == True:            \n",
    "            corrupted_label = np.random.randint(9)\n",
    "            if np.argmax(mnist.train.labels[i]) == corrupted_label:\n",
    "                corrupted_label = 9\n",
    "            #corrupted_label = 0   \n",
    "            \n",
    "            mnist.train.labels[i] = np.zeros([10])\n",
    "            mnist.train.labels[i][corrupted_label] = 1\n",
    "    return mnist\n",
    "\n",
    "FLAGS = None\n",
    "\n",
    "# Import data\n",
    "mnist = corrupt_mnist(input_data.read_data_sets(\"mnist_data\", one_hot=True), 0.03)\n",
    "\n",
    "# Create the model\n",
    "with tf.name_scope(\"net\"):\n",
    "    input_ph = tf.placeholder(tf.float32, [None, 784])\n",
    "    y = deepnn(input_ph)\n",
    "\n",
    "# Define loss and optimizer\n",
    "with tf.name_scope(\"loss\"):\n",
    "    y_ = tf.placeholder(tf.float32, [None, 10], name=\"y_target\")\n",
    "    batch_loss = tf.nn.softmax_cross_entropy_with_logits(labels=y_, logits=y)\n",
    "    cross_entropy = tf.reduce_mean(batch_loss)\n",
    "\n",
    "lr = tf.Variable(0.1)\n",
    "opt = tf.train.AdamOptimizer(lr)\n",
    "grads_and_vars = opt.compute_gradients(cross_entropy)\n",
    "train_step = opt.apply_gradients(grads_and_vars)\n",
    "\n",
    "# Test trained model\n",
    "with tf.name_scope(\"accuracy\"):\n",
    "    correct_prediction = tf.equal(tf.argmax(y, 1), tf.argmax(y_, 1))\n",
    "    accuracy = tf.reduce_mean(tf.cast(correct_prediction, tf.float32))\n",
    "\n",
    "saver = tf.train.Saver()\n",
    "sess = tf.InteractiveSession()\n",
    "\n",
    "tf.global_variables_initializer().run()\n",
    "#saver.restore(sess, \"/home/cgel/deep_quad/mnist_convnet_corrupted.ckpt\")\n",
    "\n",
    "summary_writter = tf.summary.FileWriter(\"./Hvp_summaries\", sess.graph)"
   ]
  },
  {
   "cell_type": "code",
   "execution_count": 2,
   "metadata": {
    "collapsed": false
   },
   "outputs": [],
   "source": [
    "test_feed_dic = {input_ph: mnist.test.images, y_: mnist.test.labels}\n",
    "\n",
    "batch_xs, batch_ys = mnist.train.next_batch(mnist.test.images.shape[0])\n",
    "train_feed_dic = {input_ph:batch_xs, y_:batch_ys}\n",
    "\n",
    "testset = (mnist.test.images, mnist.test.labels)\n",
    "#Hv_trainset_size = mnist.test.images.shape[0]\n",
    "Hv_trainset_size = 10000\n",
    "Hv_trainset = mnist.train.next_batch(Hv_trainset_size)"
   ]
  },
  {
   "cell_type": "code",
   "execution_count": 3,
   "metadata": {
    "collapsed": false
   },
   "outputs": [],
   "source": [
    "gs = [g for g,v in grads_and_vars if g is not None]"
   ]
  },
  {
   "cell_type": "code",
   "execution_count": 31,
   "metadata": {
    "collapsed": false
   },
   "outputs": [
    {
     "name": "stdout",
     "output_type": "stream",
     "text": [
      "error: 0.30837\n",
      "- iter: 0\n",
      "Error: 0.324278905046\n",
      "- iter: 1\n",
      "Error: 0.215200268226\n",
      "- iter: 2\n",
      "Error: 0.12904318457\n",
      "- iter: 3\n",
      "Error: 0.0857886383745\n",
      "- iter: 4\n",
      "Error: 0.054578827261\n",
      "- iter: 5\n",
      "Error: 0.035950309499\n",
      "- iter: 6\n",
      "Error: 0.0233712253255\n",
      "- iter: 7\n",
      "Error: 0.0123431615254\n",
      "- iter: 8\n",
      "Error: 0.00993452211747\n",
      "- iter: 9\n",
      "Error: 0.00638106336196\n",
      "- iter: 10\n",
      "Error: 0.0047872017236\n",
      "- iter: 11\n",
      "Error: 0.00324520957717\n",
      "- iter: 12\n",
      "Error: 0.00214938065726\n",
      "- iter: 13\n",
      "Error: 0.0014658715665\n",
      "- iter: 14\n",
      "Error: 0.000921154745499\n",
      "- iter: 15\n",
      "Error: 0.000673519266973\n",
      "- iter: 16\n",
      "Error: 0.000447207325206\n",
      "- iter: 17\n",
      "Error: 0.000298425243935\n",
      "- iter: 18\n",
      "Error: 0.000279925524222\n",
      "- iter: 19\n",
      "Error: 0.000164314565867\n",
      "- iter: 20\n",
      "Error: 0.000101179114651\n",
      "- iter: 21\n",
      "Error: 5.72298379247e-05\n",
      "- iter: 22\n",
      "Error: 3.42553245852e-05\n",
      "- iter: 23\n",
      "Error: 2.74934271873e-05\n",
      "- iter: 24\n",
      "Error: 1.86187992146e-05\n",
      "- iter: 25\n",
      "Error: 1.13666336705e-05\n",
      "- iter: 26\n",
      "Error: 6.75446322914e-06\n",
      "- iter: 27\n",
      "Error: 4.6468729622e-06\n",
      "- iter: 28\n",
      "Error: 3.73083951424e-06\n",
      "- iter: 29\n",
      "Error: 3.34570034038e-06\n",
      "- iter: 30\n",
      "Error: 2.60657900619e-06\n",
      "- iter: 31\n",
      "Error: 2.4662459273e-06\n",
      "- iter: 32\n",
      "Error: 2.38850290662e-06\n",
      "- iter: 33\n",
      "Error: 2.34204572704e-06\n",
      "- iter: 34\n",
      "Error: 2.33162189489e-06\n",
      "- iter: 35\n",
      "Error: 2.28825419159e-06\n",
      "- iter: 36\n",
      "Error: 2.25416484333e-06\n",
      "- iter: 37\n",
      "Error: 2.26724186518e-06\n",
      "- iter: 38\n",
      "Error: 2.23712308636e-06\n",
      "- iter: 39\n",
      "Error: 2.26741085291e-06\n",
      "- iter: 40\n",
      "Error: 2.26493477792e-06\n",
      "- iter: 41\n",
      "Error: 2.2296082006e-06\n",
      "- iter: 42\n",
      "Error: 2.24832032911e-06\n",
      "- iter: 43\n",
      "Error: 2.24564129099e-06\n",
      "- iter: 44\n",
      "Error: 2.26983010845e-06\n",
      "- iter: 45\n",
      "Error: 2.26625160275e-06\n",
      "- iter: 46\n",
      "Error: 2.26465135738e-06\n",
      "- iter: 47\n",
      "Error: 2.27443429416e-06\n",
      "- iter: 48\n",
      "Error: 2.24574243064e-06\n",
      "- iter: 49\n",
      "Error: 2.25589886331e-06\n"
     ]
    }
   ],
   "source": [
    "inf = influence.Influence(cross_entropy, input_ph, y_, testset, Hv_trainset, grads=gs, cg_iters = 50, dampening=5e-1, vervose=1)"
   ]
  },
  {
   "cell_type": "code",
   "execution_count": 32,
   "metadata": {
    "collapsed": false
   },
   "outputs": [],
   "source": [
    "influences_corrupted = []\n",
    "influences_non_corrupted = []\n",
    "#size = len(mnist.train.labels)\n",
    "size = 1000\n",
    "for i in range(size):\n",
    "    z = (mnist.train.images[i:i+1], mnist.train.labels[i:i+1])\n",
    "    influ = inf.of(z)\n",
    "    if mnist.train.corrupted_mask[i]:\n",
    "        influences_corrupted.append(influ)\n",
    "    else:\n",
    "        influences_non_corrupted.append(influ)\n",
    "all_influences = influences_corrupted + influences_non_corrupted"
   ]
  },
  {
   "cell_type": "code",
   "execution_count": 25,
   "metadata": {
    "collapsed": false
   },
   "outputs": [
    {
     "name": "stdout",
     "output_type": "stream",
     "text": [
      "non corrupted\n",
      "mean -3.61476422059e-06\n",
      "std 3.3820495475e-05\n"
     ]
    }
   ],
   "source": [
    "print(\"non corrupted\")\n",
    "print(\"mean\",np.mean( influences_non_corrupted))\n",
    "print(\"std\",np.std( influences_non_corrupted))"
   ]
  },
  {
   "cell_type": "code",
   "execution_count": 26,
   "metadata": {
    "collapsed": false
   },
   "outputs": [
    {
     "name": "stdout",
     "output_type": "stream",
     "text": [
      "corrupted\n",
      "mean 4.13055946568e-06\n",
      "std 7.22604729255e-05\n"
     ]
    }
   ],
   "source": [
    "print(\"corrupted\")\n",
    "print(\"mean\",np.mean( influences_corrupted))\n",
    "print(\"std\",np.std( influences_corrupted))"
   ]
  },
  {
   "cell_type": "code",
   "execution_count": 30,
   "metadata": {
    "collapsed": false
   },
   "outputs": [
    {
     "data": {
      "image/png": "[encoded data removed]",
      "text/plain": [
       "<matplotlib.figure.Figure at 0x7fa92e31b588>"
      ]
     },
     "metadata": {},
     "output_type": "display_data"
    }
   ],
   "source": [
    "bins = np.linspace(min(all_influences), max(all_influences), 60)\n",
    "sub_non_corrupted = influences_non_corrupted[0:len(influences_corrupted)]\n",
    "matplotlib.pyplot.hist(influences_corrupted, bins, alpha=0.5, label='x', color=\"red\")\n",
    "matplotlib.pyplot.hist(sub_non_corrupted, bins, alpha=0.5, label='y', color=\"green\")\n",
    "matplotlib.pyplot.show()"
   ]
  },
  {
   "cell_type": "code",
   "execution_count": 47,
   "metadata": {
    "collapsed": false
   },
   "outputs": [
    {
     "name": "stdout",
     "output_type": "stream",
     "text": [
      "296\n",
      "296\n",
      "9704\n",
      "0.0 1.30545\n",
      "[ 0.          0.03347301  0.06694601  0.10041902  0.13389202  0.16736503\n",
      "  0.20083803  0.23431104  0.26778405  0.30125705  0.33473006  0.36820306\n",
      "  0.40167607  0.43514907  0.46862208  0.50209508  0.53556809  0.5690411\n",
      "  0.6025141   0.63598711  0.66946011  0.70293312  0.73640612  0.76987913\n",
      "  0.80335214  0.83682514  0.87029815  0.90377115  0.93724416  0.97071716\n",
      "  1.00419017  1.03766318  1.07113618  1.10460919  1.13808219  1.1715552\n",
      "  1.2050282   1.23850121  1.27197422  1.30544722]\n"
     ]
    },
    {
     "data": {
      "image/png": "[encoded data removed]",
      "text/plain": [
       "<matplotlib.figure.Figure at 0x7fa9e87b57f0>"
      ]
     },
     "metadata": {},
     "output_type": "display_data"
    },
    {
     "name": "stdout",
     "output_type": "stream",
     "text": [
      "avrg corrupted loss: 0.0932193672115\n",
      "avrg non corrupted loss: 0.0041527402368\n"
     ]
    }
   ],
   "source": [
    "b_loss_np = sess.run(batch_loss, train_feed_dic)\n",
    "corrupted_loss = 0\n",
    "corrupted_count = 0\n",
    "non_corrupted_loss = 0\n",
    "corrupted_grad_list = []\n",
    "non_corrupted_grad_list = []\n",
    "for i in range(len(b_loss_np)):\n",
    "    if mnist.train.corrupted_mask[i] == True:\n",
    "        corrupted_loss += b_loss_np[i]\n",
    "        corrupted_grad_list.append(b_loss_np[i])\n",
    "        corrupted_count += 1\n",
    "    else:\n",
    "        non_corrupted_loss += b_loss_np[i]\n",
    "        non_corrupted_grad_list.append(b_loss_np[i])\n",
    "        \n",
    "non_corrupted_count = len(b_loss_np) - corrupted_count\n",
    "\n",
    "sub_non_corrupted = non_corrupted_grad_list[0:len(corrupted_grad_list)]\n",
    "print(len(sub_non_corrupted))\n",
    "print(len(corrupted_grad_list))\n",
    "print(len(non_corrupted_grad_list))\n",
    "print(min(b_loss_np), max(b_loss_np))\n",
    "bins = np.linspace(min(b_loss_np), max(b_loss_np), 40)\n",
    "print(bins)\n",
    "matplotlib.pyplot.hist(sub_non_corrupted, bins, alpha=0.5, label='y', color=\"green\", normed=True)[1]\n",
    "matplotlib.pyplot.hist(corrupted_grad_list, bins, alpha=0.5, label='x', color=\"red\", normed=True)[1]\n",
    "matplotlib.pyplot.show()\n",
    "\n",
    "print(\"avrg corrupted loss:\", corrupted_loss/corrupted_count)\n",
    "print(\"avrg non corrupted loss:\", non_corrupted_loss/non_corrupted_count)"
   ]
  },
  {
   "cell_type": "code",
   "execution_count": 23,
   "metadata": {
    "collapsed": false
   },
   "outputs": [
    {
     "name": "stdout",
     "output_type": "stream",
     "text": [
      "296\n",
      "296\n",
      "9704\n",
      "0.0 3.79885\n",
      "[ 0.2         0.24555509  0.29111019  0.33666528  0.38222038  0.42777547\n",
      "  0.47333057  0.51888566  0.56444075  0.60999585  0.65555094  0.70110604\n",
      "  0.74666113  0.79221622  0.83777132  0.88332641  0.92888151  0.9744366\n",
      "  1.0199917   1.06554679  1.11110188  1.15665698  1.20221207  1.24776717\n",
      "  1.29332226  1.33887736  1.38443245  1.42998754  1.47554264  1.52109773\n",
      "  1.56665283  1.61220792  1.65776302  1.70331811  1.7488732   1.7944283\n",
      "  1.83998339  1.88553849  1.93109358  1.97664867  2.02220377  2.06775886\n",
      "  2.11331396  2.15886905  2.20442415  2.24997924  2.29553433  2.34108943\n",
      "  2.38664452  2.43219962  2.47775471  2.52330981  2.5688649   2.61441999\n",
      "  2.65997509  2.70553018  2.75108528  2.79664037  2.84219546  2.88775056\n",
      "  2.93330565  2.97886075  3.02441584  3.06997094  3.11552603  3.16108112\n",
      "  3.20663622  3.25219131  3.29774641  3.3433015   3.3888566   3.43441169\n",
      "  3.47996678  3.52552188  3.57107697  3.61663207  3.66218716  3.70774226\n",
      "  3.75329735  3.79885244]\n"
     ]
    },
    {
     "data": {
      "image/png": "[encoded data removed]",
      "text/plain": [
       "<matplotlib.figure.Figure at 0x7fcb81c3cbe0>"
      ]
     },
     "metadata": {},
     "output_type": "display_data"
    },
    {
     "name": "stdout",
     "output_type": "stream",
     "text": [
      "avrg corrupted loss: 0.140657840519\n",
      "avrg non corrupted loss: 0.00885041745615\n"
     ]
    }
   ],
   "source": [
    "b_loss_np = sess.run(batch_loss, train_feed_dic)\n",
    "corrupted_loss = 0\n",
    "corrupted_count = 0\n",
    "non_corrupted_loss = 0\n",
    "corrupted_grad_list = []\n",
    "non_corrupted_grad_list = []\n",
    "for i in range(len(b_loss_np)):\n",
    "    if mnist.train.corrupted_mask[i] == True:\n",
    "        corrupted_loss += b_loss_np[i]\n",
    "        corrupted_grad_list.append(b_loss_np[i])\n",
    "        corrupted_count += 1\n",
    "    else:\n",
    "        non_corrupted_loss += b_loss_np[i]\n",
    "        non_corrupted_grad_list.append(b_loss_np[i])\n",
    "        \n",
    "non_corrupted_count = len(b_loss_np) - corrupted_count\n",
    "\n",
    "sub_non_corrupted = non_corrupted_grad_list[0:len(corrupted_grad_list)]\n",
    "print(len(sub_non_corrupted))\n",
    "print(len(corrupted_grad_list))\n",
    "print(len(non_corrupted_grad_list))\n",
    "print(min(b_loss_np), max(b_loss_np))\n",
    "bins = np.linspace(min(b_loss_np)+0.2, max(b_loss_np), 80)\n",
    "print(bins)\n",
    "non_c_hist = matplotlib.pyplot.hist(sub_non_corrupted, bins, alpha=0.5, label='y', color=\"green\", normed=False)[0]\n",
    "c_hist = matplotlib.pyplot.hist(corrupted_grad_list, bins, alpha=0.5, label='x', color=\"red\", normed=False)[0]\n",
    "matplotlib.pyplot.show()\n",
    "\n",
    "print(\"avrg corrupted loss:\", corrupted_loss/corrupted_count)\n",
    "print(\"avrg non corrupted loss:\", non_corrupted_loss/non_corrupted_count)"
   ]
  },
  {
   "cell_type": "code",
   "execution_count": 20,
   "metadata": {
    "collapsed": false
   },
   "outputs": [
    {
     "name": "stderr",
     "output_type": "stream",
     "text": [
      "/usr/local/lib/python3.6/site-packages/ipykernel/__main__.py:1: RuntimeWarning: invalid value encountered in true_divide\n",
      "  if __name__ == '__main__':\n"
     ]
    }
   ],
   "source": [
    "ratio = non_c_hist/c_hist"
   ]
  },
  {
   "cell_type": "code",
   "execution_count": 5,
   "metadata": {
    "collapsed": false
   },
   "outputs": [],
   "source": [
    "def train(n, learning_rate=0.1e-4):\n",
    "    sess.run(tf.assign(lr, learning_rate))\n",
    "    for _ in range(n):\n",
    "        batch_xs, batch_ys = mnist.train.next_batch(64)\n",
    "        sess.run(train_step, feed_dict={input_ph: batch_xs, y_: batch_ys})\n",
    "        \n",
    "def test():\n",
    "    print(\"test acc\",sess.run(accuracy, feed_dict={input_ph: mnist.test.images,\n",
    "                                  y_: mnist.test.labels}))\n",
    "    print(\"train acc\",sess.run(accuracy, train_feed_dic))    \n",
    "    print(\"---\")"
   ]
  },
  {
   "cell_type": "code",
   "execution_count": 6,
   "metadata": {
    "collapsed": false
   },
   "outputs": [
    {
     "name": "stdout",
     "output_type": "stream",
     "text": [
      "test acc 0.109\n",
      "train acc 0.1035\n",
      "---\n"
     ]
    }
   ],
   "source": [
    "test()"
   ]
  },
  {
   "cell_type": "code",
   "execution_count": 7,
   "metadata": {
    "collapsed": false
   },
   "outputs": [
    {
     "name": "stdout",
     "output_type": "stream",
     "text": [
      "test acc 0.109\n",
      "train acc 0.1035\n",
      "---\n",
      "test acc 0.963\n",
      "train acc 0.944\n",
      "---\n",
      "test acc 0.9701\n",
      "train acc 0.958\n",
      "---\n",
      "test acc 0.9746\n",
      "train acc 0.9639\n",
      "---\n",
      "test acc 0.9763\n",
      "train acc 0.9675\n",
      "---\n",
      "test acc 0.9764\n",
      "train acc 0.9698\n",
      "---\n",
      "XXXX\n",
      "test acc 0.9768\n",
      "train acc 0.9717\n",
      "---\n",
      "test acc 0.9767\n",
      "train acc 0.9742\n",
      "---\n",
      "test acc 0.9766\n",
      "train acc 0.9775\n",
      "---\n"
     ]
    }
   ],
   "source": [
    "test()\n",
    "for i in range(5):\n",
    "    train(10000)\n",
    "    test()\n",
    "print(\"XXXX\")\n",
    "for i in range(3):\n",
    "    train(10000, 1e-5)\n",
    "    test() "
   ]
  },
  {
   "cell_type": "code",
   "execution_count": null,
   "metadata": {
    "collapsed": true
   },
   "outputs": [],
   "source": []
  },
  {
   "cell_type": "code",
   "execution_count": 7,
   "metadata": {
    "collapsed": false
   },
   "outputs": [
    {
     "name": "stdout",
     "output_type": "stream",
     "text": [
      "train\n",
      "grad norm 0.573525842199\n",
      "loss 0.00289565\n"
     ]
    }
   ],
   "source": [
    "gs_np, loss = sess.run([gs, cross_entropy], feed_dict=train_feed_dic)\n",
    "print(\"train\")\n",
    "print(\"grad norm\",influence.lnorm(gs_np))\n",
    "print(\"loss\", loss)"
   ]
  },
  {
   "cell_type": "code",
   "execution_count": 8,
   "metadata": {
    "collapsed": false
   },
   "outputs": [
    {
     "name": "stdout",
     "output_type": "stream",
     "text": [
      "test\n",
      "grad norm 3.28231045713\n",
      "loss 0.275521\n"
     ]
    }
   ],
   "source": [
    "gs_np, loss = sess.run([gs, cross_entropy], feed_dict=test_feed_dic)\n",
    "print(\"test\")\n",
    "print(\"grad norm\",influence.lnorm(gs_np))\n",
    "print(\"loss\", loss)"
   ]
  },
  {
   "cell_type": "code",
   "execution_count": null,
   "metadata": {
    "collapsed": true
   },
   "outputs": [],
   "source": []
  },
  {
   "cell_type": "code",
   "execution_count": 14,
   "metadata": {
    "collapsed": false
   },
   "outputs": [
    {
     "data": {
      "text/plain": [
       "'/home/cgel/deep_quad/mnist_convnet_corrupted.ckpt'"
      ]
     },
     "execution_count": 14,
     "metadata": {},
     "output_type": "execute_result"
    }
   ],
   "source": [
    "saver.save(sess, \"/home/cgel/deep_quad/mnist_convnet_corrupted.ckpt\")"
   ]
  },
  {
   "cell_type": "code",
   "execution_count": null,
   "metadata": {
    "collapsed": true
   },
   "outputs": [],
   "source": []
  },
  {
   "cell_type": "code",
   "execution_count": null,
   "metadata": {
    "collapsed": true
   },
   "outputs": [],
   "source": []
  },
  {
   "cell_type": "code",
   "execution_count": 7,
   "metadata": {
    "collapsed": false
   },
   "outputs": [
    {
     "name": "stdout",
     "output_type": "stream",
     "text": [
      "------\n",
      "i: 0\n",
      "e_value: 0.00209694207342\n",
      "d: 0.000463992465079\n",
      "------\n",
      "i: 1\n",
      "e_value: 0.208728579166\n",
      "d: 0.125567949542\n",
      "------\n",
      "i: 2\n",
      "e_value: 0.324813067168\n",
      "d: 0.300162498384\n",
      "------\n",
      "i: 3\n",
      "e_value: 0.359543528431\n",
      "d: 0.411048534363\n",
      "------\n",
      "i: 4\n",
      "e_value: 0.374532068351\n",
      "d: 0.478665687999\n",
      "------\n",
      "i: 5\n",
      "e_value: 0.381948688661\n",
      "d: 0.516788905821\n",
      "------\n",
      "i: 6\n",
      "e_value: 0.386042167284\n",
      "d: 0.534752966201\n",
      "------\n",
      "i: 7\n",
      "e_value: 0.388610587858\n",
      "d: 0.538380275956\n",
      "------\n",
      "i: 8\n",
      "e_value: 0.390461300743\n",
      "d: 0.53107601776\n",
      "------\n",
      "i: 9\n",
      "e_value: 0.391975541989\n",
      "d: 0.514732760272\n",
      "------\n",
      "i: 10\n",
      "e_value: 0.39335060605\n",
      "d: 0.490329457008\n",
      "------\n",
      "i: 11\n",
      "e_value: 0.394694985212\n",
      "d: 0.458311550666\n",
      "------\n",
      "i: 12\n",
      "e_value: 0.396076195252\n",
      "d: 0.418841258751\n",
      "------\n",
      "i: 13\n",
      "e_value: 0.39753462587\n",
      "d: 0.371977643307\n",
      "------\n",
      "i: 14\n",
      "e_value: 0.399097710709\n",
      "d: 0.31781342407\n",
      "------\n",
      "i: 15\n",
      "e_value: 0.400778156071\n",
      "d: 0.256585544159\n",
      "------\n",
      "i: 16\n",
      "e_value: 0.40257995568\n",
      "d: 0.188761466421\n",
      "------\n",
      "i: 17\n",
      "e_value: 0.404494614403\n",
      "d: 0.115096336608\n",
      "------\n",
      "i: 18\n",
      "e_value: 0.406506348658\n",
      "d: 0.0366534526281\n",
      "------\n",
      "i: 19\n",
      "e_value: 0.408587911331\n",
      "d: 0.0452176769198\n",
      "------\n",
      "i: 20\n",
      "e_value: 0.410707322493\n",
      "d: 0.128947080891\n",
      "------\n",
      "i: 21\n",
      "e_value: 0.412826550934\n",
      "d: 0.212846285119\n",
      "------\n",
      "i: 22\n",
      "e_value: 0.41490775805\n",
      "d: 0.295232049782\n",
      "------\n",
      "i: 23\n",
      "e_value: 0.416913529194\n",
      "d: 0.374551467812\n",
      "------\n",
      "i: 24\n",
      "e_value: 0.41881263896\n",
      "d: 0.449487327115\n",
      "------\n",
      "i: 25\n",
      "e_value: 0.420579190233\n",
      "d: 0.519030008627\n",
      "------\n",
      "i: 26\n",
      "e_value: 0.422196728447\n",
      "d: 0.582507801647\n",
      "------\n",
      "i: 27\n",
      "e_value: 0.423655349951\n",
      "d: 0.639579693673\n",
      "------\n",
      "i: 28\n",
      "e_value: 0.424953187941\n",
      "d: 0.690197214094\n",
      "------\n",
      "i: 29\n",
      "e_value: 0.426094233984\n",
      "d: 0.734548645886\n",
      "------\n",
      "i: 30\n",
      "e_value: 0.427086351719\n",
      "d: 0.772996731407\n",
      "------\n",
      "i: 31\n",
      "e_value: 0.42794164029\n",
      "d: 0.806017710606\n",
      "------\n",
      "i: 32\n",
      "e_value: 0.428672609246\n",
      "d: 0.834148789762\n",
      "------\n",
      "i: 33\n",
      "e_value: 0.42929372711\n",
      "d: 0.857947135957\n",
      "------\n",
      "i: 34\n",
      "e_value: 0.429817547394\n",
      "d: 0.877959323456\n",
      "------\n",
      "i: 35\n",
      "e_value: 0.430257921983\n",
      "d: 0.894700145546\n",
      "------\n",
      "i: 36\n",
      "e_value: 0.43062606969\n",
      "d: 0.908641016608\n",
      "------\n",
      "i: 37\n",
      "e_value: 0.430933412268\n",
      "d: 0.920204055221\n",
      "------\n",
      "i: 38\n",
      "e_value: 0.431188842964\n",
      "d: 0.929760324463\n",
      "------\n",
      "i: 39\n",
      "e_value: 0.431400807618\n",
      "d: 0.937632487006\n",
      "------\n",
      "i: 40\n",
      "e_value: 0.431576178347\n",
      "d: 0.944096992857\n",
      "------\n",
      "i: 41\n",
      "e_value: 0.431721544808\n",
      "d: 0.949388988066\n",
      "------\n",
      "i: 42\n",
      "e_value: 0.431841045415\n",
      "d: 0.953707448005\n",
      "------\n",
      "i: 43\n",
      "e_value: 0.431940020485\n",
      "d: 0.957219211197\n",
      "------\n",
      "i: 44\n",
      "e_value: 0.432021325614\n",
      "d: 0.960064080792\n",
      "------\n",
      "i: 45\n",
      "e_value: 0.432088706478\n",
      "d: 0.962358261788\n",
      "------\n",
      "i: 46\n",
      "e_value: 0.432143860634\n",
      "d: 0.96419806271\n",
      "------\n",
      "i: 47\n",
      "e_value: 0.432189611691\n",
      "d: 0.965663735756\n",
      "------\n",
      "i: 48\n",
      "e_value: 0.432226741007\n",
      "d: 0.966821039846\n",
      "------\n",
      "i: 49\n",
      "e_value: 0.432257900282\n",
      "d: 0.967724824757\n",
      "------\n",
      "i: 50\n",
      "e_value: 0.432282919011\n",
      "d: 0.96841989909\n",
      "------\n",
      "i: 51\n",
      "e_value: 0.432304107724\n",
      "d: 0.968943008329\n",
      "------\n",
      "i: 52\n",
      "e_value: 0.432321057934\n",
      "d: 0.969324753536\n",
      "------\n",
      "i: 53\n",
      "e_value: 0.432335594334\n",
      "d: 0.96959016852\n",
      "------\n",
      "i: 54\n",
      "e_value: 0.432347060564\n",
      "d: 0.969759865909\n",
      "------\n",
      "i: 55\n",
      "e_value: 0.432356853397\n",
      "d: 0.969850556868\n",
      "------\n",
      "i: 56\n",
      "e_value: 0.432364613275\n",
      "d: 0.969875861799\n",
      "------\n",
      "i: 57\n",
      "e_value: 0.432371623709\n",
      "d: 0.969847562055\n",
      "------\n",
      "i: 58\n",
      "e_value: 0.432376683544\n",
      "d: 0.96977437276\n",
      "------\n",
      "i: 59\n",
      "e_value: 0.432381366484\n",
      "d: 0.969664275792\n",
      "------\n",
      "i: 60\n",
      "e_value: 0.432384971578\n",
      "d: 0.969523255292\n",
      "------\n",
      "i: 61\n",
      "e_value: 0.432388413151\n",
      "d: 0.969356665258\n",
      "------\n",
      "i: 62\n",
      "e_value: 0.432390653796\n",
      "d: 0.969168616174\n",
      "------\n",
      "i: 63\n",
      "e_value: 0.432393228272\n",
      "d: 0.968962551255\n",
      "------\n",
      "i: 64\n",
      "e_value: 0.432394875719\n",
      "d: 0.968741332509\n",
      "------\n",
      "i: 65\n",
      "e_value: 0.43239670393\n",
      "d: 0.96850699516\n",
      "------\n",
      "i: 66\n",
      "e_value: 0.432397730766\n",
      "d: 0.968261478113\n",
      "------\n",
      "i: 67\n",
      "e_value: 0.432399221339\n",
      "d: 0.968006483028\n",
      "------\n",
      "i: 68\n",
      "e_value: 0.43239992715\n",
      "d: 0.967743212932\n",
      "------\n",
      "i: 69\n",
      "e_value: 0.43240112793\n",
      "d: 0.967472529239\n",
      "------\n",
      "i: 70\n",
      "e_value: 0.432401602189\n",
      "d: 0.967195296968\n",
      "------\n",
      "i: 71\n",
      "e_value: 0.432402660172\n",
      "d: 0.966912387446\n",
      "------\n",
      "i: 72\n",
      "e_value: 0.432402859218\n",
      "d: 0.966624238808\n",
      "------\n",
      "i: 73\n",
      "e_value: 0.432403872707\n",
      "d: 0.966331212429\n",
      "------\n",
      "i: 74\n",
      "e_value: 0.432404057647\n",
      "d: 0.966033563242\n",
      "------\n",
      "i: 75\n",
      "e_value: 0.432404734759\n",
      "d: 0.965731973631\n",
      "------\n",
      "i: 76\n",
      "e_value: 0.432405093148\n",
      "d: 0.965426821715\n",
      "------\n",
      "i: 77\n",
      "e_value: 0.432405605622\n",
      "d: 0.965117770391\n",
      "------\n",
      "i: 78\n",
      "e_value: 0.43240597136\n",
      "d: 0.964805045036\n",
      "------\n",
      "i: 79\n",
      "e_value: 0.432406342935\n",
      "d: 0.964488934566\n",
      "------\n",
      "i: 80\n",
      "e_value: 0.432406619725\n",
      "d: 0.964169418606\n",
      "------\n",
      "i: 81\n",
      "e_value: 0.432407132174\n",
      "d: 0.96384673095\n",
      "------\n",
      "i: 82\n",
      "e_value: 0.432407368458\n",
      "d: 0.963520741799\n",
      "------\n",
      "i: 83\n",
      "e_value: 0.43240800231\n",
      "d: 0.963191327749\n",
      "------\n",
      "i: 84\n",
      "e_value: 0.432408085878\n",
      "d: 0.962858887667\n",
      "------\n",
      "i: 85\n",
      "e_value: 0.432408764008\n",
      "d: 0.962523206541\n",
      "------\n",
      "i: 86\n",
      "e_value: 0.432408807488\n",
      "d: 0.96218453031\n",
      "------\n",
      "i: 87\n",
      "e_value: 0.432409501492\n",
      "d: 0.961842455622\n",
      "------\n",
      "i: 88\n",
      "e_value: 0.432409563032\n",
      "d: 0.961497426358\n",
      "------\n",
      "i: 89\n",
      "e_value: 0.432410320873\n",
      "d: 0.961149097726\n",
      "------\n",
      "i: 90\n",
      "e_value: 0.432410219705\n",
      "d: 0.96079775018\n",
      "------\n",
      "i: 91\n",
      "e_value: 0.432411001437\n",
      "d: 0.960443126717\n",
      "------\n",
      "i: 92\n",
      "e_value: 0.432411001308\n",
      "d: 0.96008523622\n",
      "------\n",
      "i: 93\n",
      "e_value: 0.432411587496\n",
      "d: 0.959724200376\n",
      "------\n",
      "i: 94\n",
      "e_value: 0.432411744999\n",
      "d: 0.959360106091\n",
      "------\n",
      "i: 95\n",
      "e_value: 0.432412376642\n",
      "d: 0.958992589817\n",
      "------\n",
      "i: 96\n",
      "e_value: 0.432412406117\n",
      "d: 0.958621916486\n",
      "------\n",
      "i: 97\n",
      "e_value: 0.432413162068\n",
      "d: 0.958247813186\n",
      "------\n",
      "i: 98\n",
      "e_value: 0.43241315095\n",
      "d: 0.957870184219\n",
      "------\n",
      "i: 99\n",
      "e_value: 0.432413794682\n",
      "d: 0.95748955384\n"
     ]
    },
    {
     "data": {
      "text/plain": [
       "0.43241379468192576"
      ]
     },
     "execution_count": 7,
     "metadata": {},
     "output_type": "execute_result"
    }
   ],
   "source": [
    "inf.power_iteration(iters=100, epsilon=0.0000001)"
   ]
  },
  {
   "cell_type": "code",
   "execution_count": null,
   "metadata": {
    "collapsed": true
   },
   "outputs": [],
   "source": []
  },
  {
   "cell_type": "code",
   "execution_count": 8,
   "metadata": {
    "collapsed": true
   },
   "outputs": [],
   "source": [
    "mnist.train.c_labels = mnist.train.labels.copy()"
   ]
  },
  {
   "cell_type": "code",
   "execution_count": 10,
   "metadata": {
    "collapsed": false
   },
   "outputs": [],
   "source": [
    "mnist.train.labels[:] = np.zeros_like(mnist.train.labels)"
   ]
  },
  {
   "cell_type": "code",
   "execution_count": null,
   "metadata": {
    "collapsed": true
   },
   "outputs": [],
   "source": []
  },
  {
   "cell_type": "code",
   "execution_count": null,
   "metadata": {
    "collapsed": true
   },
   "outputs": [],
   "source": []
  },
  {
   "cell_type": "code",
   "execution_count": 13,
   "metadata": {
    "collapsed": false
   },
   "outputs": [
    {
     "data": {
      "text/plain": [
       "array([[ 0.,  0.,  0.,  0.,  0.,  0.,  0.,  0.,  0.,  0.]])"
      ]
     },
     "execution_count": 13,
     "metadata": {},
     "output_type": "execute_result"
    }
   ],
   "source": [
    "mnist.train.next_batch(1)[1]"
   ]
  },
  {
   "cell_type": "code",
   "execution_count": null,
   "metadata": {
    "collapsed": true
   },
   "outputs": [],
   "source": []
  }
 ],
 "metadata": {
  "kernelspec": {
   "display_name": "Python 3",
   "language": "python",
   "name": "python3"
  },
  "language_info": {
   "codemirror_mode": {
    "name": "ipython",
    "version": 3
   },
   "file_extension": ".py",
   "mimetype": "text/x-python",
   "name": "python",
   "nbconvert_exporter": "python",
   "pygments_lexer": "ipython3",
   "version": "3.6.0"
  }
 },
 "nbformat": 4,
 "nbformat_minor": 2
}
